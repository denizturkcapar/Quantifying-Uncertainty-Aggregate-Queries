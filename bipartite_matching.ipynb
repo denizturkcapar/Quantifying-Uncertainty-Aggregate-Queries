{
 "cells": [
  {
   "cell_type": "markdown",
   "metadata": {},
   "source": [
    "## Maximal Bipartite Matching for Inexact Matches Between 2 Tables"
   ]
  },
  {
   "cell_type": "markdown",
   "metadata": {},
   "source": [
    "#### Goal: Explore some interesting problems around using PC's to model fuzzy joins \n",
    "\n",
    "#### Some examples: inexact matches between tables, finding the highest and lowest possible aggregate after a match)"
   ]
  },
  {
   "cell_type": "markdown",
   "metadata": {},
   "source": [
    "Task: Build a maximal bipartite matching algorithm"
   ]
  },
  {
   "cell_type": "markdown",
   "metadata": {},
   "source": [
    "Step 1: Define a graph in terms of a dictionary"
   ]
  },
  {
   "cell_type": "code",
   "execution_count": 3,
   "metadata": {},
   "outputs": [],
   "source": [
    "# import dictionary for graph \n",
    "from collections import defaultdict \n",
    "  \n",
    "# function for adding edge to graph \n",
    "graph = defaultdict(list) \n",
    "def addEdge(graph,u,v): \n",
    "    graph[u].append(v) \n",
    "    \n",
    "# Create a graph in terms of a dictionary\n",
    "def generate_edges(graph): \n",
    "    edges = [] \n",
    "  \n",
    "    # for each node in graph \n",
    "    for node in graph: \n",
    "          \n",
    "        # for each neighbour node of a single node \n",
    "        for neighbour in graph[node]: \n",
    "              \n",
    "            # if edge exists then append \n",
    "            edges.append((node, neighbour)) \n",
    "    return edges "
   ]
  },
  {
   "cell_type": "markdown",
   "metadata": {},
   "source": [
    "Tests:"
   ]
  },
  {
   "cell_type": "code",
   "execution_count": 4,
   "metadata": {},
   "outputs": [
    {
     "name": "stdout",
     "output_type": "stream",
     "text": [
      "[('a', 'c'), ('b', 'c'), ('b', 'e'), ('c', 'd'), ('c', 'e'), ('c', 'a'), ('c', 'b'), ('e', 'b'), ('e', 'c'), ('d', 'c')]\n"
     ]
    }
   ],
   "source": [
    "# declaration of graph as dictionary \n",
    "addEdge(graph,'a','c') \n",
    "addEdge(graph,'b','c') \n",
    "addEdge(graph,'b','e') \n",
    "addEdge(graph,'c','d') \n",
    "addEdge(graph,'c','e') \n",
    "addEdge(graph,'c','a') \n",
    "addEdge(graph,'c','b') \n",
    "addEdge(graph,'e','b') \n",
    "addEdge(graph,'d','c') \n",
    "addEdge(graph,'e','c') \n",
    "  \n",
    "# Driver Function call  \n",
    "# to print generated graph \n",
    "print(generate_edges(graph))"
   ]
  },
  {
   "cell_type": "markdown",
   "metadata": {},
   "source": [
    "Step 2: Detail possible edge cases for maximal bipartite matching"
   ]
  },
  {
   "cell_type": "code",
   "execution_count": null,
   "metadata": {},
   "outputs": [],
   "source": []
  },
  {
   "cell_type": "markdown",
   "metadata": {},
   "source": [
    "Step 3: Maximal Bipartite Matching Algorithm"
   ]
  },
  {
   "cell_type": "code",
   "execution_count": null,
   "metadata": {},
   "outputs": [],
   "source": []
  }
 ],
 "metadata": {
  "kernelspec": {
   "display_name": "Python 3",
   "language": "python",
   "name": "python3"
  },
  "language_info": {
   "codemirror_mode": {
    "name": "ipython",
    "version": 3
   },
   "file_extension": ".py",
   "mimetype": "text/x-python",
   "name": "python",
   "nbconvert_exporter": "python",
   "pygments_lexer": "ipython3",
   "version": "3.7.0"
  }
 },
 "nbformat": 4,
 "nbformat_minor": 2
}
