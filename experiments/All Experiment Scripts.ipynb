{
 "cells": [
  {
   "cell_type": "markdown",
   "metadata": {},
   "source": [
    "# All Experiment Scripts"
   ]
  },
  {
   "cell_type": "markdown",
   "metadata": {},
   "source": [
    "Cases: \n",
    "1. Balanced Data X\n",
    "2. Skewed Matchings Data X\n",
    "3. When Similarity Metric is not optimal \n",
    "4. Bad similarity metric, i.e. random edges between matches.\n",
    "5. Ages Skewed Data\n",
    "\n",
    "### Experiments:\n",
    "\n",
    "#### Experiment 1. Measure model performance of max and min predictions against perfect mappings. A tighter max-min interval and closeness to perfect matching indicates better model performance.\n",
    "\n",
    "#### Experiment 2. Measure the tightness of expected sum interval for each model. A tighter window might imply the model is more precise.\n",
    "\n",
    "#### Experiment 3. Measure approach accuracy when data is skewed. Closeness to 0 might indicate better model performance in terms of accuracy when data is skewed. \n",
    "\n",
    "#### Experiment 4. Optimality of the similarity threshold vs the overestimation rate (upperbound - perfect result)\n",
    "\n",
    "#### Experiment 5. Quality of the similarity Metric vs the over-estimation rate (upperbound - perfect result)"
   ]
  },
  {
   "cell_type": "code",
   "execution_count": null,
   "metadata": {},
   "outputs": [],
   "source": [
    "import experiment_funcs\n",
    "import experiment_visualizer"
   ]
  },
  {
   "cell_type": "code",
   "execution_count": null,
   "metadata": {},
   "outputs": [],
   "source": [
    "for i in range(1):\n",
    "    # Create Randomized Data\n",
    "    table_a_non_duplicated, table_b, table_a_dup, tables_map, perfect_mapping, perfect_mapping_sum_result = experiment_funcs.create_skewed_data(3, \"table1\", \"table2\", \"table1_dup\", 3)\n",
    "    # Bipartite Matching Script\n",
    "    total_max, total_min, bip_min_matching_time, bip_max_matching_time, out_max, out_min = experiment_funcs.sum_bip_script(table_a_non_duplicated, table_b, \"name\", 0.2, 3, tables_map)\n",
    "    # Run Naive Matching Script\n",
    "    naive_total_max, naive_total_min, naive_min_matching_time, naive_max_matching_time, naive_max, naive_min = experiment_funcs.sum_naive_script(0.2, \"table1\", \"table2\", table_a_non_duplicated, 3, \"naive_dup\")\n",
    "    # Run Random Matching Script\n",
    "    sampled_total_max, sampled_total_min, sampled_min_matching_time, sampled_max_matching_time, sampled_max, sampled_min = experiment_funcs.sum_random_sample_script(0.2, 2, \"table1\", \"table2\", table_a_non_duplicated, 3, \"random_dup\")"
   ]
  },
  {
   "cell_type": "code",
   "execution_count": null,
   "metadata": {},
   "outputs": [],
   "source": [
    "print(\"bp max: \", out_max)\n",
    "print(\"\\n bp min: \", out_min)\n",
    "print(\"\\n naive max: \", naive_max)\n",
    "print(\"\\n naive min: \", naive_min)\n",
    "print(\"\\n sampled max: \", sampled_max)\n",
    "print(\"\\n sampled min: \", sampled_min)\n",
    "print(\"\\n perfect mapping: \", perfect_mapping)\n",
    "print(\"\\n 1's table: \", table_a_non_duplicated)\n",
    "print(\"\\n n's table: \", table_b)\n",
    "print(\"\\n bp max sum: \",total_max)\n",
    "print(\"\\n bp min sum: \",total_min)\n",
    "print(\"\\n naive max sum: \",naive_total_max)\n",
    "print(\"\\n naive min sum: \",naive_total_min)\n",
    "print(\"\\n random sample max sum: \",sampled_total_max)\n",
    "print(\"\\n random sample min sum: \",sampled_total_min)\n",
    "print(\"\\n perfect mapping sum result: \", perfect_mapping_sum_result)"
   ]
  },
  {
   "cell_type": "code",
   "execution_count": null,
   "metadata": {},
   "outputs": [],
   "source": [
    "for i in range(1):\n",
    "    # Create Randomized Data\n",
    "    table_a_non_duplicated, table_b, table_a_dup, tables_map, perfect_mapping, perfect_mapping_sum_result = experiment_funcs.create_synth_data(3, \"table1\", \"table2\", \"table1_dup\", 3)\n",
    "    # Bipartite Matching Script\n",
    "    total_max, total_min, bip_min_matching_time, bip_max_matching_time, out_max, out_min = experiment_funcs.sum_bip_script(table_a_non_duplicated, table_b, \"name\", 0.2, 3, tables_map)\n",
    "    # Run Naive Matching Script\n",
    "    naive_total_max, naive_total_min, naive_min_matching_time, naive_max_matching_time, naive_max, naive_min = experiment_funcs.sum_naive_script(0.2, \"table1\", \"table2\", table_a_non_duplicated, 3, \"naive_dup\")\n",
    "    # Run Random Matching Script\n",
    "    sampled_total_max, sampled_total_min, sampled_min_matching_time, sampled_max_matching_time, sampled_max, sampled_min = experiment_funcs.sum_random_sample_script(0.2, 2, \"table1\", \"table2\", table_a_non_duplicated, 3, \"random_dup\")"
   ]
  },
  {
   "cell_type": "code",
   "execution_count": null,
   "metadata": {},
   "outputs": [],
   "source": [
    "print(\"bp max: \", out_max)\n",
    "print(\"\\n bp min: \", out_min)\n",
    "print(\"\\n naive max: \", naive_max)\n",
    "print(\"\\n naive min: \", naive_min)\n",
    "print(\"\\n sampled max: \", sampled_max)\n",
    "print(\"\\n sampled min: \", sampled_min)\n",
    "print(\"\\n perfect mapping: \", perfect_mapping)\n",
    "print(\"\\n 1's table: \", table_a_non_duplicated)\n",
    "print(\"\\n n's table: \", table_b)\n",
    "print(\"\\n bp max sum: \",total_max)\n",
    "print(\"\\n bp min sum: \",total_min)\n",
    "print(\"\\n naive max sum: \",naive_total_max)\n",
    "print(\"\\n naive min sum: \",naive_total_min)\n",
    "print(\"\\n random sample max sum: \",sampled_total_max)\n",
    "print(\"\\n random sample min sum: \",sampled_total_min)\n",
    "print(\"\\n perfect mapping sum result: \", perfect_mapping_sum_result)"
   ]
  },
  {
   "cell_type": "markdown",
   "metadata": {},
   "source": [
    "# SUM:"
   ]
  },
  {
   "cell_type": "markdown",
   "metadata": {},
   "source": [
    "## Case 1: Most optimal similarity metric threshold\n",
    "\n",
    "## Experiment 1: No skew in data\n",
    "#### Respectively: \n",
    "\n",
    "1. \"balanced_n3\" --> user_n=3, actual_n=3\n",
    "2. \"balanced_high_actualn\" --> user_n=3, actual_n=6\n",
    "3. \"balanced_low_actualn\" --> user_n=6, actual_n=3\n",
    "4. \"balanced_midlow_actualn\" --> user_n=6, actual_n=5\n",
    "5. \"balanced_actualn6_maxn5\" --> user_n=5, actual_n=6\n",
    "6. \"balanced_n6\" --> user_n=6, actual_n=6"
   ]
  },
  {
   "cell_type": "code",
   "execution_count": null,
   "metadata": {
    "scrolled": false
   },
   "outputs": [],
   "source": [
    "#create_1_to_n_sum_results(result_filename, bp_sim, naive_sim, sampled_sim, actual_n, bp_n, naive_n, sampled_n, table_a_length):\n",
    "experiment_visualizer.create_1_to_n_sum_results(\"balanced_n3\", 0.2,0.2,0.2,3,3,3,3,100,100)"
   ]
  },
  {
   "cell_type": "code",
   "execution_count": null,
   "metadata": {},
   "outputs": [],
   "source": [
    "experiment_visualizer.create_1_to_n_sum_results(\"balanced_high_actualn\", 0.2,0.2,0.08,6,3,3,3,100,100)"
   ]
  },
  {
   "cell_type": "code",
   "execution_count": null,
   "metadata": {},
   "outputs": [],
   "source": [
    "experiment_visualizer.create_1_to_n_sum_results(\"balanced_low_actualn\", 0.2,0.2,0.08,3,6,6,6,100,100)"
   ]
  },
  {
   "cell_type": "code",
   "execution_count": null,
   "metadata": {},
   "outputs": [],
   "source": [
    "experiment_visualizer.create_1_to_n_sum_results(\"balanced_midlow_actualn\", 0.2,0.2,0.2,5,6,6,6,100,200)"
   ]
  },
  {
   "cell_type": "code",
   "execution_count": null,
   "metadata": {},
   "outputs": [],
   "source": [
    "experiment_visualizer.create_1_to_n_sum_results(\"balanced_actualn6_maxn5\", 0.2,0.2,0.2,6,5,5,5,100,300)"
   ]
  },
  {
   "cell_type": "code",
   "execution_count": null,
   "metadata": {},
   "outputs": [],
   "source": [
    "experiment_visualizer.create_1_to_n_sum_results(\"balanced_n6\", 0.2,0.2,0.2,6,6,6,6,100,300)"
   ]
  },
  {
   "cell_type": "markdown",
   "metadata": {},
   "source": [
    "# Experiment 1: Skewed Data"
   ]
  },
  {
   "cell_type": "markdown",
   "metadata": {},
   "source": [
    "Skewed Table Results\n",
    "1. \"skewed_n3\" --> user_n=3, actual_n<=3\n",
    "2. \"skewed_high_actualn\" --> user_n=3, actual_n<=6\n",
    "3. \"skewed_low_actualn\" --> user_n=6, actual_n<=3\n",
    "4. \"skewed_midlow_actualn\" --> user_n=6, actual_n<=5\n",
    "5. \"skewed_actualn6_maxn5\" --> user_n=5, actual_n<=6\n",
    "6. \"skewed_n6\" --> user_n=6, actual_n<=6"
   ]
  },
  {
   "cell_type": "code",
   "execution_count": null,
   "metadata": {},
   "outputs": [],
   "source": [
    "#create_1_to_n_sum_results(result_filename, bp_sim, naive_sim, sampled_sim, actual_n, bp_n, naive_n, sampled_n, table_a_length):\n",
    "experiment_visualizer.create_skewed_1_to_n_sum_results(\"skewed_n3\", 0.2,0.2,0.2,3,3,3,3,100,100)"
   ]
  },
  {
   "cell_type": "code",
   "execution_count": null,
   "metadata": {},
   "outputs": [],
   "source": [
    "experiment_visualizer.create_skewed_1_to_n_sum_results(\"skewed_high_actualn\", 0.2,0.2,0.2,6,3,3,3,100,200)"
   ]
  },
  {
   "cell_type": "code",
   "execution_count": null,
   "metadata": {},
   "outputs": [],
   "source": [
    "experiment_visualizer.create_skewed_1_to_n_sum_results(\"skewed_low_actualn\", 0.2,0.2,0.2,3,6,6,6,100,100)"
   ]
  },
  {
   "cell_type": "code",
   "execution_count": null,
   "metadata": {},
   "outputs": [],
   "source": [
    "experiment_visualizer.create_skewed_1_to_n_sum_results(\"skewed_midlow_actualn\", 0.2,0.2,0.2,5,6,6,6,100,200)"
   ]
  },
  {
   "cell_type": "code",
   "execution_count": null,
   "metadata": {},
   "outputs": [],
   "source": [
    "experiment_visualizer.create_skewed_1_to_n_sum_results(\"skewed_actualn6_maxn5\", 0.2,0.2,0.2,6,5,5,5,100,300)"
   ]
  },
  {
   "cell_type": "code",
   "execution_count": null,
   "metadata": {},
   "outputs": [],
   "source": [
    "experiment_visualizer.create_skewed_1_to_n_sum_results(\"skewed_n6\", 0.2,0.2,0.2,6,6,6,6,100,300)"
   ]
  },
  {
   "cell_type": "markdown",
   "metadata": {},
   "source": [
    "# Experiment 1 - MAX-MIN Ranges - Balanced Table\n",
    "\n",
    "Model Name (x) --> 'Bipartite Matching', 'Naive Matching', 'Random Sample Matching'\n",
    "\n",
    "Median Sum (y) --> 'Min Median Sum' and 'Max Median Sum' are superposed for each model\n",
    "\n",
    "Purpose: Measure model performance of max and min predictions against perfect mappings. A tighter max-min interval and closeness to perfect matching indicates better model performance"
   ]
  },
  {
   "cell_type": "code",
   "execution_count": null,
   "metadata": {},
   "outputs": [],
   "source": [
    "experiment_visualizer.show_experiment_1('balanced_n3.csv', 'Max n = True n, n=3')\n",
    "experiment_visualizer.show_experiment_1('balanced_high_actualn.csv', 'Max n=3, True n=6')\n",
    "experiment_visualizer.show_experiment_1('balanced_low_actualn.csv', 'Max n=6, True n=3')\n",
    "experiment_visualizer.show_experiment_1('balanced_midlow_actualn.csv', 'Max n=6, True n=5')\n",
    "experiment_visualizer.show_experiment_1('balanced_actualn6_maxn5.csv', 'Max n=5, True n=6')\n",
    "experiment_visualizer.show_experiment_1('balanced_n6.csv', 'Max n=6, True n=6')"
   ]
  },
  {
   "cell_type": "markdown",
   "metadata": {},
   "source": [
    "# Experiment 1 - MAX-MIN Ranges - Skewed Table"
   ]
  },
  {
   "cell_type": "code",
   "execution_count": null,
   "metadata": {},
   "outputs": [],
   "source": [
    "experiment_visualizer.show_experiment_1('skewed_n3.csv', 'SUM: Max n = 3, True n <= 3')\n",
    "experiment_visualizer.show_experiment_1('skewed_high_actualn.csv', 'SUM: Max n=3, True n<=6')\n",
    "experiment_visualizer.show_experiment_1('skewed_low_actualn.csv', 'SUM: Max n=6, True n<=3')\n",
    "experiment_visualizer.show_experiment_1('skewed_midlow_actualn.csv', 'SUM: Max n=6, True n<=5')\n",
    "experiment_visualizer.show_experiment_1('skewed_actualn6_maxn5.csv', 'SUM: Max n=5, True n<=6')\n",
    "experiment_visualizer.show_experiment_1('skewed_n6.csv', 'SUM: Max n=6, True n<=6')"
   ]
  },
  {
   "cell_type": "markdown",
   "metadata": {},
   "source": [
    "# Experiment 2 - MAX-MIN Width\n",
    "\n",
    "User Inputted # of Matches (x) --> 1-5\n",
    "\n",
    "Overestimation Rate (y) --> Max Median Sum - Median Perfect Match Sum\n",
    "\n",
    "Purpose: Measure the tightness of expected sum interval for each model. Tighter window might imply the model is more precise."
   ]
  },
  {
   "cell_type": "code",
   "execution_count": null,
   "metadata": {
    "scrolled": true
   },
   "outputs": [],
   "source": [
    "experiment_visualizer.show_experiment_2_balanced(\"Median Over-estimation Rate vs N\", 0.2)"
   ]
  },
  {
   "cell_type": "code",
   "execution_count": null,
   "metadata": {},
   "outputs": [],
   "source": [
    "experiment_visualizer.show_experiment_2_skewed(\"Median Over-estimation Rate vs N\", 0.2)"
   ]
  },
  {
   "cell_type": "markdown",
   "metadata": {},
   "source": [
    "# Experiment 3\n",
    "Skew (x) --> range(1,1), range(1,3), range(1,5), range(1-7), range(1,9), range(11)\n",
    "\n",
    "Accuracy (y) --> real sum - average of current method's max sum and min sum\n",
    "\n",
    "Purpose: Measure approach accuracy when data is skewed. Closeness to 0 might indicate better model performance in terms of accuracy when data is skewed. "
   ]
  },
  {
   "cell_type": "code",
   "execution_count": null,
   "metadata": {
    "scrolled": true
   },
   "outputs": [],
   "source": [
    "experiment_visualizer.show_experiment_3(\"Median Over-estimation Rate vs Skew\", 0.2)"
   ]
  },
  {
   "cell_type": "markdown",
   "metadata": {},
   "source": [
    "# Experiment 4: Quality of the similarity metric vs the overestimation rate (upperbound - perfect result)"
   ]
  },
  {
   "cell_type": "code",
   "execution_count": null,
   "metadata": {},
   "outputs": [],
   "source": [
    "experiment_visualizer.show_experiment_4_balanced(\"Balanced, Median Over-estimation Rate vs Quality of the Similarity Metric\",5)"
   ]
  },
  {
   "cell_type": "code",
   "execution_count": null,
   "metadata": {},
   "outputs": [],
   "source": [
    "experiment_visualizer.show_experiment_4_skewed(\"Skewed, Median Over-estimation Rate vs Quality of the Similarity Metric\",5)"
   ]
  },
  {
   "cell_type": "markdown",
   "metadata": {},
   "source": [
    "# Case 2. When Similarity Metric is not optimal "
   ]
  },
  {
   "cell_type": "markdown",
   "metadata": {},
   "source": [
    "### Experiment 1: "
   ]
  },
  {
   "cell_type": "code",
   "execution_count": null,
   "metadata": {},
   "outputs": [],
   "source": [
    "# Create balanced tables\n",
    "#create_1_to_n_sum_results(result_filename, bp_sim, naive_sim, sampled_sim, actual_n, bp_n, naive_n, sampled_n, table_a_length):\n",
    "experiment_visualizer.create_1_to_n_sum_results(\"balanced_n3\", 0.08,0.08,0.08,3,3,3,3,100,100, False)\n",
    "experiment_visualizer.create_1_to_n_sum_results(\"balanced_high_actualn\", 0.08,0.08,0.08,6,3,3,3,100,100, False)\n",
    "experiment_visualizer.create_1_to_n_sum_results(\"balanced_low_actualn\", 0.08,0.08,0.08,3,6,6,6,100,100, False)\n",
    "experiment_visualizer.create_1_to_n_sum_results(\"balanced_midlow_actualn\", 0.08,0.08,0.08,5,6,6,6,100,200, False)\n",
    "experiment_visualizer.create_1_to_n_sum_results(\"balanced_actualn6_maxn5\", 0.08,0.08,0.08,6,5,5,5,100,300, False)\n",
    "experiment_visualizer.create_1_to_n_sum_results(\"balanced_n6\", 0.08,0.08,0.08,6,6,6,6,100,300, False)"
   ]
  },
  {
   "cell_type": "code",
   "execution_count": null,
   "metadata": {},
   "outputs": [],
   "source": [
    "# Show balanced results\n",
    "experiment_visualizer.show_experiment_1('balanced_n3.csv', 'Max n = True n, n=3')\n",
    "experiment_visualizer.show_experiment_1('balanced_high_actualn.csv', 'Max n=3, True n=6')\n",
    "experiment_visualizer.show_experiment_1('balanced_low_actualn.csv', 'Max n=6, True n=3')\n",
    "experiment_visualizer.show_experiment_1('balanced_midlow_actualn.csv', 'Max n=6, True n=5')\n",
    "experiment_visualizer.show_experiment_1('balanced_actualn6_maxn5.csv', 'Max n=5, True n=6')\n",
    "experiment_visualizer.show_experiment_1('balanced_n6.csv', 'Max n=6, True n=6')"
   ]
  },
  {
   "cell_type": "code",
   "execution_count": null,
   "metadata": {},
   "outputs": [],
   "source": [
    "# Create skewed tables\n",
    "#create_1_to_n_sum_results(result_filename, bp_sim, naive_sim, sampled_sim, actual_n, bp_n, naive_n, sampled_n, table_a_length):\n",
    "experiment_visualizer.create_skewed_1_to_n_sum_results(\"skewed_n3\", 0.08,0.08,0.08,3,3,3,3,100,100, False)\n",
    "experiment_visualizer.create_skewed_1_to_n_sum_results(\"skewed_high_actualn\", 0.08,0.08,0.08,6,3,3,3,100,200, False)\n",
    "experiment_visualizer.create_skewed_1_to_n_sum_results(\"skewed_low_actualn\", 0.08,0.08,0.08,3,6,6,6,100,100, False)\n",
    "experiment_visualizer.create_skewed_1_to_n_sum_results(\"skewed_midlow_actualn\", 0.08,0.08,0.08,5,6,6,6,100,200, False)\n",
    "experiment_visualizer.create_skewed_1_to_n_sum_results(\"skewed_actualn6_maxn5\", 0.08,0.08,0.08,6,5,5,5,100,300, False)\n",
    "experiment_visualizer.create_skewed_1_to_n_sum_results(\"skewed_n6\", 0.08,0.08,0.08,6,6,6,6,100,300, False)\n"
   ]
  },
  {
   "cell_type": "code",
   "execution_count": null,
   "metadata": {},
   "outputs": [],
   "source": [
    "# Show skewed results\n",
    "experiment_visualizer.show_experiment_1('skewed_n3.csv', 'SUM: Max n = 3, True n <= 3')\n",
    "experiment_visualizer.show_experiment_1('skewed_high_actualn.csv', 'SUM: Max n=3, True n<=6')\n",
    "experiment_visualizer.show_experiment_1('skewed_low_actualn.csv', 'SUM: Max n=6, True n<=3')\n",
    "experiment_visualizer.show_experiment_1('skewed_midlow_actualn.csv', 'SUM: Max n=6, True n<=5')\n",
    "experiment_visualizer.show_experiment_1('skewed_actualn6_maxn5.csv', 'SUM: Max n=5, True n<=6')\n",
    "experiment_visualizer.show_experiment_1('skewed_n6.csv', 'SUM: Max n=6, True n<=6')"
   ]
  },
  {
   "cell_type": "markdown",
   "metadata": {},
   "source": [
    "### Experiment 2: "
   ]
  },
  {
   "cell_type": "code",
   "execution_count": null,
   "metadata": {},
   "outputs": [],
   "source": [
    "experiment_visualizer.show_experiment_2_balanced(\"Median Over-estimation Rate vs N\", 0.08)"
   ]
  },
  {
   "cell_type": "code",
   "execution_count": null,
   "metadata": {},
   "outputs": [],
   "source": [
    "experiment_visualizer.show_experiment_2_skewed(\"Median Over-estimation Rate vs N\", 0.08)"
   ]
  },
  {
   "cell_type": "markdown",
   "metadata": {},
   "source": [
    "### Experiment 3: "
   ]
  },
  {
   "cell_type": "code",
   "execution_count": null,
   "metadata": {},
   "outputs": [],
   "source": [
    "experiment_visualizer.show_experiment_3(\"Median Over-estimation Rate vs Skew\",0.08)"
   ]
  },
  {
   "cell_type": "markdown",
   "metadata": {},
   "source": [
    "### Experiment 4:"
   ]
  },
  {
   "cell_type": "markdown",
   "metadata": {},
   "source": [
    "(Same as Case 1)"
   ]
  },
  {
   "cell_type": "markdown",
   "metadata": {},
   "source": [
    "# Case 3. Bad similarity metric, i.e. random edges between matches."
   ]
  },
  {
   "cell_type": "markdown",
   "metadata": {},
   "source": [
    "### Experiment 1: "
   ]
  },
  {
   "cell_type": "code",
   "execution_count": null,
   "metadata": {},
   "outputs": [],
   "source": [
    "# Create balanced tables, swap num = 25,50,75\n",
    "#create_1_to_n_sum_results(result_filename, bp_sim, naive_sim, sampled_sim, actual_n, bp_n, naive_n, sampled_n, table_a_length):\n",
    "experiment_visualizer.create_1_to_n_sum_results(\"balanced_n3\", 0.08,0.08,0.08,3,3,3,3,100,100, False, 25)\n",
    "experiment_visualizer.create_1_to_n_sum_results(\"balanced_high_actualn\", 0.08,0.08,0.08,6,3,3,3,100,100, False, 25)\n",
    "experiment_visualizer.create_1_to_n_sum_results(\"balanced_low_actualn\", 0.08,0.08,0.08,3,6,6,6,100,100, False, 25)\n",
    "experiment_visualizer.create_1_to_n_sum_results(\"balanced_midlow_actualn\", 0.08,0.08,0.08,5,6,6,6,100,200, False, 50)\n",
    "experiment_visualizer.create_1_to_n_sum_results(\"balanced_actualn6_maxn5\", 0.08,0.08,0.08,6,5,5,5,100,300, False, 75)\n",
    "experiment_visualizer.create_1_to_n_sum_results(\"balanced_n6\", 0.08,0.08,0.08,6,6,6,6,100,300, False, 75)"
   ]
  },
  {
   "cell_type": "code",
   "execution_count": null,
   "metadata": {},
   "outputs": [],
   "source": [
    "# Show balanced results\n",
    "experiment_visualizer.show_experiment_1('balanced_n3.csv', 'Max n = True n, n=3')\n",
    "experiment_visualizer.show_experiment_1('balanced_high_actualn.csv', 'Max n=3, True n=6')\n",
    "experiment_visualizer.show_experiment_1('balanced_low_actualn.csv', 'Max n=6, True n=3')\n",
    "experiment_visualizer.show_experiment_1('balanced_midlow_actualn.csv', 'Max n=6, True n=5')\n",
    "experiment_visualizer.show_experiment_1('balanced_actualn6_maxn5.csv', 'Max n=5, True n=6')\n",
    "experiment_visualizer.show_experiment_1('balanced_n6.csv', 'Max n=6, True n=6')"
   ]
  },
  {
   "cell_type": "code",
   "execution_count": null,
   "metadata": {},
   "outputs": [],
   "source": [
    "# Create skewed tables\n",
    "#create_1_to_n_sum_results(result_filename, bp_sim, naive_sim, sampled_sim, actual_n, bp_n, naive_n, sampled_n, table_a_length):\n",
    "experiment_visualizer.create_skewed_1_to_n_sum_results(\"skewed_n3\", 0.08,0.08,0.08,3,3,3,3,100,100, False, 25)\n",
    "experiment_visualizer.create_skewed_1_to_n_sum_results(\"skewed_high_actualn\", 0.08,0.08,0.08,6,3,3,3,100,100, False, 25)\n",
    "experiment_visualizer.create_skewed_1_to_n_sum_results(\"skewed_low_actualn\", 0.08,0.08,0.08,3,6,6,6,100,100, False, 25)\n",
    "experiment_visualizer.create_skewed_1_to_n_sum_results(\"skewed_midlow_actualn\", 0.08,0.08,0.08,5,6,6,6,100,200, False, 50)\n",
    "experiment_visualizer.create_skewed_1_to_n_sum_results(\"skewed_actualn6_maxn5\", 0.08,0.08,0.08,6,5,5,5,100,300, False, 75)\n",
    "experiment_visualizer.create_skewed_1_to_n_sum_results(\"skewed_n6\", 0.08,0.08,0.08,6,6,6,6,100,300, False, 75)\n",
    "\n"
   ]
  },
  {
   "cell_type": "code",
   "execution_count": null,
   "metadata": {},
   "outputs": [],
   "source": [
    "# Show skewed results\n",
    "experiment_visualizer.show_experiment_1('skewed_n3.csv', 'SUM: Max n = 3, True n <= 3')\n",
    "experiment_visualizer.show_experiment_1('skewed_high_actualn.csv', 'SUM: Max n=3, True n<=6')\n",
    "experiment_visualizer.show_experiment_1('skewed_low_actualn.csv', 'SUM: Max n=6, True n<=3')\n",
    "experiment_visualizer.show_experiment_1('skewed_midlow_actualn.csv', 'SUM: Max n=6, True n<=5')\n",
    "experiment_visualizer.show_experiment_1('skewed_actualn6_maxn5.csv', 'SUM: Max n=5, True n<=6')\n",
    "experiment_visualizer.show_experiment_1('skewed_n6.csv', 'SUM: Max n=6, True n<=6')"
   ]
  },
  {
   "cell_type": "markdown",
   "metadata": {},
   "source": [
    "### Experiment 2: "
   ]
  },
  {
   "cell_type": "code",
   "execution_count": null,
   "metadata": {},
   "outputs": [],
   "source": [
    "experiment_visualizer.show_experiment_2_balanced(\"Median Over-estimation Rate vs. N\", 0.08, 25)"
   ]
  },
  {
   "cell_type": "code",
   "execution_count": null,
   "metadata": {},
   "outputs": [],
   "source": [
    "experiment_visualizer.show_experiment_2_skewed(\"Median Over-estimation Rate vs. N\", 0.2, 25)"
   ]
  },
  {
   "cell_type": "markdown",
   "metadata": {},
   "source": [
    "### Experiment 3: "
   ]
  },
  {
   "cell_type": "code",
   "execution_count": 2,
   "metadata": {},
   "outputs": [
    {
     "ename": "ValueError",
     "evalue": "Format ' skew' is not supported (supported formats: eps, jpeg, jpg, pdf, pgf, png, ps, raw, rgba, svg, svgz, tif, tiff)",
     "output_type": "error",
     "traceback": [
      "\u001b[0;31m---------------------------------------------------------------------------\u001b[0m",
      "\u001b[0;31mValueError\u001b[0m                                Traceback (most recent call last)",
      "\u001b[0;32m<ipython-input-2-58fddb58baa2>\u001b[0m in \u001b[0;36m<module>\u001b[0;34m\u001b[0m\n\u001b[0;32m----> 1\u001b[0;31m \u001b[0mexperiment_visualizer\u001b[0m\u001b[0;34m.\u001b[0m\u001b[0mshow_experiment_3\u001b[0m\u001b[0;34m(\u001b[0m\u001b[0;34m\"Median Over-estimation Rate vs. Skew\"\u001b[0m\u001b[0;34m,\u001b[0m\u001b[0;36m0.08\u001b[0m\u001b[0;34m,\u001b[0m \u001b[0;36m25\u001b[0m\u001b[0;34m)\u001b[0m\u001b[0;34m\u001b[0m\u001b[0;34m\u001b[0m\u001b[0m\n\u001b[0m",
      "\u001b[0;32m~/Desktop/Data Research/Research-Bipartite-Matching-Problem/experiments/experiment_visualizer.py\u001b[0m in \u001b[0;36mshow_experiment_3\u001b[0;34m(experiment_name, sim_thresh, is_age_skewed, num_swaps)\u001b[0m\n\u001b[1;32m    268\u001b[0m         \u001b[0mplt\u001b[0m\u001b[0;34m.\u001b[0m\u001b[0mxticks\u001b[0m\u001b[0;34m(\u001b[0m\u001b[0mn\u001b[0m\u001b[0;34m,\u001b[0m\u001b[0mn\u001b[0m\u001b[0;34m)\u001b[0m\u001b[0;34m\u001b[0m\u001b[0;34m\u001b[0m\u001b[0m\n\u001b[1;32m    269\u001b[0m         \u001b[0mplt\u001b[0m\u001b[0;34m.\u001b[0m\u001b[0mlegend\u001b[0m\u001b[0;34m(\u001b[0m\u001b[0;34m)\u001b[0m\u001b[0;34m\u001b[0m\u001b[0;34m\u001b[0m\u001b[0m\n\u001b[0;32m--> 270\u001b[0;31m         \u001b[0mplt\u001b[0m\u001b[0;34m.\u001b[0m\u001b[0msavefig\u001b[0m\u001b[0;34m(\u001b[0m\u001b[0mexperiment_name\u001b[0m\u001b[0;34m,\u001b[0m \u001b[0mdpi\u001b[0m\u001b[0;34m=\u001b[0m\u001b[0;36m300\u001b[0m\u001b[0;34m)\u001b[0m\u001b[0;34m\u001b[0m\u001b[0;34m\u001b[0m\u001b[0m\n\u001b[0m\u001b[1;32m    271\u001b[0m         \u001b[0mplt\u001b[0m\u001b[0;34m.\u001b[0m\u001b[0mshow\u001b[0m\u001b[0;34m(\u001b[0m\u001b[0;34m)\u001b[0m\u001b[0;34m\u001b[0m\u001b[0;34m\u001b[0m\u001b[0m\n\u001b[1;32m    272\u001b[0m \u001b[0;34m\u001b[0m\u001b[0m\n",
      "\u001b[0;32m/opt/anaconda3/lib/python3.7/site-packages/matplotlib/pyplot.py\u001b[0m in \u001b[0;36msavefig\u001b[0;34m(*args, **kwargs)\u001b[0m\n\u001b[1;32m    727\u001b[0m \u001b[0;32mdef\u001b[0m \u001b[0msavefig\u001b[0m\u001b[0;34m(\u001b[0m\u001b[0;34m*\u001b[0m\u001b[0margs\u001b[0m\u001b[0;34m,\u001b[0m \u001b[0;34m**\u001b[0m\u001b[0mkwargs\u001b[0m\u001b[0;34m)\u001b[0m\u001b[0;34m:\u001b[0m\u001b[0;34m\u001b[0m\u001b[0;34m\u001b[0m\u001b[0m\n\u001b[1;32m    728\u001b[0m     \u001b[0mfig\u001b[0m \u001b[0;34m=\u001b[0m \u001b[0mgcf\u001b[0m\u001b[0;34m(\u001b[0m\u001b[0;34m)\u001b[0m\u001b[0;34m\u001b[0m\u001b[0;34m\u001b[0m\u001b[0m\n\u001b[0;32m--> 729\u001b[0;31m     \u001b[0mres\u001b[0m \u001b[0;34m=\u001b[0m \u001b[0mfig\u001b[0m\u001b[0;34m.\u001b[0m\u001b[0msavefig\u001b[0m\u001b[0;34m(\u001b[0m\u001b[0;34m*\u001b[0m\u001b[0margs\u001b[0m\u001b[0;34m,\u001b[0m \u001b[0;34m**\u001b[0m\u001b[0mkwargs\u001b[0m\u001b[0;34m)\u001b[0m\u001b[0;34m\u001b[0m\u001b[0;34m\u001b[0m\u001b[0m\n\u001b[0m\u001b[1;32m    730\u001b[0m     \u001b[0mfig\u001b[0m\u001b[0;34m.\u001b[0m\u001b[0mcanvas\u001b[0m\u001b[0;34m.\u001b[0m\u001b[0mdraw_idle\u001b[0m\u001b[0;34m(\u001b[0m\u001b[0;34m)\u001b[0m   \u001b[0;31m# need this if 'transparent=True' to reset colors\u001b[0m\u001b[0;34m\u001b[0m\u001b[0;34m\u001b[0m\u001b[0m\n\u001b[1;32m    731\u001b[0m     \u001b[0;32mreturn\u001b[0m \u001b[0mres\u001b[0m\u001b[0;34m\u001b[0m\u001b[0;34m\u001b[0m\u001b[0m\n",
      "\u001b[0;32m/opt/anaconda3/lib/python3.7/site-packages/matplotlib/figure.py\u001b[0m in \u001b[0;36msavefig\u001b[0;34m(self, fname, transparent, **kwargs)\u001b[0m\n\u001b[1;32m   2178\u001b[0m             \u001b[0mself\u001b[0m\u001b[0;34m.\u001b[0m\u001b[0mpatch\u001b[0m\u001b[0;34m.\u001b[0m\u001b[0mset_visible\u001b[0m\u001b[0;34m(\u001b[0m\u001b[0mframeon\u001b[0m\u001b[0;34m)\u001b[0m\u001b[0;34m\u001b[0m\u001b[0;34m\u001b[0m\u001b[0m\n\u001b[1;32m   2179\u001b[0m \u001b[0;34m\u001b[0m\u001b[0m\n\u001b[0;32m-> 2180\u001b[0;31m         \u001b[0mself\u001b[0m\u001b[0;34m.\u001b[0m\u001b[0mcanvas\u001b[0m\u001b[0;34m.\u001b[0m\u001b[0mprint_figure\u001b[0m\u001b[0;34m(\u001b[0m\u001b[0mfname\u001b[0m\u001b[0;34m,\u001b[0m \u001b[0;34m**\u001b[0m\u001b[0mkwargs\u001b[0m\u001b[0;34m)\u001b[0m\u001b[0;34m\u001b[0m\u001b[0;34m\u001b[0m\u001b[0m\n\u001b[0m\u001b[1;32m   2181\u001b[0m \u001b[0;34m\u001b[0m\u001b[0m\n\u001b[1;32m   2182\u001b[0m         \u001b[0;32mif\u001b[0m \u001b[0mframeon\u001b[0m\u001b[0;34m:\u001b[0m\u001b[0;34m\u001b[0m\u001b[0;34m\u001b[0m\u001b[0m\n",
      "\u001b[0;32m/opt/anaconda3/lib/python3.7/site-packages/matplotlib/backend_bases.py\u001b[0m in \u001b[0;36mprint_figure\u001b[0;34m(self, filename, dpi, facecolor, edgecolor, orientation, format, bbox_inches, **kwargs)\u001b[0m\n\u001b[1;32m   2021\u001b[0m \u001b[0;34m\u001b[0m\u001b[0m\n\u001b[1;32m   2022\u001b[0m         \u001b[0;31m# get canvas object and print method for format\u001b[0m\u001b[0;34m\u001b[0m\u001b[0;34m\u001b[0m\u001b[0;34m\u001b[0m\u001b[0m\n\u001b[0;32m-> 2023\u001b[0;31m         \u001b[0mcanvas\u001b[0m \u001b[0;34m=\u001b[0m \u001b[0mself\u001b[0m\u001b[0;34m.\u001b[0m\u001b[0m_get_output_canvas\u001b[0m\u001b[0;34m(\u001b[0m\u001b[0mformat\u001b[0m\u001b[0;34m)\u001b[0m\u001b[0;34m\u001b[0m\u001b[0;34m\u001b[0m\u001b[0m\n\u001b[0m\u001b[1;32m   2024\u001b[0m         \u001b[0mprint_method\u001b[0m \u001b[0;34m=\u001b[0m \u001b[0mgetattr\u001b[0m\u001b[0;34m(\u001b[0m\u001b[0mcanvas\u001b[0m\u001b[0;34m,\u001b[0m \u001b[0;34m'print_%s'\u001b[0m \u001b[0;34m%\u001b[0m \u001b[0mformat\u001b[0m\u001b[0;34m)\u001b[0m\u001b[0;34m\u001b[0m\u001b[0;34m\u001b[0m\u001b[0m\n\u001b[1;32m   2025\u001b[0m \u001b[0;34m\u001b[0m\u001b[0m\n",
      "\u001b[0;32m/opt/anaconda3/lib/python3.7/site-packages/matplotlib/backend_bases.py\u001b[0m in \u001b[0;36m_get_output_canvas\u001b[0;34m(self, fmt)\u001b[0m\n\u001b[1;32m   1963\u001b[0m         raise ValueError(\n\u001b[1;32m   1964\u001b[0m             \u001b[0;34m\"Format {!r} is not supported (supported formats: {})\"\u001b[0m\u001b[0;34m\u001b[0m\u001b[0;34m\u001b[0m\u001b[0m\n\u001b[0;32m-> 1965\u001b[0;31m             .format(fmt, \", \".join(sorted(self.get_supported_filetypes()))))\n\u001b[0m\u001b[1;32m   1966\u001b[0m \u001b[0;34m\u001b[0m\u001b[0m\n\u001b[1;32m   1967\u001b[0m     def print_figure(self, filename, dpi=None, facecolor=None, edgecolor=None,\n",
      "\u001b[0;31mValueError\u001b[0m: Format ' skew' is not supported (supported formats: eps, jpeg, jpg, pdf, pgf, png, ps, raw, rgba, svg, svgz, tif, tiff)"
     ]
    },
    {
     "data": {
      "image/png": "[encoded data removed]",
      "text/plain": [
       "<Figure size 432x288 with 1 Axes>"
      ]
     },
     "metadata": {
      "needs_background": "light"
     },
     "output_type": "display_data"
    }
   ],
   "source": [
    "experiment_visualizer.show_experiment_3(\"Median Over-estimation Rate vs. Skew\",0.08, 25)"
   ]
  },
  {
   "cell_type": "markdown",
   "metadata": {},
   "source": [
    "### Experiment 5 (Adapted Experiment 4): Median Over-Estimation Rate vs. Quality of Similarity Metric"
   ]
  },
  {
   "cell_type": "code",
   "execution_count": 1,
   "metadata": {},
   "outputs": [],
   "source": [
    "import experiment_funcs\n",
    "import experiment_visualizer"
   ]
  },
  {
   "cell_type": "code",
   "execution_count": null,
   "metadata": {},
   "outputs": [],
   "source": [
    "experiment_visualizer.show_experiment_5_balanced(\"Median Over-Estimation Rate vs. Quality of Similarity Metric\", 3, 0.15)"
   ]
  },
  {
   "cell_type": "code",
   "execution_count": null,
   "metadata": {},
   "outputs": [],
   "source": [
    "experiment_visualizer.show_experiment_5_skewed(\"Median Over-Estimation Rate vs. Quality of Similarity Metric\", 3, 0.15)"
   ]
  },
  {
   "cell_type": "markdown",
   "metadata": {},
   "source": [
    "# Case 4. Ages Skewed Data"
   ]
  },
  {
   "cell_type": "markdown",
   "metadata": {},
   "source": [
    "### Experiment 1: "
   ]
  },
  {
   "cell_type": "code",
   "execution_count": null,
   "metadata": {},
   "outputs": [],
   "source": [
    "# Create balanced tables\n",
    "#create_1_to_n_sum_results(result_filename, bp_sim, naive_sim, sampled_sim, actual_n, bp_n, naive_n, sampled_n, table_a_length):\n",
    "experiment_visualizer.create_1_to_n_sum_results(\"balanced_n3\", 0.08,0.08,0.08,3,3,3,3,100,100, True)\n",
    "experiment_visualizer.create_1_to_n_sum_results(\"balanced_high_actualn\", 0.08,0.08,0.08,6,3,3,3,100,100, True)\n",
    "experiment_visualizer.create_1_to_n_sum_results(\"balanced_low_actualn\", 0.08,0.08,0.08,3,6,6,6,100,100, True)\n",
    "experiment_visualizer.create_1_to_n_sum_results(\"balanced_midlow_actualn\", 0.08,0.08,0.08,5,6,6,6,100,200, True)\n",
    "experiment_visualizer.create_1_to_n_sum_results(\"balanced_actualn6_maxn5\", 0.08,0.08,0.08,6,5,5,5,100,300, True)\n",
    "experiment_visualizer.create_1_to_n_sum_results(\"balanced_n6\", 0.08,0.08,0.08,6,6,6,6,100,300, True)"
   ]
  },
  {
   "cell_type": "code",
   "execution_count": null,
   "metadata": {},
   "outputs": [],
   "source": [
    "# Create balanced tables, sim thresh optimized\n",
    "\n",
    "experiment_visualizer.create_1_to_n_sum_results(\"balanced_n3\", 0.2,0.2,0.2,3,3,3,3,100,100, True)\n",
    "experiment_visualizer.create_1_to_n_sum_results(\"balanced_high_actualn\", 0.2,0.2,0.2,6,3,3,3,100,100, True)\n",
    "experiment_visualizer.create_1_to_n_sum_results(\"balanced_low_actualn\", 0.2,0.2,0.2,3,6,6,6,100,100, True)\n",
    "experiment_visualizer.create_1_to_n_sum_results(\"balanced_midlow_actualn\", 0.2,0.2,0.2,5,6,6,6,100,200, True)\n",
    "experiment_visualizer.create_1_to_n_sum_results(\"balanced_actualn6_maxn5\", 0.2,0.2,0.2,6,5,5,5,100,300, True)\n",
    "experiment_visualizer.create_1_to_n_sum_results(\"balanced_n6\", 0.2,0.2,0.2,6,6,6,6,100,300, True)"
   ]
  },
  {
   "cell_type": "code",
   "execution_count": null,
   "metadata": {},
   "outputs": [],
   "source": [
    "# Show balanced results\n",
    "experiment_visualizer.show_experiment_1('balanced_n3.csv', 'Max n = True n, n=3')\n",
    "experiment_visualizer.show_experiment_1('balanced_high_actualn.csv', 'Max n=3, True n=6')\n",
    "experiment_visualizer.show_experiment_1('balanced_low_actualn.csv', 'Max n=6, True n=3')\n",
    "experiment_visualizer.show_experiment_1('balanced_midlow_actualn.csv', 'Max n=6, True n=5')\n",
    "experiment_visualizer.show_experiment_1('balanced_actualn6_maxn5.csv', 'Max n=5, True n=6')\n",
    "experiment_visualizer.show_experiment_1('balanced_n6.csv', 'Max n=6, True n=6')"
   ]
  },
  {
   "cell_type": "code",
   "execution_count": null,
   "metadata": {},
   "outputs": [],
   "source": [
    "# Create skewed tables\n",
    "#create_1_to_n_sum_results(result_filename, bp_sim, naive_sim, sampled_sim, actual_n, bp_n, naive_n, sampled_n, table_a_length):\n",
    "experiment_visualizer.create_skewed_1_to_n_sum_results(\"skewed_n3\", 0.08,0.08,0.08,3,3,3,3,100,100, True)\n",
    "experiment_visualizer.create_skewed_1_to_n_sum_results(\"skewed_high_actualn\", 0.08,0.08,0.08,6,3,3,3,100,200, True)\n",
    "experiment_visualizer.create_skewed_1_to_n_sum_results(\"skewed_low_actualn\", 0.08,0.08,0.08,3,6,6,6,100,100, True)\n",
    "experiment_visualizer.create_skewed_1_to_n_sum_results(\"skewed_midlow_actualn\", 0.08,0.08,0.08,5,6,6,6,100,200, True)\n",
    "experiment_visualizer.create_skewed_1_to_n_sum_results(\"skewed_actualn6_maxn5\", 0.08,0.08,0.08,6,5,5,5,100,300, True)\n",
    "experiment_visualizer.create_skewed_1_to_n_sum_results(\"skewed_n6\", 0.08,0.08,0.08,6,6,6,6,100,300, True)\n",
    "\n"
   ]
  },
  {
   "cell_type": "code",
   "execution_count": null,
   "metadata": {},
   "outputs": [],
   "source": [
    "experiment_visualizer.create_skewed_1_to_n_sum_results(\"skewed_n3\", 0.2,0.2,0.2,3,3,3,3,100,100, True)\n",
    "experiment_visualizer.create_skewed_1_to_n_sum_results(\"skewed_high_actualn\", 0.2,0.2,0.2,6,3,3,3,100,100, True)\n",
    "experiment_visualizer.create_skewed_1_to_n_sum_results(\"skewed_low_actualn\", 0.2,0.2,0.2,3,6,6,6,100,100, True)\n",
    "experiment_visualizer.create_skewed_1_to_n_sum_results(\"skewed_midlow_actualn\", 0.2,0.2,0.2,5,6,6,6,100,200, True)\n",
    "experiment_visualizer.create_skewed_1_to_n_sum_results(\"skewed_actualn6_maxn5\", 0.2,0.2,0.2,6,5,5,5,100,300, True)\n",
    "experiment_visualizer.create_skewed_1_to_n_sum_results(\"skewed_n6\", 0.2,0.2,0.2,6,6,6,6,100,300, True)"
   ]
  },
  {
   "cell_type": "code",
   "execution_count": null,
   "metadata": {},
   "outputs": [],
   "source": [
    "# Show skewed results\n",
    "experiment_visualizer.show_experiment_1('skewed_n3.csv', 'SUM: Max n = 3, True n <= 3')\n",
    "experiment_visualizer.show_experiment_1('skewed_high_actualn.csv', 'SUM: Max n=3, True n<=6')\n",
    "experiment_visualizer.show_experiment_1('skewed_low_actualn.csv', 'SUM: Max n=6, True n<=3')\n",
    "experiment_visualizer.show_experiment_1('skewed_midlow_actualn.csv', 'SUM: Max n=6, True n<=5')\n",
    "experiment_visualizer.show_experiment_1('skewed_actualn6_maxn5.csv', 'SUM: Max n=5, True n<=6')\n",
    "experiment_visualizer.show_experiment_1('skewed_n6.csv', 'SUM: Max n=6, True n<=6')"
   ]
  },
  {
   "cell_type": "markdown",
   "metadata": {},
   "source": [
    "### Experiment 2: "
   ]
  },
  {
   "cell_type": "code",
   "execution_count": null,
   "metadata": {},
   "outputs": [],
   "source": [
    "experiment_visualizer.show_experiment_2_balanced(\"Overestimation Rate vs N\", 0.08, True)"
   ]
  },
  {
   "cell_type": "code",
   "execution_count": null,
   "metadata": {},
   "outputs": [],
   "source": [
    "experiment_visualizer.show_experiment_2_skewed(\"Overestimation Rate vs N\", 0.08, True)"
   ]
  },
  {
   "cell_type": "markdown",
   "metadata": {},
   "source": [
    "### Experiment 3: "
   ]
  },
  {
   "cell_type": "code",
   "execution_count": null,
   "metadata": {},
   "outputs": [],
   "source": [
    "experiment_visualizer.show_experiment_3(\"Median Sum Accuracy vs Skew\", 0.08, True)"
   ]
  },
  {
   "cell_type": "markdown",
   "metadata": {},
   "source": [
    "### Experiment 4:"
   ]
  },
  {
   "cell_type": "code",
   "execution_count": null,
   "metadata": {},
   "outputs": [],
   "source": [
    "experiment_visualizer.show_experiment_4_balanced(\"Median Over-estimation Rate vs Quality of the Similarity Metric\",5, True)"
   ]
  },
  {
   "cell_type": "code",
   "execution_count": null,
   "metadata": {},
   "outputs": [],
   "source": [
    "experiment_visualizer.show_experiment_4_skewed(\"Median Over-estimation Rate vs Quality of the Similarity Metric\",5, True)"
   ]
  },
  {
   "cell_type": "markdown",
   "metadata": {},
   "source": [
    "# ---------------------------------------------------------------------------------"
   ]
  },
  {
   "cell_type": "markdown",
   "metadata": {},
   "source": [
    "## SUM Case 2: Unbalanced: 1's table disproportionately bigger than n's table. \n",
    "i.e. table_a has 10,000 rows, table_b has 100 rows, n=3, sim_threshold = 0.2"
   ]
  },
  {
   "cell_type": "code",
   "execution_count": null,
   "metadata": {},
   "outputs": [],
   "source": [
    "experiment_funcs.create_csv_table(\"unbalanced_one_table_n3\")\n",
    "for i in range(10):\n",
    "    # Create Randomized Data\n",
    "    table_a_non_duplicated, table_b, table_a_dup, tables_map, perfect_mapping = experiment_funcs.create_synth_data(10000, 100, \"table1\", \"table2\", \"table1_dup\", 3)\n",
    "    \n",
    "    # Bipartite Matching Script\n",
    "    total_max, total_min, bip_min_matching_time, bip_max_matching_time, out_max, out_min = experiment_funcs.sum_bip_script(table_a_non_duplicated, table_b, \"name\", 0.2, 3, tables_map)\n",
    "\n",
    "    # Run Naive Matching Script\n",
    "    naive_total_max, naive_total_min, naive_min_matching_time, naive_max_matching_time, naive_max, naive_min = experiment_funcs.sum_naive_script(0.2, \"table1\", \"table2\", table_a_non_duplicated, 3, \"naive_dup\")\n",
    "    \n",
    "    # Run Random Matching Script\n",
    "    sampled_total_max, sampled_total_min, sampled_min_matching_time, sampled_max_matching_time, sampled_max, sampled_min = experiment_funcs.sum_random_sample_script(0.2, 60, \"table1\", \"table2\", table_a_non_duplicated, 3, \"random_dup\")\n",
    "    \n",
    "    # Run Accuracy Evaluation\n",
    "    eval_records = experiment_funcs.full_evaluation(out_min, out_max, naive_min, naive_max, sampled_min, sampled_max, perfect_mapping)\n",
    "    \n",
    "    # Record Experiment Results\n",
    "    experiment_funcs.table_csv_output(total_min, total_max, naive_total_min, naive_total_max, sampled_total_min, sampled_total_max, \"unbalanced_one_table_n3\", bip_min_matching_time, bip_max_matching_time, naive_min_matching_time, naive_max_matching_time, sampled_min_matching_time, sampled_max_matching_time, eval_records)\n",
    "    "
   ]
  },
  {
   "cell_type": "code",
   "execution_count": null,
   "metadata": {},
   "outputs": [],
   "source": [
    "def fix_form_bp(bp_match):\n",
    "    new_list = []\n",
    "    for (val1,val2, weight) in bp_match:\n",
    "        splitted1 = val1.split(\"_\")\n",
    "        splitted2 = val2.split(\"_\")\n",
    "        if len(splitted1) == 4:\n",
    "            new_list.append((splitted1[0], splitted2[0], weight))\n",
    "        else:\n",
    "            new_list.append((splitted2[0], splitted1[0], weight))\n",
    "            \n",
    "    return new_list\n",
    "\n",
    "def fix_form_naive(naive_match):\n",
    "    new_list = []\n",
    "    for (val1,val2, weight) in naive_match:\n",
    "        splitted1 = val1.split(\"_\")[0]\n",
    "        new_list.append((splitted1, val2, weight))\n",
    "    return new_list\n",
    "            \n",
    "formatted_max_bp = fix_form_bp(out_max)\n",
    "formatted_min_bp = fix_form_bp(out_min)\n",
    "\n",
    "formatted_max_naive = fix_form_naive(naive_max)\n",
    "formatted_min_naive = fix_form_naive(naive_min)\n",
    "\n",
    "def find_dif_matches(bp_match, naive_match):\n",
    "    naive_set = set(naive_match)\n",
    "    bp_set = set(bp_match)\n",
    "    return naive_set.symmetric_difference(bp_set)\n",
    "\n",
    "# what's in naive set, but not in bp set\n",
    "def find_naive_dif(bp_match, naive_match):\n",
    "    naive_set = set(naive_match)\n",
    "    bp_set = set(bp_match)\n",
    "    return naive_set.difference(bp_set)\n",
    "\n",
    "# what's in bp set, but not in naive set\n",
    "def find_bp_dif(bp_match, naive_match):\n",
    "    naive_set = set(naive_match)\n",
    "    bp_set = set(bp_match)\n",
    "    return bp_set.difference(naive_set)\n",
    "\n",
    "print(\"Symmetric Differences: \", find_dif_matches(formatted_max_bp, formatted_max_naive))\n",
    "naive_dif = find_naive_dif(formatted_max_bp, formatted_max_naive)\n",
    "bp_dif = find_bp_dif(formatted_max_bp, formatted_max_naive)\n",
    "# print(\"Naive Outcome Differences: \", naive_dif)\n",
    "# print(\"BP Outcome Differences: \", bp_dif)\n",
    "print(len(formatted_max_bp))\n",
    "print(\"Naive Outcome Differences: \", len(naive_dif))\n",
    "print(\"BP Outcome Differences: \", len(bp_dif))\n",
    "\n",
    "print(\"Symmetric Differences: \", find_dif_matches(formatted_min_bp, formatted_min_naive))\n",
    "naive_dif = find_naive_dif(formatted_min_bp, formatted_min_naive)\n",
    "bp_dif = find_bp_dif(formatted_min_bp, formatted_min_naive)\n",
    "# print(\"Naive Outcome Differences: \", naive_dif)\n",
    "# print(\"BP Outcome Differences: \", bp_dif)\n",
    "print(\"Naive Outcome Differences: \", len(naive_dif))\n",
    "print(\"BP Outcome Differences: \", len(bp_dif))\n",
    "\n",
    "print(len(out_min))\n",
    "print(len(naive_min))\n",
    "\n",
    "print(len(out_max))\n",
    "print(len(naive_max))\n",
    "\n",
    "\n",
    "sorted_bp_min = sorted(out_min, key=lambda x:x[-1])\n",
    "sorted_naive_min = sorted(naive_min, key=lambda x:x[-1])\n",
    "\n",
    "print(\"Naive MIN\", sorted_naive_min[0:5])\n",
    "print(\"\\n sorted bp min\", sorted_bp_min[0:5])"
   ]
  },
  {
   "cell_type": "markdown",
   "metadata": {},
   "source": [
    "# COUNT:"
   ]
  },
  {
   "cell_type": "markdown",
   "metadata": {},
   "source": [
    "### CASE 1: Balanced 2 tables, matching n=3, filter condition age>=5"
   ]
  },
  {
   "cell_type": "code",
   "execution_count": null,
   "metadata": {},
   "outputs": [],
   "source": [
    "experiment_funcs.create_csv_table(\"count_trialsample\")\n",
    "for i in range(10):\n",
    "    # Create Randomized Data\n",
    "    table_a_non_duplicated, table_b, table_a_dup, tables_map, perfect_mapping  = experiment_funcs.create_synth_data(100, 100, \"table1\", \"table2\", \"table1_dup\", 3)\n",
    "    \n",
    "    # Bipartite Matching Script\n",
    "    total_max, total_min, bip_min_matching_time, bip_max_matching_time = experiment_funcs.count_bip_script(table_a_non_duplicated, table_b, \"name\", 0.09, 3, 5)\n",
    "\n",
    "    # Run Naive Matching Script\n",
    "    naive_total_max, naive_total_min, naive_min_matching_time, naive_max_matching_time = experiment_funcs.count_naive_script(0.09, \"table1_dup\", \"table2\", \"table1\", 5)\n",
    "    \n",
    "    # Run Random Matching Script\n",
    "    sampled_total_max, sampled_total_min, sampled_min_matching_time, sampled_max_matching_time = experiment_funcs.count_random_sample_script(0.09, 50, \"table1_dup\", \"table2\", \"table1\", 5)\n",
    "    \n",
    "    # Record Experiment Results\n",
    "    experiment_funcs.count_table_csv_output(total_min, total_max, naive_total_min, naive_total_max, sampled_total_min, sampled_total_max, \"count_trialsample\", bip_min_matching_time, bip_max_matching_time, naive_min_matching_time, naive_max_matching_time, sampled_min_matching_time, sampled_max_matching_time)"
   ]
  },
  {
   "cell_type": "code",
   "execution_count": null,
   "metadata": {},
   "outputs": [],
   "source": [
    "\"\"\"\n",
    "Observation: Bipartite Matching gave the lowest outcome. Why?\n",
    "\n",
    "\n",
    "Matching [Total Max, Total Min] Outcome\n",
    "\"\"\"\n",
    "print(\"Bipartite Matching: \", \"[\", total_min, \", \", total_max, \"]\")\n",
    "print(\"Naive Matching: \", \"[\", naive_total_min, \", \", naive_total_max, \"]\")\n",
    "print(\"Random Sample Matching: \", \"[\", sampled_total_min, \", \", sampled_total_max, \"]\")"
   ]
  },
  {
   "cell_type": "code",
   "execution_count": null,
   "metadata": {},
   "outputs": [],
   "source": []
  }
 ],
 "metadata": {
  "kernelspec": {
   "display_name": "Python 3",
   "language": "python",
   "name": "python3"
  },
  "language_info": {
   "codemirror_mode": {
    "name": "ipython",
    "version": 3
   },
   "file_extension": ".py",
   "mimetype": "text/x-python",
   "name": "python",
   "nbconvert_exporter": "python",
   "pygments_lexer": "ipython3",
   "version": "3.7.6"
  }
 },
 "nbformat": 4,
 "nbformat_minor": 4
}
