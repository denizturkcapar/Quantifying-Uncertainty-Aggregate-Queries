{
 "cells": [
  {
   "cell_type": "markdown",
   "metadata": {},
   "source": [
    "# All Experiment Scripts"
   ]
  },
  {
   "cell_type": "code",
   "execution_count": 1,
   "metadata": {},
   "outputs": [],
   "source": [
    "import experiment_funcs"
   ]
  },
  {
   "cell_type": "markdown",
   "metadata": {},
   "source": [
    "# SUM:"
   ]
  },
  {
   "cell_type": "markdown",
   "metadata": {},
   "source": [
    "## Case 1: Balanced 2 tables matching, n=3\n",
    "#### Matching [Total Max, Total Min] Outcome"
   ]
  },
  {
   "cell_type": "code",
   "execution_count": 2,
   "metadata": {},
   "outputs": [
    {
     "name": "stdout",
     "output_type": "stream",
     "text": [
      "---- Timing for Graph Construction with Treshold Constraint ----\n",
      "0.227503 seconds\n",
      "\n",
      "\n",
      " 'SUM' MAXIMAL MATCHING:\n",
      "---- Timing for Matching (Done on the graph constructed with the treshold constraint) ----\n",
      "0.311231 seconds\n",
      "The number of edges in the graph is: 1929 \n",
      "\n",
      "\n",
      "\n",
      " 'SUM' MINIMAL MATCHING RESULTS:\n",
      "True\n",
      "---- Timing for Matching (Done on the graph constructed with the treshold constraint) ----\n",
      "0.312618 seconds\n",
      "The number of edges in the graph is: 1929 \n",
      "\n",
      "BP Matching: Highest bound for maximum: 1121.0\n",
      "BP Matching: Lowest bound for minimum: 624.0\n",
      "Loaded catalogs.\n",
      "NAIVE MAX MATCHING\n",
      "Performing compare all match (edit distance)...\n",
      "Naive Edit Distance Matching computation time taken:  0.169276  seconds\n",
      "NAIVE MIN MATCHING\n",
      "Performing compare all match (edit distance)...\n",
      "Naive Edit Distance Matching computation time taken:  0.131087  seconds\n",
      "NAIVE MAX Matching Bound:  14139\n",
      "NAIVE MIN Matching Bound:  5019\n",
      "Loaded catalogs.\n",
      "RANDOM SAMPLE MAX MATCHING\n",
      "Performing random sample match (edit distance)...\n",
      "Simulation-Based Edit Distance Matching computation time taken:  0.146273  seconds\n",
      "RANDOM SAMPLE MIN MATCHING\n",
      "Performing random sample match (edit distance)...\n",
      "Simulation-Based Edit Distance Matching computation time taken:  0.181091  seconds\n",
      "SAMPLED MAX Matching Bound:  7050 \n",
      "\n",
      "SAMPLED MIN Matching Bound:  3485\n",
      "---- Timing for Graph Construction with Treshold Constraint ----\n",
      "0.232459 seconds\n",
      "\n",
      "\n",
      " 'SUM' MAXIMAL MATCHING:\n",
      "---- Timing for Matching (Done on the graph constructed with the treshold constraint) ----\n",
      "0.291733 seconds\n",
      "The number of edges in the graph is: 1665 \n",
      "\n",
      "\n",
      "\n",
      " 'SUM' MINIMAL MATCHING RESULTS:\n",
      "True\n",
      "---- Timing for Matching (Done on the graph constructed with the treshold constraint) ----\n",
      "0.310103 seconds\n",
      "The number of edges in the graph is: 1665 \n",
      "\n",
      "BP Matching: Highest bound for maximum: 1218.0\n",
      "BP Matching: Lowest bound for minimum: 740.0\n",
      "Loaded catalogs.\n",
      "NAIVE MAX MATCHING\n",
      "Performing compare all match (edit distance)...\n",
      "Naive Edit Distance Matching computation time taken:  0.184007  seconds\n",
      "NAIVE MIN MATCHING\n",
      "Performing compare all match (edit distance)...\n",
      "Naive Edit Distance Matching computation time taken:  0.138847  seconds\n",
      "NAIVE MAX Matching Bound:  12537\n",
      "NAIVE MIN Matching Bound:  4959\n",
      "Loaded catalogs.\n",
      "RANDOM SAMPLE MAX MATCHING\n",
      "Performing random sample match (edit distance)...\n",
      "Simulation-Based Edit Distance Matching computation time taken:  0.129802  seconds\n",
      "RANDOM SAMPLE MIN MATCHING\n",
      "Performing random sample match (edit distance)...\n",
      "Simulation-Based Edit Distance Matching computation time taken:  0.11895  seconds\n",
      "SAMPLED MAX Matching Bound:  6394 \n",
      "\n",
      "SAMPLED MIN Matching Bound:  3277\n",
      "---- Timing for Graph Construction with Treshold Constraint ----\n",
      "0.24037 seconds\n",
      "\n",
      "\n",
      " 'SUM' MAXIMAL MATCHING:\n",
      "---- Timing for Matching (Done on the graph constructed with the treshold constraint) ----\n",
      "0.316379 seconds\n",
      "The number of edges in the graph is: 1719 \n",
      "\n",
      "\n",
      "\n",
      " 'SUM' MINIMAL MATCHING RESULTS:\n",
      "True\n",
      "---- Timing for Matching (Done on the graph constructed with the treshold constraint) ----\n",
      "0.298028 seconds\n",
      "The number of edges in the graph is: 1719 \n",
      "\n",
      "BP Matching: Highest bound for maximum: 1080.0\n",
      "BP Matching: Lowest bound for minimum: 637.0\n",
      "Loaded catalogs.\n",
      "NAIVE MAX MATCHING\n",
      "Performing compare all match (edit distance)...\n",
      "Naive Edit Distance Matching computation time taken:  0.167826  seconds\n",
      "NAIVE MIN MATCHING\n",
      "Performing compare all match (edit distance)...\n",
      "Naive Edit Distance Matching computation time taken:  0.138703  seconds\n",
      "NAIVE MAX Matching Bound:  11883\n",
      "NAIVE MIN Matching Bound:  4080\n",
      "Loaded catalogs.\n",
      "RANDOM SAMPLE MAX MATCHING\n",
      "Performing random sample match (edit distance)...\n",
      "Simulation-Based Edit Distance Matching computation time taken:  0.12511  seconds\n",
      "RANDOM SAMPLE MIN MATCHING\n",
      "Performing random sample match (edit distance)...\n",
      "Simulation-Based Edit Distance Matching computation time taken:  0.116547  seconds\n",
      "SAMPLED MAX Matching Bound:  5874 \n",
      "\n",
      "SAMPLED MIN Matching Bound:  3205\n",
      "---- Timing for Graph Construction with Treshold Constraint ----\n",
      "0.210969 seconds\n",
      "\n",
      "\n",
      " 'SUM' MAXIMAL MATCHING:\n",
      "---- Timing for Matching (Done on the graph constructed with the treshold constraint) ----\n",
      "0.21571 seconds\n",
      "The number of edges in the graph is: 1341 \n",
      "\n",
      "\n",
      "\n",
      " 'SUM' MINIMAL MATCHING RESULTS:\n",
      "True\n",
      "---- Timing for Matching (Done on the graph constructed with the treshold constraint) ----\n",
      "0.226402 seconds\n",
      "The number of edges in the graph is: 1341 \n",
      "\n",
      "BP Matching: Highest bound for maximum: 1137.0\n",
      "BP Matching: Lowest bound for minimum: 728.0\n",
      "Loaded catalogs.\n",
      "NAIVE MAX MATCHING\n",
      "Performing compare all match (edit distance)...\n",
      "Naive Edit Distance Matching computation time taken:  0.168798  seconds\n",
      "NAIVE MIN MATCHING\n",
      "Performing compare all match (edit distance)...\n",
      "Naive Edit Distance Matching computation time taken:  0.124029  seconds\n",
      "NAIVE MAX Matching Bound:  9567\n",
      "NAIVE MIN Matching Bound:  4536\n",
      "Loaded catalogs.\n",
      "RANDOM SAMPLE MAX MATCHING\n",
      "Performing random sample match (edit distance)...\n",
      "Simulation-Based Edit Distance Matching computation time taken:  0.125253  seconds\n",
      "RANDOM SAMPLE MIN MATCHING\n",
      "Performing random sample match (edit distance)...\n",
      "Simulation-Based Edit Distance Matching computation time taken:  0.141757  seconds\n",
      "SAMPLED MAX Matching Bound:  4750 \n",
      "\n",
      "SAMPLED MIN Matching Bound:  2779\n",
      "---- Timing for Graph Construction with Treshold Constraint ----\n",
      "0.239522 seconds\n",
      "\n",
      "\n",
      " 'SUM' MAXIMAL MATCHING:\n",
      "---- Timing for Matching (Done on the graph constructed with the treshold constraint) ----\n",
      "0.291549 seconds\n",
      "The number of edges in the graph is: 1647 \n",
      "\n",
      "\n",
      "\n",
      " 'SUM' MINIMAL MATCHING RESULTS:\n",
      "True\n",
      "---- Timing for Matching (Done on the graph constructed with the treshold constraint) ----\n",
      "0.294831 seconds\n",
      "The number of edges in the graph is: 1647 \n",
      "\n",
      "BP Matching: Highest bound for maximum: 1105.0\n",
      "BP Matching: Lowest bound for minimum: 673.0\n",
      "Loaded catalogs.\n",
      "NAIVE MAX MATCHING\n",
      "Performing compare all match (edit distance)...\n",
      "Naive Edit Distance Matching computation time taken:  0.178013  seconds\n",
      "NAIVE MIN MATCHING\n",
      "Performing compare all match (edit distance)...\n",
      "Naive Edit Distance Matching computation time taken:  0.123102  seconds\n",
      "NAIVE MAX Matching Bound:  13458\n",
      "NAIVE MIN Matching Bound:  5001\n",
      "Loaded catalogs.\n",
      "RANDOM SAMPLE MAX MATCHING\n",
      "Performing random sample match (edit distance)...\n",
      "Simulation-Based Edit Distance Matching computation time taken:  0.12341  seconds\n",
      "RANDOM SAMPLE MIN MATCHING\n",
      "Performing random sample match (edit distance)...\n",
      "Simulation-Based Edit Distance Matching computation time taken:  0.114537  seconds\n",
      "SAMPLED MAX Matching Bound:  6579 \n",
      "\n",
      "SAMPLED MIN Matching Bound:  3572\n"
     ]
    }
   ],
   "source": [
    "experiment_funcs.create_csv_table(\"trial1sample\")\n",
    "for i in range(5):\n",
    "    # Create Randomized Data\n",
    "    table_a_non_duplicated, table_b, table_a_dup = experiment_funcs.create_synth_data(100, 100, \"table1\", \"table2\", \"table1_dup\")\n",
    "    \n",
    "    # Bipartite Matching Script\n",
    "    total_max, total_min = experiment_funcs.sum_bip_script(table_a_non_duplicated, table_b, \"name\", 0.09, 3)\n",
    "\n",
    "    # Run Naive Matching Script\n",
    "    naive_total_max, naive_total_min = experiment_funcs.sum_naive_script(3, 1, 0.09, \"table1_dup\", \"table2\")\n",
    "    \n",
    "    # Run Random Matching Script\n",
    "    sampled_total_max, sampled_total_min = experiment_funcs.sum_random_sample_script(3, 1, 0.09, 50, \"table1_dup\", \"table2\")\n",
    "    \n",
    "    # Record Experiment Results\n",
    "    experiment_funcs.table_csv_output(total_min, total_max, naive_total_min, naive_total_max, sampled_total_min, sampled_total_max, \"trial1sample\")"
   ]
  },
  {
   "cell_type": "markdown",
   "metadata": {},
   "source": [
    "# COUNT:"
   ]
  },
  {
   "cell_type": "markdown",
   "metadata": {},
   "source": [
    "### CASE 1: Write Case Here"
   ]
  },
  {
   "cell_type": "markdown",
   "metadata": {},
   "source": [
    "#### Bipartite matching Experiment Scripts"
   ]
  },
  {
   "cell_type": "code",
   "execution_count": 3,
   "metadata": {},
   "outputs": [
    {
     "ename": "NameError",
     "evalue": "name 'column_name' is not defined",
     "output_type": "error",
     "traceback": [
      "\u001b[0;31m---------------------------------------------------------------------------\u001b[0m",
      "\u001b[0;31mNameError\u001b[0m                                 Traceback (most recent call last)",
      "\u001b[0;32m<ipython-input-3-3b50ea2f3709>\u001b[0m in \u001b[0;36m<module>\u001b[0;34m\u001b[0m\n\u001b[0;32m----> 1\u001b[0;31m \u001b[0mexperiment_funcs\u001b[0m\u001b[0;34m.\u001b[0m\u001b[0msum_bip_script\u001b[0m\u001b[0;34m(\u001b[0m\u001b[0mtable_a_non_duplicated\u001b[0m\u001b[0;34m,\u001b[0m \u001b[0mtable_b\u001b[0m\u001b[0;34m,\u001b[0m \u001b[0mcolumn_name\u001b[0m\u001b[0;34m,\u001b[0m \u001b[0msimilarity_threshold\u001b[0m\u001b[0;34m)\u001b[0m\u001b[0;34m\u001b[0m\u001b[0;34m\u001b[0m\u001b[0m\n\u001b[0m",
      "\u001b[0;31mNameError\u001b[0m: name 'column_name' is not defined"
     ]
    }
   ],
   "source": [
    "experiment_funcs.sum_bip_script(table_a_non_duplicated, table_b, column_name, similarity_threshold)"
   ]
  },
  {
   "cell_type": "markdown",
   "metadata": {},
   "source": [
    "#### Naive Matching Experiment Scripts"
   ]
  },
  {
   "cell_type": "code",
   "execution_count": null,
   "metadata": {},
   "outputs": [],
   "source": [
    "experiment_funcs.sum_naive_script(filename1_dup, filename2):"
   ]
  },
  {
   "cell_type": "markdown",
   "metadata": {},
   "source": [
    "#### Random Sampling Matching Experiment Scripts"
   ]
  },
  {
   "cell_type": "code",
   "execution_count": null,
   "metadata": {},
   "outputs": [],
   "source": [
    "experiment_funcs.sum_random_sample_script(sample_size, filename1_dup, filename2):"
   ]
  },
  {
   "cell_type": "code",
   "execution_count": null,
   "metadata": {},
   "outputs": [],
   "source": []
  },
  {
   "cell_type": "markdown",
   "metadata": {},
   "source": [
    "## Case 2: 1's table disproportionately bigger than n's table. \n",
    "i.e. table_a has 10,000 rows, table_b has 100 rows, n=3, sim_threshold = 0.09"
   ]
  },
  {
   "cell_type": "code",
   "execution_count": null,
   "metadata": {},
   "outputs": [],
   "source": [
    "### Data Configuration Here\n",
    "table_a_non_duplicated, table_b, table_a_dup = experiment_funcs.create_synth_data(10000, 100, \"table1\", \"table2\", \"table1_dup\")\n",
    "# print(table_a_non_duplicated, table_b, table_a_dup)"
   ]
  },
  {
   "cell_type": "code",
   "execution_count": null,
   "metadata": {},
   "outputs": [],
   "source": [
    "#### Bipartite Matching Experiment Scripts\n",
    "total_max, total_min = experiment_funcs.sum_bip_script(table_a_non_duplicated, table_b, \"name\", 0.09, 3)\n",
    "#### Naive Matching Experiment Scripts\n",
    "naive_total_max, naive_total_min = experiment_funcs.sum_naive_script(3, 1, 0.09, \"table1_dup\", \"table2\")\n",
    "#### Random Sampling Matching Experiment Scripts\n",
    "sampled_total_max, sampled_total_min = experiment_funcs.sum_random_sample_script(3, 1, 0.09, 50, \"table1_dup\", \"table2\")"
   ]
  },
  {
   "cell_type": "code",
   "execution_count": null,
   "metadata": {},
   "outputs": [],
   "source": [
    "\"\"\"\n",
    "Observation: Bipartite Matching gave the lowest outcome. Why?\n",
    "\n",
    "\n",
    "Matching [Total Max, Total Min] Outcome\n",
    "\"\"\"\n",
    "print(\"Bipartite Matching: \", \"[\", total_min, \", \", total_max, \"]\")\n",
    "print(\"Naive Matching: \", \"[\", naive_total_min, \", \", naive_total_max, \"]\")\n",
    "print(\"Random Sample Matching: \", \"[\", sampled_total_min, \", \", sampled_total_max, \"]\")"
   ]
  },
  {
   "cell_type": "code",
   "execution_count": null,
   "metadata": {},
   "outputs": [],
   "source": []
  }
 ],
 "metadata": {
  "kernelspec": {
   "display_name": "Python 3",
   "language": "python",
   "name": "python3"
  },
  "language_info": {
   "codemirror_mode": {
    "name": "ipython",
    "version": 3
   },
   "file_extension": ".py",
   "mimetype": "text/x-python",
   "name": "python",
   "nbconvert_exporter": "python",
   "pygments_lexer": "ipython3",
   "version": "3.7.6"
  }
 },
 "nbformat": 4,
 "nbformat_minor": 4
}
