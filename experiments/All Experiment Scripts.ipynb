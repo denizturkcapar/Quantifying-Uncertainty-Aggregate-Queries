{
 "cells": [
  {
   "cell_type": "markdown",
   "metadata": {},
   "source": [
    "# All Experiment Scripts"
   ]
  },
  {
   "cell_type": "code",
   "execution_count": 1,
   "metadata": {},
   "outputs": [],
   "source": [
    "import sys\n",
    "from os import path\n",
    "sys.path.insert(0, '../src')\n",
    "import one_to_n\n",
    "sys.path.insert(0, '../tests')\n",
    "import create_synthetic_dataset\n",
    "import datetime\n",
    "import textdistance\n",
    "import editdistance\n",
    "import pandas as pd\n",
    "import networkx as nx\n",
    "import re\n",
    "\n",
    "import editdistance\n",
    "from Matching import core2\n",
    "from Matching import analyze\n",
    "from Matching import matcher\n",
    "import sys\n",
    "import os\n",
    "import datetime"
   ]
  },
  {
   "cell_type": "code",
   "execution_count": 2,
   "metadata": {},
   "outputs": [],
   "source": [
    "\"\"\"\n",
    "Converts dictionary output to dataframe. Use for experiment results\n",
    "\"\"\"\n",
    "def dict_to_df(output_dict):\n",
    "    df = pd.DataFrame.from_dict(output_dict, orient='index',columns=['Matched Item', 'Max/Min', 'Value'])\n",
    "    return df\n",
    "\"\"\"\n",
    "Converts experiment results to CSV format. Use for experiment results\n",
    "\"\"\"\n",
    "def exp_result_to_csv(filename, experiment_output_df):\n",
    "    #create the CSV with custom filename describing the experiment\n",
    "    df.to_csv(filename, index = False)\n",
    "\n",
    "def create_synth_data(table1_rowcount, table2_rowcount, datafilename1, datafilename2, filename1_dup):\n",
    "    table_a_non_duplicated = create_synthetic_dataset.create_first_df(table1_rowcount)\n",
    "\n",
    "    table_b_non_typo = create_synthetic_dataset.create_second_df(table2_rowcount)\n",
    "\n",
    "    table_b = create_synthetic_dataset.add_typo(table_a_non_duplicated, table_b_non_typo)\n",
    "    \n",
    "    table_a_non_duplicated.to_csv(datafilename1, index = False, header=True)\n",
    "    \n",
    "    table_b.to_csv(datafilename2, index = False, header=True)\n",
    "    \n",
    "    table_a_dup = one_to_n.create_duplicates(table_a_non_duplicated, \"name\", 3)\n",
    "    \n",
    "    table_a_dup.to_csv(filename1_dup, index = False, header=True)\n",
    "    \n",
    "    return table_a_non_duplicated, table_b, table_a_dup\n",
    "\n",
    "def SUM_edit_edge_weight(bip_graph):\n",
    "    for u,v,d in bip_graph.edges(data=True):\n",
    "        val_tuple_1 = u.split(\"_\")\n",
    "        val_tuple_2 = v.split(\"_\")\n",
    "        \n",
    "        if len(val_tuple_1) == 4:\n",
    "            val1 = re.sub(\"[^0-9]\", \"\", val_tuple_1[2])\n",
    "        else: \n",
    "            val1 = re.sub(\"[^0-9]\", \"\", val_tuple_1[1])\n",
    "            \n",
    "        if len(val_tuple_2) == 4:\n",
    "            val2 =re.sub(\"[^0-9]\", \"\", val_tuple_2[2])\n",
    "        else:\n",
    "            val2 =re.sub(\"[^0-9]\", \"\", val_tuple_2[1])\n",
    "\n",
    "        d['weight'] = float(val1) + float(val2)\n",
    "\n",
    "    return bip_graph\n",
    "\n",
    "def minimal_matching(sum_weighted_graph):\n",
    "    new_graph = sum_weighted_graph.copy()\n",
    "    max_weight = max([d['weight'] for u,v,d in new_graph.edges(data=True)])\n",
    "    for u,v,d in new_graph.edges(data=True):\n",
    "        d['weight'] = max_weight - d['weight']\n",
    "\n",
    "    matching_set_minimal = nx.algorithms.matching.max_weight_matching(new_graph)\n",
    "    return matching_set_minimal\n",
    "\n",
    "def fetch_sum(bip_graph, matching):\n",
    "    output = []\n",
    "    for u,v,d in bip_graph.edges(data=True):\n",
    "        l = (u, v)\n",
    "        k = (v, u)\n",
    "        if l in matching:\n",
    "            output.append([u,v, d['weight']])\n",
    "        if k in matching:\n",
    "            output.append([v,u, d['weight']])\n",
    "    return output\n",
    "\n",
    "def formatted_output(out_max, out_min):\n",
    "    out_dict = {}\n",
    "    for (val1,val2, weight) in out_min:\n",
    "        splitted1 = val1.split(\"_\")\n",
    "        splitted2 = val2.split(\"_\")\n",
    "        if len(splitted1) == 4:\n",
    "            if splitted1[0] in out_dict:\n",
    "                out_dict[splitted1[0]].append((splitted2[0], \"min\", weight))\n",
    "            else:\n",
    "                out_dict[splitted1[0]] = [(splitted2[0], \"min\", weight)]\n",
    "\n",
    "        if len(splitted2) == 4:\n",
    "            if splitted2[0] in out_dict:\n",
    "                out_dict[splitted2[0]].append((splitted1[0], \"min\", weight))\n",
    "            else:\n",
    "                out_dict[splitted2[0]] = [(splitted1[0], \"min\", weight)]\n",
    "            \n",
    "    for (val1,val2, weight) in out_max:\n",
    "        splitted1 = val1.split(\"_\")\n",
    "        splitted2 = val2.split(\"_\")\n",
    "        if len(splitted1) == 4:\n",
    "            if splitted1[0] in out_dict:\n",
    "                out_dict[splitted1[0]].append((splitted2[0], \"max\", weight))\n",
    "            else:\n",
    "                out_dict[splitted1[0]] = [(splitted2[0], \"max\", weight)]\n",
    "\n",
    "        if len(splitted2) == 4:\n",
    "            if splitted2[0] in out_dict:\n",
    "                out_dict[splitted2[0]].append((splitted1[0], \"max\", weight))\n",
    "            else:\n",
    "                out_dict[splitted2[0]] = [(splitted1[0], \"max\", weight)]\n",
    "    return out_dict\n",
    "\n",
    "def sum_total_weights(max_min_list):\n",
    "    if max_min_list == [] or max_min_list == None:\n",
    "        print(\"ERROR: NO SIMILARITY FOUND IN NAIVE OR RANDOM SAMPLING APPROACH. Suggestion: Decrease Similarity Matching Threshold.\")\n",
    "        return None\n",
    "    total = 0\n",
    "    for i in max_min_list:\n",
    "        total += i[-1]\n",
    "    return total\n",
    "\n",
    "def sum_bip_script(table_a_non_duplicated, table_b, column_name, similarity_threshold):\n",
    "    now = datetime.datetime.now()\n",
    "    bipartite_graph_result = one_to_n.keycomp_treshold_updated_maximal_construct_graph(table_a_non_duplicated, table_b, column_name, similarity_threshold)\n",
    "    timing_tresh = (datetime.datetime.now()-now).total_seconds()\n",
    "    print(\"---- Timing for Graph Construction with Treshold Constraint ----\")\n",
    "    print(timing_tresh,\"seconds\")\n",
    "    \n",
    "    sum_weighted_graph = SUM_edit_edge_weight(bipartite_graph_result)\n",
    "    \n",
    "    print(\"\\n\\n 'SUM' MAXIMAL MATCHING:\")\n",
    "    now = datetime.datetime.now()\n",
    "    matching_set_maximal = nx.algorithms.matching.max_weight_matching(sum_weighted_graph)\n",
    "    timing_match = (datetime.datetime.now()-now).total_seconds()\n",
    "    print(\"The Maximal Matching Set is:\", matching_set_maximal, \"\\n\")\n",
    "    print(\"---- Timing for Matching (Done on the graph constructed with the treshold constraint) ----\")\n",
    "    print(timing_match,\"seconds\")\n",
    "    print(\"The number of edges in the graph is:\", sum_weighted_graph.number_of_edges(), \"\\n\")\n",
    "    \n",
    "    \n",
    "    print(\"\\n\\n 'SUM' MINIMAL MATCHING RESULTS:\")\n",
    "    print(nx.bipartite.is_bipartite(sum_weighted_graph))\n",
    "    now = datetime.datetime.now()\n",
    "    matching_set_minimal = minimal_matching(sum_weighted_graph)\n",
    "    timing_match = (datetime.datetime.now()-now).total_seconds()\n",
    "    print(\"The Minimal Matching Set is:\", matching_set_minimal, \"\\n\")\n",
    "    print(\"---- Timing for Matching (Done on the graph constructed with the treshold constraint) ----\")\n",
    "    print(timing_match,\"seconds\")\n",
    "    print(\"The number of edges in the graph is:\", sum_weighted_graph.number_of_edges(), \"\\n\")\n",
    "    \n",
    "    \n",
    "    \n",
    "    out_max = fetch_sum(sum_weighted_graph, matching_set_maximal)\n",
    "    out_min = fetch_sum(sum_weighted_graph, matching_set_minimal)\n",
    "    \n",
    "    form_output = formatted_output(out_max,out_min)\n",
    "    \n",
    "#     max_df_output = dict_to_df(form_output)\n",
    "    \n",
    "#     min_df_output = dict_to_df(form_output)\n",
    "    \n",
    "#     exp_result_to_csv(filename_max_bip_out, max_df_output)\n",
    "    \n",
    "#     exp_result_to_csv(filename_min_bip_out, min_df_output)\n",
    "    \n",
    "    total_max = sum_total_weights(out_max)\n",
    "    print(\"BP Matching: Highest bound for maximum:\", total_max)\n",
    "\n",
    "    total_min = sum_total_weights(out_min)\n",
    "    print(\"BP Matching: Lowest bound for minimum:\", total_min)\n",
    "    \n",
    "    return total_max, total_min"
   ]
  },
  {
   "cell_type": "code",
   "execution_count": 3,
   "metadata": {},
   "outputs": [],
   "source": [
    "def sum_naive_script(filename1_dup, filename2):\n",
    "    # print(os.getcwd())\n",
    "#    cat_table1_dup = core2.data_catalog('s_data1_dup.csv')\n",
    "    cat_table1_dup = core2.data_catalog(filename1_dup)\n",
    "    cat_table2 = core2.data_catalog(filename2)\n",
    "    print('Loaded catalogs.')\n",
    "    \n",
    "    \n",
    "    # NAIVE MAX MATCHING\n",
    "    print(\"NAIVE MAX MATCHING\")\n",
    "    print('Performing compare all match (edit distance)...')\n",
    "    now = datetime.datetime.now()\n",
    "    max_compare_all_edit_match = matcher.matcher_dup_updated(cat_table1_dup,cat_table2,editdistance.eval, matcher.all, 0.09)\n",
    "    naive_time_edit = (datetime.datetime.now()-now).total_seconds()\n",
    "    print(\"Naive Edit Distance Matching computation time taken: \", naive_time_edit, \" seconds\")\n",
    "    #print('Compare All Matcher (Edit Distance) Performance: ' + str(core.eval_matching(compare_all_edit_match)))\n",
    "\n",
    "\n",
    "#     print('Performing compare all match (jaccard distance)...')\n",
    "#     now = datetime.datetime.now()\n",
    "#     max_compare_all_jaccard_match = matcher.matcher_dup_updated(cat_table1_dup,cat_table2,analyze.jaccard_calc, matcher.all, 0.09)\n",
    "#     naive_time_jaccard = (datetime.datetime.now()-now).total_seconds()\n",
    "#     print(\"Naive Jaccard Matching computation time taken: \", naive_time_jaccard, \" seconds\", \"\\n\")\n",
    "    #print('Compare All Matcher (Jaccard Distance) Performance: ' + str(core2.eval_matching(compare_all_jaccard_match)))\n",
    "\n",
    "    # NAIVE MIN MATCHING\n",
    "    print(\"NAIVE MIN MATCHING\")\n",
    "    print('Performing compare all match (edit distance)...')\n",
    "    now = datetime.datetime.now()\n",
    "    min_compare_all_edit_match = matcher.matcher_updated(cat_table1_dup,cat_table2,editdistance.eval, matcher.all, 0.09)\n",
    "    naive_time_edit = (datetime.datetime.now()-now).total_seconds()\n",
    "    print(\"Naive Edit Distance Matching computation time taken: \", naive_time_edit, \" seconds\")\n",
    "    #print('Compare All Matcher (Edit Distance) Performance: ' + str(core.eval_matching(compare_all_edit_match)))\n",
    "\n",
    "\n",
    "#     print('Performing compare all match (jaccard distance)...')\n",
    "#     now = datetime.datetime.now()\n",
    "#     min_compare_all_jaccard_match = matcher.matcher_updated(cat_table1,cat_table2,analyze.jaccard_calc, matcher.all, 0.09)\n",
    "#     naive_time_jaccard = (datetime.datetime.now()-now).total_seconds()\n",
    "#     print(\"Naive Jaccard Matching computation time taken: \", naive_time_jaccard, \" seconds\")\n",
    "    #print('Compare All Matcher (Jaccard Distance) Performance: ' + str(core2.eval_matching(compare_all_jaccard_match)))\n",
    "\n",
    "    naive_total_max = sum_total_weights(max_compare_all_edit_match)\n",
    "    naive_total_min = sum_total_weights(min_compare_all_edit_match)\n",
    "    print(\"MAX Matching Bound:\")\n",
    "    print(\"NAIVE Matching: \", naive_total_max)\n",
    "    print(\"MIN Matching Bound:\")\n",
    "    print(\"NAIVE Matching: \", naive_total_min)\n",
    "    return naive_total_max, naive_total_min"
   ]
  },
  {
   "cell_type": "code",
   "execution_count": 11,
   "metadata": {},
   "outputs": [],
   "source": [
    "def sum_random_sample_script(sample_size, filename1_dup, filename2):\n",
    "    \n",
    "    cat_table1_dup = core2.data_catalog(filename1_dup)\n",
    "    cat_table2 = core2.data_catalog(filename2)\n",
    "    print('Loaded catalogs.')\n",
    "    \n",
    "    # RANDOM SAMPLING MAX MATCHING\n",
    "    print(\"RANDOM SAMPLE MAX MATCHING\")\n",
    "    print('Performing random sample match (edit distance)...')\n",
    "    now = datetime.datetime.now()\n",
    "    max_compare_sampled_edit_match = matcher.matcher_dup_updated(cat_table1_dup,cat_table2,editdistance.eval, matcher.random_sample, 0.09, sample_size)\n",
    "    sim_time_edit = (datetime.datetime.now()-now).total_seconds()\n",
    "    print(\"Simulation-Based Edit Distance Matching computation time taken: \", sim_time_edit, \" seconds\")\n",
    "    #print('Random Sample Matcher (Edit Distance) Performance: ' + str(core.eval_matching(compare_all_edit_match)))\n",
    "\n",
    "    # print('Performing random sample match (jaccard distance)...')\n",
    "    # now = datetime.datetime.now()\n",
    "    # max_compare_sampled_jaccard_match = matcher.matcher_dup_updated(cat_table1_dup,cat_table2,analyze.jaccard_calc, matcher.random_sample, 0.05, sample_size)\n",
    "    # sim_time_jaccard = (datetime.datetime.now()-now).total_seconds()\n",
    "    # print(\"Simulation-Based Jaccard Matching computation time taken: \", sim_time_jaccard, \" seconds\", \"\\n\")\n",
    "    #print('Random Sample Matcher (Jaccard Distance) Performance: ' + str(core.eval_matching(compare_all_jaccard_match)))\n",
    "\n",
    "\n",
    "    # RANDOM SAMPLING MIN MATCHING\n",
    "    print(\"RANDOM SAMPLE MIN MATCHING\")\n",
    "    print('Performing random sample match (edit distance)...')\n",
    "    now = datetime.datetime.now()\n",
    "    min_compare_sampled_edit_match = matcher.matcher_updated(cat_table1_dup,cat_table2,editdistance.eval, matcher.random_sample, 0.09, sample_size)\n",
    "    sim_time_edit = (datetime.datetime.now()-now).total_seconds()\n",
    "    print(\"Simulation-Based Edit Distance Matching computation time taken: \", sim_time_edit, \" seconds\")\n",
    "    #print('Random Sample Matcher (Edit Distance) Performance: ' + str(core.eval_matching(compare_all_edit_match)))\n",
    "\n",
    "    # print('Performing random sample match (jaccard distance)...')\n",
    "    # now = datetime.datetime.now()\n",
    "    # min_compare_sampled_jaccard_match = matcher.matcher_updated(cat_table1,cat_table2,analyze.jaccard_calc, matcher.random_sample, 0.5, sample_size)\n",
    "    # sim_time_jaccard = (datetime.datetime.now()-now).total_seconds()\n",
    "    # print(\"Simulation-Based Jaccard Matching computation time taken: \", sim_time_jaccard, \" seconds\")\n",
    "    #print('Random Sample Matcher (Jaccard Distance) Performance: ' + str(core.eval_matching(compare_all_jaccard_match)))\n",
    "\n",
    "    sampled_total_max = sum_total_weights(max_compare_sampled_edit_match)\n",
    "    sampled_total_min = sum_total_weights(min_compare_sampled_edit_match)\n",
    "    print(\"MAX Matching Bound:\")\n",
    "    print(\"SAMPLED Matching: \", sampled_total_max, \"\\n\")\n",
    "    print(\"MIN Matching Bound:\")\n",
    "    print(\"NAIVE Matching: \", naive_total_min)\n",
    "    return sampled_total_max, sampled_total_min\n"
   ]
  },
  {
   "cell_type": "code",
   "execution_count": 12,
   "metadata": {},
   "outputs": [],
   "source": [
    "def sum_results_summaries(bip_max, bip_min, naive_max, naive_min, random_max, random_min):\n",
    "    print(\"MAX Matching Bound:\")\n",
    "    print(\"BP Matching: \", bip_sum_max)\n",
    "    print(\"NAIVE Matching: \", naive_total_max)\n",
    "    print(\"SAMPLED Matching: \", sampled_total_max, \"\\n\")\n",
    "\n",
    "    naive_total_min = sum_total_weights(min_compare_all_edit_match)\n",
    "    sampled_total_min = sum_total_weights(min_compare_sampled_edit_match)\n",
    "    bp_total_min = sum_total_weights(out_min)\n",
    "\n",
    "    print(\"MIN Matching Bound:\")\n",
    "    print(\"BP Matching: \", bip_sum_min)\n",
    "    print(\"NAIVE Matching: \", naive_total_min)\n",
    "    print(\"SAMPLED Matching: \", sampled_total_min, \"\\n\")"
   ]
  },
  {
   "cell_type": "markdown",
   "metadata": {},
   "source": [
    "# SUM:"
   ]
  },
  {
   "cell_type": "markdown",
   "metadata": {},
   "source": [
    "### CASE 1: Write Case Here"
   ]
  },
  {
   "cell_type": "markdown",
   "metadata": {},
   "source": [
    "### Data Configuration Here"
   ]
  },
  {
   "cell_type": "code",
   "execution_count": 13,
   "metadata": {},
   "outputs": [],
   "source": [
    "table_a_non_duplicated, table_b, table_a_dup = create_synth_data(100, 100, \"table1\", \"table2\", \"table1_dup\")\n",
    "# print(table_a_non_duplicated, table_b, table_a_dup)"
   ]
  },
  {
   "cell_type": "markdown",
   "metadata": {},
   "source": [
    "#### Bipartite Matching Experiment Scripts"
   ]
  },
  {
   "cell_type": "code",
   "execution_count": 18,
   "metadata": {},
   "outputs": [
    {
     "name": "stdout",
     "output_type": "stream",
     "text": [
      "---- Timing for Graph Construction with Treshold Constraint ----\n",
      "0.234638 seconds\n",
      "\n",
      "\n",
      " 'SUM' MAXIMAL MATCHING:\n",
      "The Maximal Matching Set is: {('Mark HaynesHom_(8,)_2', 'Travis Bishop_1_(9,)_1'), ('Carl Riley_2_(9,)_1', 'Cheryl JonesWDa_(6,)_2'), ('Thomas Valdez_0_(8,)_1', 'Robert Rayhuz_(8,)_2'), ('Kaitlyn Davis_2_(7,)_1', 'Kathryn MartinNTQ_(0,)_2'), ('Carl Riley_1_(9,)_1', 'Laura FieldsQgz_(5,)_2'), ('Joshua SmithyGk_(2,)_2', 'Joshua Smith_2_(4,)_1'), ('James ThomasLPf_(8,)_2', 'Amy Jones_2_(7,)_1'), ('Roberto AllisonvMU_(9,)_2', 'Robert Avery_2_(8,)_1'), ('Todd Bowers_2_(9,)_1', 'David BurnswEy_(9,)_2'), ('Michael GarciaUIU_(6,)_2', 'Michael Garcia_2_(8,)_1'), ('Peter TerrywHX_(8,)_2', 'Paul Meadows_0_(8,)_1'), ('Adam GonzalezleK_(1,)_2', 'Adam Gonzalez_0_(5,)_1'), ('Christopher Walsh_2_(5,)_1', 'Christopher WalshRRC_(1,)_2'), ('Tony Harriswgv_(7,)_2', 'Kaitlyn Harris_1_(8,)_1'), ('Lori Lee_2_(8,)_1', 'Todd BowersAeq_(5,)_2'), ('Todd Bowers_0_(9,)_1', 'Paul BrownrNF_(4,)_2'), ('Brandi PatelXJm_(8,)_2', 'Ryan Hall_2_(3,)_1'), ('Kelly Lindsey_1_(6,)_1', 'Kelly Lindseyhog_(0,)_2'), ('Linda Cross_0_(9,)_1', 'Calvin RamosCjs_(5,)_2'), ('Linda Cross_2_(9,)_1', 'Lori LeeHkK_(3,)_2'), ('Heather Willis DVM_2_(8,)_1', 'Heather Willis DVMxRV_(7,)_2'), ('Mr. Andrew Bennett MDGaF_(6,)_2', 'Mr. Andrew Bennett MD_2_(1,)_1'), ('Thomas Valdez_2_(8,)_1', 'Theresa EdwardsC_(3,)_2'), ('Suzanne PetersonWLZ_(2,)_2', 'Suzanne Peterson_2_(2,)_1'), ('Tiffany MonroeFAv_(5,)_2', 'Tiffany Monroe_1_(9,)_1'), ('George Donaldson Jr.ZYW_(5,)_2', 'George Donaldson Jr._0_(0,)_1'), ('Kristina Kennedy_2_(4,)_1', 'Kristina KennedybGf_(4,)_2'), ('Kimberly Hale_1_(7,)_1', 'Kimberly CaldwelleKz_(2,)_2'), ('Jennifer Gardner_2_(1,)_1', 'Jennifer GardnerAeL_(8,)_2'), ('Dawn MartindCk_(0,)_2', 'Paul Brown_0_(8,)_1'), ('Rebecca Hudson_2_(7,)_1', 'Jessica Hurstght_(5,)_2'), ('Dillon Woodard_2_(6,)_1', 'Dillon WoodardiZB_(2,)_2'), ('Peggy WilliamsonxuS_(9,)_2', 'Peggy Williamson_2_(1,)_1'), ('Kaitlyn Harriswoy_(6,)_2', 'Deborah Harrison_2_(9,)_1'), ('Vanessa WilsonPep_(2,)_2', 'Vanessa Wilson_2_(6,)_1'), ('Kimberly KimQVI_(4,)_2', 'Kimberly Hale_2_(7,)_1'), ('Linda Cross_1_(9,)_1', 'Laura WattsiMu_(8,)_2'), ('Alejandra Green_2_(8,)_1', 'Alejandra GreenSYL_(4,)_2'), ('Robert Avery_0_(8,)_1', 'Robert Averydcd_(1,)_2'), ('Ruth MayoOmb_(1,)_2', 'Paul Brown_1_(8,)_1'), ('Lawrence PriceNpi_(5,)_2', 'Lawrence Price_2_(5,)_1'), ('Caroline Nunez_0_(8,)_1', 'Carl Rileyynq_(6,)_2'), ('Kaitlyn Davis_1_(7,)_1', 'Daisy LewiseMI_(3,)_2'), ('Linda CrossjwN_(5,)_2', 'Paul Brown_2_(8,)_1'), ('Andrew Rivera_1_(7,)_1', 'Matthew FordaLr_(1,)_2'), ('Mark SullivanMut_(2,)_2', 'Karen Collins_0_(8,)_1'), ('Tabitha BarnesdgH_(7,)_2', 'Tabitha Barnes_2_(7,)_1'), ('Rebecca Hudson_1_(7,)_1', 'Rebecca HudsonRfM_(2,)_2'), ('Debra BautistaVVT_(1,)_2', 'Deborah Harrison_0_(9,)_1'), ('Travis Bishop_2_(9,)_1', 'Travis BishopvyB_(9,)_2'), ('Gabrielle Rosales_1_(9,)_1', 'Gabrielle RosalespIO_(4,)_2'), ('Kelly WangYqp_(5,)_2', 'Kaitlyn Harris_0_(8,)_1'), ('Deborah HarrisonzRA_(4,)_2', 'Deborah Harrison_1_(9,)_1'), ('Lucas Nguyen Jr.aIX_(9,)_2', 'Lucas Nguyen Jr._2_(3,)_1'), ('Natalie RogersnxV_(9,)_2', 'Timothy Rogers_2_(9,)_1'), ('Amy RyanzlG_(3,)_2', 'Carl Riley_0_(9,)_1'), ('Kevin HansonXrd_(8,)_2', 'Robin Johnson_2_(7,)_1'), ('Russell Barnes DDSysU_(1,)_2', 'Russell Barnes DDS_2_(2,)_1'), ('Leonard MillerigG_(9,)_2', 'Leonard Miller_2_(4,)_1'), ('Brandon JenningsWSs_(7,)_2', 'Brandon Jennings_2_(3,)_1'), ('Kelly Lindsey_2_(6,)_1', 'Kellie CrosbyIju_(8,)_2'), ('Stephen EstradaGqz_(4,)_2', 'Stephen Estrada_2_(5,)_1'), ('Roy Mcpherson_2_(5,)_1', 'Troy MorrisonMDu_(9,)_2'), ('Dawn Martin_2_(7,)_1', 'John JordanZMv_(4,)_2'), ('Kathryn Martin_1_(9,)_1', 'Karen EvanszuF_(7,)_2'), ('Courtney Taylorpuq_(0,)_2', 'Courtney Taylor_0_(3,)_1'), ('Kathryn Martin_0_(9,)_1', 'Mary MurphyVIJ_(4,)_2'), ('Roy Mcpherson_1_(5,)_1', 'Roy McphersonIRx_(8,)_2'), ('Mr. Andrew Perez_2_(6,)_1', 'Mr. Andrew PerezJtF_(5,)_2'), ('Tricia ChaseJtf_(6,)_2', 'Travis Bishop_0_(9,)_1'), ('Maria HerringCba_(3,)_2', 'Maria Herring_0_(5,)_1'), ('Tiffany Monroe_2_(9,)_1', 'Timothy RogersRoH_(6,)_2'), ('Eric MooreYyn_(7,)_2', 'Lori Lee_0_(8,)_1'), ('Dustin Ramirez_2_(2,)_1', 'Dustin RamirezQYF_(1,)_2'), ('Selena Phillipsavg_(0,)_2', 'Selena Phillips_2_(9,)_1'), ('Andrew Rivera_2_(7,)_1', 'Andrew RiveraHBr_(9,)_2'), ('Carrie NelsonOke_(9,)_2', 'Gabrielle Rosales_2_(9,)_1'), ('Theresa EdwardsRj_(5,)_2', 'Theresa Edwards_0_(5,)_1'), ('Paul MeadowsEYJ_(9,)_2', 'Paul Meadows_1_(8,)_1'), ('Lori Lee_1_(8,)_1', 'Robert KimqLx_(2,)_2'), ('Selena Phillips_0_(9,)_1', 'Ryan Hallvbx_(3,)_2'), ('Dawn Martin_1_(7,)_1', 'Kevin WarrenVVI_(3,)_2'), ('Kathryn Martin_2_(9,)_1', 'Karen WagnerteK_(9,)_2'), ('Karen CollinsPcb_(7,)_2', 'Karen Collins_2_(8,)_1'), ('Timothy Rogers_0_(9,)_1', 'Amy JonesSnl_(2,)_2'), ('Jason MaynardoHK_(6,)_2', 'Paul Meadows_2_(8,)_1'), ('Joshua BlackJRm_(5,)_2', 'Jason Maynard_2_(4,)_1'), ('Shelby Robinson_2_(3,)_1', 'Shelby RobinsonAjU_(4,)_2'), ('Kaitlyn Harris_2_(8,)_1', 'Kaitlyn Davisttz_(2,)_2'), ('Jason Cainojr_(0,)_2', 'Amy Jones_1_(7,)_1'), ('Robert Avery_1_(8,)_1', 'Robert PerryqNC_(2,)_2'), ('Karen Collins_1_(8,)_1', 'Carmen RobertssqE_(1,)_2'), ('Caroline Nunez_1_(8,)_1', 'Carol WilsonWdA_(1,)_2'), ('Thomas ValdezLfQ_(2,)_2', 'Thomas Valdez_1_(8,)_1'), ('Robin JohnsonsFk_(3,)_2', 'Robin Johnson_1_(7,)_1'), ('Caroline Nunez_2_(8,)_1', 'Caroline Nunezdlx_(7,)_2'), ('Mr. Jordan Gonzalescii_(2,)_2', 'Mr. Jordan Gonzales_0_(2,)_1'), ('Kevin JonesrvM_(2,)_2', 'Todd Bowers_1_(9,)_1'), ('Mrs. Deanna Norrisigh_(6,)_2', 'Mrs. Deanna Norris_2_(2,)_1'), ('Kimberly HaleGro_(1,)_2', 'Timothy Rogers_1_(9,)_1')} \n",
      "\n",
      "---- Timing for Matching (Done on the graph constructed with the treshold constraint) ----\n",
      "0.31579 seconds\n",
      "The number of edges in the graph is: 2100 \n",
      "\n",
      "\n",
      "\n",
      " 'SUM' MINIMAL MATCHING RESULTS:\n",
      "True\n",
      "The Minimal Matching Set is: {('Andrew Rivera_0_(7,)_1', 'Andrew RiveraHBr_(9,)_2'), ('Kimberly KimQVI_(4,)_2', 'Kelly Wang_1_(1,)_1'), ('Karen Wagner_2_(2,)_1', 'Karen WagnerteK_(9,)_2'), ('John Jordan_2_(1,)_1', 'John JordanZMv_(4,)_2'), ('Mark Haynes_0_(0,)_1', 'Tony Harriswgv_(7,)_2'), ('Roberto Allison_2_(1,)_1', 'Robert Averydcd_(1,)_2'), ('Robert KimqLx_(2,)_2', 'Kimberly Kim_2_(2,)_1'), ('Mary Murphy_2_(2,)_1', 'Mary MurphyVIJ_(4,)_2'), ('James ThomasLPf_(8,)_2', 'James Thomas_0_(1,)_1'), ('Cheryl JonesWDa_(6,)_2', 'Cheryl Jones_2_(1,)_1'), ('Kevin Hanson_0_(0,)_1', 'Lori LeeHkK_(3,)_2'), ('Jessica Hurstght_(5,)_2', 'Jessica Hurst_1_(2,)_1'), ('Joshua SmithyGk_(2,)_2', 'Joshua Smith_2_(4,)_1'), ('Tricia ChaseJtf_(6,)_2', 'Eric Moore_2_(4,)_1'), ('Carol Wilson_0_(0,)_1', 'Carl Rileyynq_(6,)_2'), ('Carmen Roberts_1_(0,)_1', 'Paul BrownrNF_(4,)_2'), ('Robert Rayhuz_(8,)_2', 'Tony Harris_2_(2,)_1'), ('Timothy RogersRoH_(6,)_2', 'Troy Morrison_2_(3,)_1'), ('Brandi Patel_2_(1,)_1', 'Ryan Hallvbx_(3,)_2'), ('Daisy LewiseMI_(3,)_2', 'David Burns_1_(0,)_1'), ('Carrie NelsonOke_(9,)_2', 'Carrie Nelson_2_(2,)_1'), ('Mr. Andrew Bennett MD_1_(1,)_1', 'Mr. Andrew Bennett MDGaF_(6,)_2'), ('David Burns_0_(0,)_1', 'Tabitha BarnesdgH_(7,)_2'), ('Laura Watts_0_(1,)_1', 'Theresa EdwardsC_(3,)_2'), ('Tiffany Monroe_2_(9,)_1', 'Tiffany MonroeFAv_(5,)_2'), ('Christopher Walsh_2_(5,)_1', 'Christopher WalshRRC_(1,)_2'), ('Vanessa WilsonPep_(2,)_2', 'Carol Wilson_1_(0,)_1'), ('Mark Haynes_2_(0,)_1', 'Dawn MartindCk_(0,)_2'), ('Heather Willis DVM_2_(8,)_1', 'Heather Willis DVMxRV_(7,)_2'), ('Kevin HansonXrd_(8,)_2', 'Kelly Wang_0_(1,)_1'), ('Kellie Crosby_1_(1,)_1', 'Kelly Lindseyhog_(0,)_2'), ('Linda CrossjwN_(5,)_2', 'Kellie Crosby_0_(1,)_1'), ('Suzanne PetersonWLZ_(2,)_2', 'Suzanne Peterson_2_(2,)_1'), ('Kaitlyn Davisttz_(2,)_2', 'Matthew Hamilton_1_(0,)_1'), ('Kevin JonesrvM_(2,)_2', 'Carmen Roberts_0_(0,)_1'), ('Kristina Kennedy_2_(4,)_1', 'Kristina KennedybGf_(4,)_2'), ('Kevin WarrenVVI_(3,)_2', 'Kevin Hanson_1_(0,)_1'), ('Jennifer Gardner_2_(1,)_1', 'Jennifer GardnerAeL_(8,)_2'), ('Roberto AllisonvMU_(9,)_2', 'Roberto Allison_1_(1,)_1'), ('Dillon Woodard_2_(6,)_1', 'Dillon WoodardiZB_(2,)_2'), ('Courtney Taylor_2_(3,)_1', 'Courtney Taylorpuq_(0,)_2'), ('Peggy WilliamsonxuS_(9,)_2', 'Peggy Williamson_2_(1,)_1'), ('Matthew Hamilton_0_(0,)_1', 'Kaitlyn Harriswoy_(6,)_2'), ('Rebecca HudsonRfM_(2,)_2', 'Jessica Hurst_2_(2,)_1'), ('Natalie RogersnxV_(9,)_2', 'Natalie Rogers_2_(5,)_1'), ('Calvin RamosCjs_(5,)_2', 'David Burns_2_(0,)_1'), ('Alejandra Green_2_(8,)_1', 'Alejandra GreenSYL_(4,)_2'), ('Carmen Roberts_2_(0,)_1', 'Carmen RobertssqE_(1,)_2'), ('Lawrence PriceNpi_(5,)_2', 'Lawrence Price_2_(5,)_1'), ('Laura Watts_2_(1,)_1', 'Kelly WangYqp_(5,)_2'), ('Lucas Nguyen Jr.aIX_(9,)_2', 'Lucas Nguyen Jr._0_(3,)_1'), ('Michael Garcia_0_(8,)_1', 'Michael GarciaUIU_(6,)_2'), ('John Jordan_1_(1,)_1', 'Todd BowersAeq_(5,)_2'), ('Mr. Andrew PerezJtF_(5,)_2', 'Mr. Andrew Bennett MD_2_(1,)_1'), ('Debra Bautista_0_(1,)_1', 'Laura WattsiMu_(8,)_2'), ('Brandi Patel_1_(1,)_1', 'Amy RyanzlG_(3,)_2'), ('Kimberly HaleGro_(1,)_2', 'Kelly Wang_2_(1,)_1'), ('Karen Wagner_0_(2,)_1', 'Kathryn MartinNTQ_(0,)_2'), ('Mr. Jordan Gonzales_2_(2,)_1', 'Mr. Jordan Gonzalescii_(2,)_2'), ('Kellie Crosby_2_(1,)_1', 'Kellie CrosbyIju_(8,)_2'), ('Russell Barnes DDSysU_(1,)_2', 'Russell Barnes DDS_2_(2,)_1'), ('Brandon JenningsWSs_(7,)_2', 'Brandon Jennings_2_(3,)_1'), ('Paul MeadowsEYJ_(9,)_2', 'Kelly Lindsey_0_(6,)_1'), ('Stephen EstradaGqz_(4,)_2', 'Stephen Estrada_2_(5,)_1'), ('Roberto Allison_0_(1,)_1', 'Robert PerryqNC_(2,)_2'), ('Mark HaynesHom_(8,)_2', 'Mark Sullivan_0_(1,)_1'), ('Kimberly Caldwell_2_(3,)_1', 'Kimberly CaldwelleKz_(2,)_2'), ('Thomas Valdez_2_(8,)_1', 'Thomas ValdezLfQ_(2,)_2'), ('Cheryl Jones_0_(1,)_1', 'Eric MooreYyn_(7,)_2'), ('Mark SullivanMut_(2,)_2', 'Mark Sullivan_2_(1,)_1'), ('Dustin Ramirez_2_(2,)_1', 'Dustin RamirezQYF_(1,)_2'), ('Carol Wilson_2_(0,)_1', 'Laura FieldsQgz_(5,)_2'), ('Selena Phillipsavg_(0,)_2', 'Selena Phillips_2_(9,)_1'), ('Theresa EdwardsRj_(5,)_2', 'Theresa Edwards_0_(5,)_1'), ('Matthew Hamilton_2_(0,)_1', 'Matthew FordaLr_(1,)_2'), ('Peter TerrywHX_(8,)_2', 'Robert Ray_2_(3,)_1'), ('Mark Haynes_1_(0,)_1', 'Maria HerringCba_(3,)_2'), ('Karen EvanszuF_(7,)_2', 'Kevin Hanson_2_(0,)_1'), ('Amy JonesSnl_(2,)_2', 'James Thomas_2_(1,)_1'), ('Cheryl Jones_1_(1,)_1', 'Carol WilsonWdA_(1,)_2'), ('Joshua BlackJRm_(5,)_2', 'Jason Maynard_2_(4,)_1'), ('Shelby Robinson_2_(3,)_1', 'Shelby RobinsonAjU_(4,)_2'), ('Debra Bautista_1_(1,)_1', 'Deborah HarrisonzRA_(4,)_2'), ('Debra Bautista_2_(1,)_1', 'Debra BautistaVVT_(1,)_2'), ('Robin JohnsonsFk_(3,)_2', 'John Jordan_0_(1,)_1'), ('James Thomas_1_(1,)_1', 'Jason Cainojr_(0,)_2'), ('Adam GonzalezleK_(1,)_2', 'Adam Gonzalez_2_(5,)_1'), ('George Donaldson Jr._2_(0,)_1', 'George Donaldson Jr.ZYW_(5,)_2'), ('Jason MaynardoHK_(6,)_2', 'Jason Cain_2_(2,)_1'), ('Brandi PatelXJm_(8,)_2', 'Brandi Patel_0_(1,)_1'), ('Karen Evans_2_(2,)_1', 'David BurnswEy_(9,)_2'), ('Karen CollinsPcb_(7,)_2', 'Mark Sullivan_1_(1,)_1'), ('Ruth MayoOmb_(1,)_2', 'Laura Watts_1_(1,)_1'), ('Mrs. Deanna Norrisigh_(6,)_2', 'Mrs. Deanna Norris_2_(2,)_1'), ('Carrie Nelson_0_(2,)_1', 'Caroline Nunezdlx_(7,)_2'), ('Tony Harris_1_(2,)_1', 'Troy MorrisonMDu_(9,)_2'), ('Leonard Miller_0_(4,)_1', 'Leonard MillerigG_(9,)_2'), ('Gabrielle RosalespIO_(4,)_2', 'Gabrielle Rosales_2_(9,)_1'), ('Troy Morrison_1_(3,)_1', 'Roy McphersonIRx_(8,)_2')} \n",
      "\n",
      "---- Timing for Matching (Done on the graph constructed with the treshold constraint) ----\n",
      "0.317548 seconds\n",
      "The number of edges in the graph is: 2100 \n",
      "\n",
      "BP Matching: Highest bound for maximum: 1139.0\n",
      "BP Matching: Lowest bound for minimum: 672.0\n"
     ]
    }
   ],
   "source": [
    "total_max, total_min = sum_bip_script(table_a_non_duplicated, table_b, \"name\", 0.09)"
   ]
  },
  {
   "cell_type": "markdown",
   "metadata": {},
   "source": [
    "#### Naive Matching Experiment Scripts"
   ]
  },
  {
   "cell_type": "code",
   "execution_count": 19,
   "metadata": {},
   "outputs": [
    {
     "name": "stdout",
     "output_type": "stream",
     "text": [
      "Loaded catalogs.\n",
      "NAIVE MAX MATCHING\n",
      "Performing compare all match (edit distance)...\n",
      "Naive Edit Distance Matching computation time taken:  0.177017  seconds\n",
      "NAIVE MIN MATCHING\n",
      "Performing compare all match (edit distance)...\n",
      "Naive Edit Distance Matching computation time taken:  0.181481  seconds\n",
      "MAX Matching Bound:\n",
      "NAIVE Matching:  15225\n",
      "MIN Matching Bound:\n",
      "NAIVE Matching:  10290\n"
     ]
    }
   ],
   "source": [
    "naive_total_max, naive_total_min = sum_naive_script(\"table1_dup\", \"table2\")"
   ]
  },
  {
   "cell_type": "markdown",
   "metadata": {},
   "source": [
    "#### Random Sampling Matching Experiment Scripts"
   ]
  },
  {
   "cell_type": "code",
   "execution_count": 25,
   "metadata": {},
   "outputs": [
    {
     "name": "stdout",
     "output_type": "stream",
     "text": [
      "Loaded catalogs.\n",
      "RANDOM SAMPLE MAX MATCHING\n",
      "Performing random sample match (edit distance)...\n",
      "Simulation-Based Edit Distance Matching computation time taken:  0.135096  seconds\n",
      "RANDOM SAMPLE MIN MATCHING\n",
      "Performing random sample match (edit distance)...\n",
      "Simulation-Based Edit Distance Matching computation time taken:  0.129564  seconds\n",
      "MAX Matching Bound:\n",
      "SAMPLED Matching:  7577 \n",
      "\n",
      "MIN Matching Bound:\n",
      "NAIVE Matching:  10290\n"
     ]
    }
   ],
   "source": [
    "sampled_total_max, sampled_total_min = sum_random_sample_script(50, \"table1_dup\", \"table2\")"
   ]
  },
  {
   "cell_type": "markdown",
   "metadata": {},
   "source": [
    "## Case: Balanced 2 tables matching\n",
    "#### Matching [Total Max, Total Min] Outcome"
   ]
  },
  {
   "cell_type": "code",
   "execution_count": 26,
   "metadata": {},
   "outputs": [
    {
     "name": "stdout",
     "output_type": "stream",
     "text": [
      "Bipartite Matching:  [ 1139.0 ,  672.0 ]\n",
      "Naive Matching:  [ 15225 ,  10290 ]\n",
      "Random Sample Matching:  [ 7577 ,  5160 ]\n"
     ]
    }
   ],
   "source": [
    "print(\"Bipartite Matching: \", \"[\", total_max, \", \", total_min, \"]\")\n",
    "print(\"Naive Matching: \", \"[\", naive_total_max, \", \", naive_total_min, \"]\")\n",
    "print(\"Random Sample Matching: \", \"[\", sampled_total_max, \", \", sampled_total_min, \"]\")"
   ]
  },
  {
   "cell_type": "markdown",
   "metadata": {},
   "source": [
    "# COUNT:"
   ]
  },
  {
   "cell_type": "markdown",
   "metadata": {},
   "source": [
    "### CASE 1: Write Case Here"
   ]
  },
  {
   "cell_type": "markdown",
   "metadata": {},
   "source": [
    "#### Bipartite matching Experiment Scripts"
   ]
  },
  {
   "cell_type": "code",
   "execution_count": null,
   "metadata": {},
   "outputs": [],
   "source": [
    "sum_bip_script(table_a_non_duplicated, table_b, column_name, similarity_threshold)"
   ]
  },
  {
   "cell_type": "markdown",
   "metadata": {},
   "source": [
    "#### Naive Matching Experiment Scripts"
   ]
  },
  {
   "cell_type": "code",
   "execution_count": null,
   "metadata": {},
   "outputs": [],
   "source": [
    "sum_naive_script(filename1_dup, filename2):"
   ]
  },
  {
   "cell_type": "markdown",
   "metadata": {},
   "source": [
    "#### Random Sampling Matching Experiment Scripts"
   ]
  },
  {
   "cell_type": "code",
   "execution_count": null,
   "metadata": {},
   "outputs": [],
   "source": [
    "sum_random_sample_script(sample_size, filename1_dup, filename2):"
   ]
  },
  {
   "cell_type": "code",
   "execution_count": null,
   "metadata": {},
   "outputs": [],
   "source": []
  },
  {
   "cell_type": "markdown",
   "metadata": {},
   "source": [
    "## Case 2: 1's table disproportionately bigger than n's table. \n",
    "i.e. table_a has 10,000 rows, table_b has 100 rows"
   ]
  },
  {
   "cell_type": "code",
   "execution_count": 34,
   "metadata": {},
   "outputs": [],
   "source": [
    "### Data Configuration Here"
   ]
  },
  {
   "cell_type": "code",
   "execution_count": 35,
   "metadata": {},
   "outputs": [],
   "source": [
    "table_a_non_duplicated, table_b, table_a_dup = create_synth_data(10000, 100, \"table1\", \"table2\", \"table1_dup\")\n",
    "# print(table_a_non_duplicated, table_b, table_a_dup)"
   ]
  },
  {
   "cell_type": "code",
   "execution_count": 36,
   "metadata": {},
   "outputs": [
    {
     "name": "stdout",
     "output_type": "stream",
     "text": [
      "10.0% complete\n",
      "20.0% complete\n",
      "30.0% complete\n",
      "40.0% complete\n",
      "50.0% complete\n",
      "60.0% complete\n",
      "70.0% complete\n",
      "80.0% complete\n",
      "90.0% complete\n",
      "100.0% complete\n",
      "110.0% complete\n",
      "120.0% complete\n",
      "130.0% complete\n",
      "140.0% complete\n",
      "150.0% complete\n",
      "160.0% complete\n",
      "170.0% complete\n",
      "180.0% complete\n",
      "190.0% complete\n",
      "200.0% complete\n",
      "210.0% complete\n",
      "220.0% complete\n",
      "230.0% complete\n",
      "240.0% complete\n",
      "250.0% complete\n",
      "260.0% complete\n",
      "270.0% complete\n",
      "280.0% complete\n",
      "---- Timing for Graph Construction with Treshold Constraint ----\n",
      "20.326757 seconds\n",
      "\n",
      "\n",
      " 'SUM' MAXIMAL MATCHING:\n",
      "The Maximal Matching Set is: {('Rodney Pitts_2_(9,)_1', 'Dawn BellP_(2,)_2'), ('Michael Mclean_2_(9,)_1', 'Margaret MillerABF_(4,)_2'), ('Michael HarperysZ_(9,)_2', 'Nicholas Perez_2_(9,)_1'), ('Cindy Tate MD_2_(9,)_1', 'Wendy SmithEiD_(2,)_2'), ('Keith AndersonAoY_(3,)_2', 'Sarah Sanders_2_(9,)_1'), ('Amy Bowen_2_(9,)_1', 'Bradley ColeQbg_(1,)_2'), ('Mark Ayers PhD_2_(9,)_1', 'Mark ArmstrongFmh_(7,)_2'), ('Jonathan Gilbert_2_(9,)_1', 'Jonathan JohnsonAin_(1,)_2'), ('Teresa HigginspIW_(9,)_2', 'Teresa Austin_2_(9,)_1'), ('Erin Murray_2_(9,)_1', 'Joanna MurrayeKX_(8,)_2'), ('Laura Ramirez_2_(9,)_1', 'Kara FriedmanMQz_(7,)_2'), ('Christopher Valdez_2_(9,)_1', 'Kristopher SmithAkw_(0,)_2'), ('Paul Graves_2_(9,)_1', 'Marc DavisDYp_(8,)_2'), ('Dana Mcknightmtf_(1,)_2', 'Ann Schmidt_2_(9,)_1'), ('Andrew BurkeDsd_(7,)_2', 'Matthew Ross_2_(9,)_1'), ('Justin MendozaVum_(3,)_2', 'Jasmine Mejia_2_(9,)_1'), ('Wesley Torres_2_(9,)_1', 'Kelly JonesZpf_(7,)_2'), ('Christian AdamsRkR_(8,)_2', 'Christian Summers_2_(9,)_1'), ('Bill Fisher_2_(9,)_1', 'Tricia WilsonuEr_(2,)_2'), ('Kathy JacksonhxX_(5,)_2', 'Kurt Johnson_2_(9,)_1'), ('Robert Dennisrxv_(1,)_2', 'Robert Charles_2_(9,)_1'), ('Nancy SpencejHQ_(3,)_2', 'Tony Barnett_2_(9,)_1'), ('Robert Jarvis_2_(9,)_1', 'Roberto DelacruzmHg_(5,)_2'), ('Tony Miller_2_(9,)_1', 'Jesse MillerbrI_(8,)_2'), ('Charles AndersonCHY_(2,)_2', 'Laura Anderson_2_(9,)_1'), ('Monique Brown_2_(9,)_1', 'Gabrielle BrownngO_(1,)_2'), ('Sandra Hood_2_(9,)_1', 'Alexandra ToddJdZ_(8,)_2'), ('Justin SteelecJh_(7,)_2', 'Jason Coleman_2_(9,)_1'), ('Kendra ThompsonAKy_(5,)_2', 'Brad Thompson_2_(9,)_1'), ('David HodgesfIg_(5,)_2', 'Mario Young_2_(9,)_1'), ('Jennifer Meza_2_(9,)_1', 'Jack LeeeGr_(3,)_2'), ('Michelle ReillyUHD_(3,)_2', 'Michael Velasquez_2_(9,)_1'), ('Lori BushEDC_(2,)_2', 'Alfred Hubbard_2_(9,)_1'), ('Kyle Ray_2_(9,)_1', 'Kim Brandtnot_(1,)_2'), ('Robin Ortiz_2_(9,)_1', 'Robert SmithgDN_(7,)_2'), ('James MaynardSxP_(1,)_2', 'Samantha Carson_2_(9,)_1'), ('Benjamin NelsonkMN_(5,)_2', 'Benjamin Mcmahon_2_(9,)_1'), ('Sabrina ShermantjC_(4,)_2', 'Maria Smith_2_(9,)_1'), ('William House_2_(9,)_1', 'William TaylorTbv_(2,)_2'), ('Zachary Aguirre_2_(9,)_1', 'Mary Moorerrj_(7,)_2'), ('Debbie Hancock_2_(9,)_1', 'Derrick LongdSq_(3,)_2'), ('Molly Santos_0_(9,)_1', 'Molly Santossqz_(7,)_2'), ('James DavisIBr_(1,)_2', 'Derek Warner_2_(9,)_1'), ('Mr. Travis Jackson_2_(9,)_1', 'Travis Brockbat_(2,)_2'), ('Melanie MitchellKjK_(4,)_2', 'Robert Mitchell_2_(9,)_1'), ('Joseph MorgandED_(1,)_2', 'Joseph Singh_2_(9,)_1'), ('Brian SullivankTv_(4,)_2', 'Brian Johnson_2_(9,)_1'), ('Stacie BookeroHD_(8,)_2', 'Tammy Yoder_2_(9,)_1'), ('Margaret Warner_2_(9,)_1', 'Maria DuncanODb_(7,)_2'), ('Meghan Martinez_2_(9,)_1', 'Jesus MartinezFdU_(2,)_2'), ('Lori LewisNdF_(2,)_2', 'Patrick Wood_2_(9,)_1'), ('Nicole Vargas_2_(9,)_1', 'Michael HartKpF_(3,)_2'), ('Brent HarmondSt_(2,)_2', 'Evan Larsen_2_(9,)_1'), ('William Morrison MDRpe_(5,)_2', 'William Larson_2_(9,)_1'), ('Renee RiceMfY_(0,)_2', 'Jennifer Craig_2_(9,)_1'), ('Roy Gonzalez_2_(9,)_1', 'Robert AllenZJf_(5,)_2'), ('Kristen WrightvHz_(0,)_2', 'Kristen Austin_2_(9,)_1'), ('Jesse RothyoJ_(2,)_2', 'Jennifer Roach_2_(9,)_1'), ('Brian PowellGLm_(8,)_2', 'Rhonda Williams_2_(9,)_1'), ('Maria Sanders_2_(9,)_1', 'David Mendezmvg_(5,)_2'), ('Kelly SweeneyCQJ_(8,)_2', 'Shelly Horne_2_(9,)_1'), ('James Wilson_0_(9,)_1', 'James Watts DDSkwV_(0,)_2'), ('Sandra GomezmWO_(3,)_2', 'Emily Gomez_2_(9,)_1'), ('Christine Tyler_2_(9,)_1', 'Christopher RyanXBF_(2,)_2'), ('Karen Richard_2_(9,)_1', 'Sarah LeonardKgg_(6,)_2'), ('Eric Norton_2_(9,)_1', 'Patrick JonesoTe_(6,)_2'), ('Kathleen GonzalezLzS_(2,)_2', 'Kathleen Robinson_2_(9,)_1'), ('Ashley RamirezMew_(2,)_2', 'Ashley Arroyo_2_(9,)_1'), ('Pamela GutierrezFyW_(1,)_2', 'Michael Gutierrez_2_(9,)_1'), ('Denise RileyFkp_(3,)_2', 'Jennifer Roberson_2_(9,)_1'), ('Lisa Ball_2_(9,)_1', 'Alicia PadillaMEF_(8,)_2'), ('Scott Garrett_2_(9,)_1', 'Laura BeanRht_(0,)_2'), ('James Villegas_2_(9,)_1', 'Jade StevensTgL_(8,)_2'), ('Norman Miller_2_(9,)_1', 'Jordan CookvEJ_(8,)_2'), ('Chase Perkins_2_(9,)_1', 'Megan ReidIlW_(6,)_2'), ('Joseph Wilkins_2_(9,)_1', 'Joseph HollandBlj_(7,)_2'), ('James Owens_2_(9,)_1', 'James StaffordcpT_(0,)_2'), ('Gary Torres_2_(9,)_1', 'David HerrerauJS_(3,)_2'), ('Frank CantrelldCU_(5,)_2', 'Randy Castro_2_(9,)_1'), ('Ryan Scott PhDzJb_(5,)_2', 'Ryan Montgomery_2_(9,)_1'), ('Jason Oneal_2_(9,)_1', 'James Ewinghbf_(8,)_2'), ('Audrey Price_2_(9,)_1', 'Alfred KleinUVT_(0,)_2'), ('Anthony Trujillo_2_(9,)_1', 'Ashley YoungmLb_(2,)_2'), ('Barbara KellylvM_(0,)_2', 'Mary Pace DVM_2_(9,)_1'), ('Becky AndradeoxP_(9,)_2', 'Becky Bruce_2_(9,)_1'), ('Melissa HarveyvyA_(5,)_2', 'Allison Harris_2_(9,)_1'), ('Dawn Dorseyaou_(6,)_2', 'Shawn Carpenter_2_(9,)_1'), ('Kimberly Watson_2_(9,)_1', 'Kimberly BakerIsy_(9,)_2'), ('Rachel CoxOfN_(8,)_2', 'Michael Zhang_2_(9,)_1'), ('Justin Valentineirr_(4,)_2', 'Justin Anderson_2_(9,)_1'), ('Stephanie Jacobson_2_(9,)_1', 'Stephen JonesmSq_(6,)_2'), ('Rebecca PalmerYDu_(4,)_2', 'Rebecca Taylor_2_(9,)_1'), ('Roy Nichols_2_(9,)_1', 'Terry SmithLcm_(7,)_2'), ('Gregory FowlerCUZ_(4,)_2', 'Regina Rodgers_0_(9,)_1'), ('Julie Peterson_2_(9,)_1', 'Kayla PattersonYQm_(3,)_2'), ('Nancy Hernandez_2_(9,)_1', 'Nancy HendersonSly_(8,)_2'), ('David TaylorvZx_(2,)_2', 'Dawn Dorsey_0_(9,)_1'), ('Dawn BellZa_(9,)_2', 'Emily Williams_0_(9,)_1'), ('Richard Dennis_2_(9,)_1', 'Victor Greeneosm_(3,)_2'), ('Eric Kirby_2_(9,)_1', 'Jessica CurryKjN_(7,)_2')} \n",
      "\n",
      "---- Timing for Matching (Done on the graph constructed with the treshold constraint) ----\n",
      "12.034773 seconds\n",
      "The number of edges in the graph is: 157314 \n",
      "\n",
      "\n",
      "\n",
      " 'SUM' MINIMAL MATCHING RESULTS:\n",
      "True\n",
      "The Minimal Matching Set is: {('James Watts DDSkwV_(0,)_2', 'James Davis_2_(0,)_1'), ('Alfred KleinUVT_(0,)_2', 'Alex Meadows_2_(0,)_1'), ('Shannon Fuller_2_(0,)_1', 'Dawn BellP_(2,)_2'), ('Dana Mcknightmtf_(1,)_2', 'Dana Johnson_2_(0,)_1'), ('Debra Fuller_2_(0,)_1', 'Robert AllenZJf_(5,)_2'), ('Pamela GutierrezFyW_(1,)_2', 'Virginia Gutierrez_2_(0,)_1'), ('Justin Valentineirr_(4,)_2', 'Justin Hardin_2_(0,)_1'), ('David HodgesfIg_(5,)_2', 'David Mendez_0_(0,)_1'), ('John Wheeler_2_(0,)_1', 'Justin SteelecJh_(7,)_2'), ('Danielle Trujillo_2_(0,)_1', 'Gabrielle BrownngO_(1,)_2'), ('Joseph Allen_2_(0,)_1', 'Joseph HollandBlj_(7,)_2'), ('Jack Lee_0_(0,)_1', 'Dawn BellZa_(9,)_2'), ('Christian AdamsRkR_(8,)_2', 'Krista Walker_2_(0,)_1'), ('Alexandra Wiley_2_(0,)_1', 'Alexandra ToddJdZ_(8,)_2'), ('Sarah Lee_2_(0,)_1', 'Sarah LeonardKgg_(6,)_2'), ('Nancy SpencejHQ_(3,)_2', 'Lance Bailey_2_(0,)_1'), ('James MaynardSxP_(1,)_2', 'Karen Howard_2_(0,)_1'), ('Eric Hendricks_2_(0,)_1', 'David HerrerauJS_(3,)_2'), ('Jessica Reynolds_2_(0,)_1', 'Jessica CurryKjN_(7,)_2'), ('Megan Reid_0_(0,)_1', 'Wendy SmithEiD_(2,)_2'), ('Justin MendozaVum_(3,)_2', 'Austin Zhang_2_(0,)_1'), ('Marc DavisDYp_(8,)_2', 'Sarah Cantrell_2_(0,)_1'), ('Laura BeanRht_(0,)_2', 'Scott Barrera_2_(0,)_1'), ('Randall Tate_2_(0,)_1', 'Michael HartKpF_(3,)_2'), ('Mark Mendoza_2_(0,)_1', 'Mark ArmstrongFmh_(7,)_2'), ('Stacie BookeroHD_(8,)_2', 'Julie Potter_2_(0,)_1'), ('John Burke_2_(0,)_1', 'Joanna MurrayeKX_(8,)_2'), ('Madison Henderson_2_(0,)_1', 'Nancy HendersonSly_(8,)_2'), ('Sherry Cole_0_(0,)_1', 'Kelly JonesZpf_(7,)_2'), ('Dawn Dorseyaou_(6,)_2', 'Don Carter_2_(0,)_1'), ('Terry SmithLcm_(7,)_2', 'Roy Williams_2_(0,)_1'), ('Ashley RamirezMew_(2,)_2', 'Mario Ramirez_2_(0,)_1'), ('Kristen WrightvHz_(0,)_2', 'Kristen Cox_2_(0,)_1'), ('Luke Cohen_2_(0,)_1', 'Bradley ColeQbg_(1,)_2'), ('Kathleen GonzalezLzS_(2,)_2', 'Kathleen Jacobson_2_(0,)_1'), ('Kristopher SmithAkw_(0,)_2', 'Christopher Fischer_2_(0,)_1'), ('Tiffany Martinez_2_(0,)_1', 'Jesus MartinezFdU_(2,)_2'), ('Robert Dennisrxv_(1,)_2', 'Roger Knox_2_(0,)_1'), ('Ryan Brooks_2_(0,)_1', 'Travis Brockbat_(2,)_2'), ('Kendra ThompsonAKy_(5,)_2', 'Kendra Love_2_(0,)_1'), ('Jeffrey Bowers_2_(0,)_1', 'Gregory FowlerCUZ_(4,)_2'), ('Keith AndersonAoY_(3,)_2', 'Diane Anderson_2_(0,)_1'), ('Daniel Morgan_2_(0,)_1', 'Joseph MorgandED_(1,)_2'), ('Denise RileyFkp_(3,)_2', 'Deborah Rivera_2_(0,)_1'), ('Kelly SweeneyCQJ_(8,)_2', 'Carly Stanley_2_(0,)_1'), ('Robert Chambers_2_(0,)_1', 'Brent HarmondSt_(2,)_2'), ('Rebecca Jordan_2_(0,)_1', 'Derrick LongdSq_(3,)_2'), ('Frank CantrelldCU_(5,)_2', 'Frank Mora_2_(0,)_1'), ('Jeffrey Flores_2_(0,)_1', 'Mary Moorerrj_(7,)_2'), ('Chelsea Stevens_2_(0,)_1', 'Jade StevensTgL_(8,)_2'), ('Neil Villegas_2_(0,)_1', 'Jack LeeeGr_(3,)_2'), ('Rebecca PalmerYDu_(4,)_2', 'Rebecca Ward_2_(0,)_1'), ('Patricia King_2_(0,)_1', 'Tricia WilsonuEr_(2,)_2'), ('Jesse RothyoJ_(2,)_2', 'Kyle Gibson_2_(0,)_1'), ('Steven Aguilar_2_(0,)_1', 'Stephen JonesmSq_(6,)_2'), ('Michael Welch_2_(0,)_1', 'Michelle ReillyUHD_(3,)_2'), ('Vernon Ross_2_(0,)_1', 'Victor Greeneosm_(3,)_2'), ('Russell Powell_2_(0,)_1', 'Brian PowellGLm_(8,)_2'), ('Christopher RyanXBF_(2,)_2', 'Christopher Kelley_2_(0,)_1'), ('Jennifer Cherry_2_(0,)_1', 'Renee RiceMfY_(0,)_2'), ('Jordan CookvEJ_(8,)_2', 'John Hill_2_(0,)_1'), ('Ryan Scott PhDzJb_(5,)_2', 'Ryan Cooper_2_(0,)_1'), ('Andrew BurkeDsd_(7,)_2', 'Cynthia Burke_2_(0,)_1'), ('Tammie Johnson_2_(0,)_1', 'Jonathan JohnsonAin_(1,)_2'), ('Barbara KellylvM_(0,)_2', 'Adam Kelly_0_(0,)_1'), ('Maurice Patterson_2_(0,)_1', 'Kayla PattersonYQm_(3,)_2'), ('Kimberly Gibbs_2_(0,)_1', 'Kimberly BakerIsy_(9,)_2'), ('Kathy JacksonhxX_(5,)_2', 'Mary Jones_2_(0,)_1'), ('Sabrina ShermantjC_(4,)_2', 'Dustin Hernandez_2_(0,)_1'), ('Teresa HigginspIW_(9,)_2', 'Terri Jenkins_2_(0,)_1'), ('Jesse MillerbrI_(8,)_2', 'Leroy Wilkerson_2_(0,)_1'), ('Corey Sutton_2_(0,)_1', 'Molly Santossqz_(7,)_2'), ('Sara Crawford_2_(0,)_1', 'James StaffordcpT_(0,)_2'), ('Adam Navarro_2_(0,)_1', 'James DavisIBr_(1,)_2'), ('Benjamin NelsonkMN_(5,)_2', 'Lisa Nelson_0_(0,)_1'), ('David Mendezmvg_(5,)_2', 'Travis Reese_2_(0,)_1'), ('Mary Tucker_2_(0,)_1', 'Maria DuncanODb_(7,)_2'), ('Megan ReidIlW_(6,)_2', 'Steven Dudley_2_(0,)_1'), ('Lori LewisNdF_(2,)_2', 'Robin Crawford_2_(0,)_1'), ('Adam Daniels_2_(0,)_1', 'Kim Brandtnot_(1,)_2'), ('Kari Richards_2_(0,)_1', 'Kara FriedmanMQz_(7,)_2'), ('Lori BushEDC_(2,)_2', 'Robert Hunter_2_(0,)_1'), ('Roberto DelacruzmHg_(5,)_2', 'Robert Clark_2_(0,)_1'), ('Alicia PadillaMEF_(8,)_2', 'Alyssa Lane_2_(0,)_1'), ('Rachel CoxOfN_(8,)_2', 'Rebecca Cobb_2_(0,)_1'), ('Luis Johnson_2_(0,)_1', 'Patrick JonesoTe_(6,)_2'), ('James Ewinghbf_(8,)_2', 'Dave Watkins_2_(0,)_1'), ('Melanie MitchellKjK_(4,)_2', 'Melanie Horton_2_(0,)_1'), ('Patricia Miller_2_(0,)_1', 'Margaret MillerABF_(4,)_2'), ('Gregory Smith_2_(0,)_1', 'Robert SmithgDN_(7,)_2'), ('William Morrison MDRpe_(5,)_2', 'William Boone_2_(0,)_1'), ('Becky AndradeoxP_(9,)_2', 'Becky Fritz_2_(0,)_1'), ('Lee Jones_2_(0,)_1', 'Ashley YoungmLb_(2,)_2'), ('Charles Russell_2_(0,)_1', 'Charles AndersonCHY_(2,)_2'), ('Michael HarperysZ_(9,)_2', 'Michael Hartman_2_(0,)_1'), ('David TaylorvZx_(2,)_2', 'Candace Lopez_2_(0,)_1'), ('Melissa HarveyvyA_(5,)_2', 'Melissa Morse_2_(0,)_1'), ('Hannah Meyers_2_(0,)_1', 'Sandra GomezmWO_(3,)_2'), ('William TaylorTbv_(2,)_2', 'William Lane_2_(0,)_1'), ('Brian Franklin_2_(0,)_1', 'Brian SullivankTv_(4,)_2')} \n",
      "\n",
      "---- Timing for Matching (Done on the graph constructed with the treshold constraint) ----\n",
      "12.378324 seconds\n",
      "The number of edges in the graph is: 157314 \n",
      "\n"
     ]
    },
    {
     "name": "stdout",
     "output_type": "stream",
     "text": [
      "BP Matching: Highest bound for maximum: 1332.0\n",
      "BP Matching: Lowest bound for minimum: 432.0\n",
      "Loaded catalogs.\n",
      "NAIVE MAX MATCHING\n",
      "Performing compare all match (edit distance)...\n",
      "Naive Edit Distance Matching computation time taken:  16.959016  seconds\n",
      "NAIVE MIN MATCHING\n",
      "Performing compare all match (edit distance)...\n",
      "Naive Edit Distance Matching computation time taken:  17.552474  seconds\n",
      "MAX Matching Bound:\n",
      "NAIVE Matching:  1189422\n",
      "MIN Matching Bound:\n",
      "NAIVE Matching:  700593\n",
      "Loaded catalogs.\n",
      "RANDOM SAMPLE MAX MATCHING\n",
      "Performing random sample match (edit distance)...\n",
      "Simulation-Based Edit Distance Matching computation time taken:  11.088123  seconds\n",
      "RANDOM SAMPLE MIN MATCHING\n",
      "Performing random sample match (edit distance)...\n",
      "Simulation-Based Edit Distance Matching computation time taken:  11.53961  seconds\n",
      "MAX Matching Bound:\n",
      "SAMPLED Matching:  599511 \n",
      "\n",
      "MIN Matching Bound:\n",
      "NAIVE Matching:  700593\n"
     ]
    }
   ],
   "source": [
    "#### Bipartite Matching Experiment Scripts\n",
    "total_max, total_min = sum_bip_script(table_a_non_duplicated, table_b, \"name\", 0.09)\n",
    "#### Naive Matching Experiment Scripts\n",
    "naive_total_max, naive_total_min = sum_naive_script(\"table1_dup\", \"table2\")\n",
    "#### Random Sampling Matching Experiment Scripts\n",
    "sampled_total_max, sampled_total_min = sum_random_sample_script(50, \"table1_dup\", \"table2\")"
   ]
  },
  {
   "cell_type": "code",
   "execution_count": null,
   "metadata": {},
   "outputs": [],
   "source": [
    "\"\"\"\n",
    "Observation: Graph Construction is the most time-consuming computation.\n",
    "\n",
    "\"\"\"\n",
    "\n"
   ]
  }
 ],
 "metadata": {
  "kernelspec": {
   "display_name": "Python 3",
   "language": "python",
   "name": "python3"
  },
  "language_info": {
   "codemirror_mode": {
    "name": "ipython",
    "version": 3
   },
   "file_extension": ".py",
   "mimetype": "text/x-python",
   "name": "python",
   "nbconvert_exporter": "python",
   "pygments_lexer": "ipython3",
   "version": "3.7.6"
  }
 },
 "nbformat": 4,
 "nbformat_minor": 4
}
