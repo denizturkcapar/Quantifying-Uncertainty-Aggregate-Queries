{
 "cells": [
  {
   "cell_type": "markdown",
   "metadata": {},
   "source": [
    "# All Experiment Scripts"
   ]
  },
  {
   "cell_type": "code",
   "execution_count": null,
   "metadata": {},
   "outputs": [],
   "source": [
    "import experiment_funcs"
   ]
  },
  {
   "cell_type": "code",
   "execution_count": null,
   "metadata": {},
   "outputs": [],
   "source": [
    "import editdistance\n",
    "print(experiment_funcs.matcher.calc_max_weight_edit('Kimberly Fuentes', 'Kimberly FuentesJB', editdistance.eval))"
   ]
  },
  {
   "cell_type": "markdown",
   "metadata": {},
   "source": [
    "# SUM:"
   ]
  },
  {
   "cell_type": "markdown",
   "metadata": {},
   "source": [
    "## Case 1: Balanced 2 tables matching, n=3\n",
    "#### Matching [Total Max, Total Min] Outcome"
   ]
  },
  {
   "cell_type": "code",
   "execution_count": null,
   "metadata": {},
   "outputs": [],
   "source": [
    "experiment_funcs.create_csv_table(\"trial1sample\")\n",
    "for i in range(10):\n",
    "    # Create Randomized Data\n",
    "    table_a_non_duplicated, table_b, table_a_dup, tables_map, perfect_mapping = experiment_funcs.create_synth_data(100, 100, \"table1\", \"table2\", \"table1_dup\", 3)\n",
    "    \n",
    "    # Bipartite Matching Script\n",
    "    total_max, total_min, bip_min_matching_time, bip_max_matching_time, out_max, out_min = experiment_funcs.sum_bip_script(table_a_non_duplicated, table_b, \"name\", 0.2, 3, tables_map)\n",
    "\n",
    "    # Run Naive Matching Script\n",
    "    naive_total_max, naive_total_min, naive_min_matching_time, naive_max_matching_time, naive_max, naive_min = experiment_funcs.sum_naive_script(0.2, \"table1_dup\", \"table2\", \"table1\")\n",
    "    \n",
    "    # Run Random Matching Script\n",
    "    sampled_total_max, sampled_total_min, sampled_min_matching_time, sampled_max_matching_time, sampled_max, sampled_min = experiment_funcs.sum_random_sample_script(0.2, 50, \"table1_dup\", \"table2\", \"table1\")\n",
    "    \n",
    "    # Run Accuracy Evaluation\n",
    "    eval_records = experiment_funcs.full_evaluation(out_min, out_max, naive_min, naive_max, sampled_min, sampled_max, perfect_mapping)\n",
    "    \n",
    "    # Record Experiment Results\n",
    "    experiment_funcs.table_csv_output(total_min, total_max, naive_total_min, naive_total_max, sampled_total_min, sampled_total_max, \"trial1sample\", bip_min_matching_time, bip_max_matching_time, naive_min_matching_time, naive_max_matching_time, sampled_min_matching_time, sampled_max_matching_time, eval_records)\n",
    "    "
   ]
  },
  {
   "cell_type": "code",
   "execution_count": null,
   "metadata": {},
   "outputs": [],
   "source": [
    "print(perfect_mapping)\n",
    "print(total_max)\n",
    "print(naive_min)"
   ]
  },
  {
   "cell_type": "code",
   "execution_count": null,
   "metadata": {},
   "outputs": [],
   "source": [
    "def fix_form_bp(bp_match):\n",
    "    new_list = []\n",
    "    for (val1,val2, weight) in bp_match:\n",
    "        splitted1 = val1.split(\"_\")\n",
    "        splitted2 = val2.split(\"_\")\n",
    "        if len(splitted1) == 4:\n",
    "            new_list.append((splitted1[0], splitted2[0], weight))\n",
    "        else:\n",
    "            new_list.append((splitted2[0], splitted1[0], weight))\n",
    "            \n",
    "    return new_list\n",
    "\n",
    "def fix_form_naive(naive_match):\n",
    "    new_list = []\n",
    "    for (val1,val2, weight) in naive_match:\n",
    "        splitted1 = val1.split(\"_\")[0]\n",
    "        new_list.append((splitted1, val2, weight))\n",
    "    return new_list\n",
    "            \n",
    "formatted_max_bp = fix_form_bp(out_max)\n",
    "formatted_min_bp = fix_form_bp(out_min)\n",
    "\n",
    "formatted_max_naive = fix_form_naive(naive_max)\n",
    "formatted_min_naive = fix_form_naive(naive_min)\n",
    "\n",
    "def find_dif_matches(bp_match, naive_match):\n",
    "    naive_set = set(naive_match)\n",
    "    bp_set = set(bp_match)\n",
    "    return naive_set.symmetric_difference(bp_set)\n",
    "\n",
    "# what's in naive set, but not in bp set\n",
    "def find_naive_dif(bp_match, naive_match):\n",
    "    naive_set = set(naive_match)\n",
    "    bp_set = set(bp_match)\n",
    "    return naive_set.difference(bp_set)\n",
    "\n",
    "# what's in bp set, but not in naive set\n",
    "def find_bp_dif(bp_match, naive_match):\n",
    "    naive_set = set(naive_match)\n",
    "    bp_set = set(bp_match)\n",
    "    return bp_set.difference(naive_set)\n",
    "\n",
    "print(\"Symmetric Differences: \", find_dif_matches(formatted_max_bp, formatted_max_naive))\n",
    "naive_dif = find_naive_dif(formatted_max_bp, formatted_max_naive)\n",
    "bp_dif = find_bp_dif(formatted_max_bp, formatted_max_naive)\n",
    "# print(\"Naive Outcome Differences: \", naive_dif)\n",
    "# print(\"BP Outcome Differences: \", bp_dif)\n",
    "print(len(formatted_max_bp))\n",
    "print(\"Naive Outcome Differences: \", len(naive_dif))\n",
    "print(\"BP Outcome Differences: \", len(bp_dif))\n",
    "\n",
    "print(\"Symmetric Differences: \", find_dif_matches(formatted_min_bp, formatted_min_naive))\n",
    "naive_dif = find_naive_dif(formatted_min_bp, formatted_min_naive)\n",
    "bp_dif = find_bp_dif(formatted_min_bp, formatted_min_naive)\n",
    "# print(\"Naive Outcome Differences: \", naive_dif)\n",
    "# print(\"BP Outcome Differences: \", bp_dif)\n",
    "print(\"Naive Outcome Differences: \", len(naive_dif))\n",
    "print(\"BP Outcome Differences: \", len(bp_dif))\n",
    "\n",
    "print(len(out_min))\n",
    "print(len(naive_min))\n",
    "\n",
    "print(len(out_max))\n",
    "print(len(naive_max))\n",
    "\n",
    "\n",
    "sorted_bp_min = sorted(out_min, key=lambda x:x[-1])\n",
    "sorted_naive_min = sorted(naive_min, key=lambda x:x[-1])\n",
    "\n",
    "print(\"Naive MIN\", sorted_naive_min[0:5])\n",
    "print(\"\\n sorted bp min\", sorted_bp_min[0:5])"
   ]
  },
  {
   "cell_type": "markdown",
   "metadata": {},
   "source": [
    "# COUNT:"
   ]
  },
  {
   "cell_type": "markdown",
   "metadata": {},
   "source": [
    "### CASE 1: Balanced 2 tables, matching n=3, filter condition age>=5"
   ]
  },
  {
   "cell_type": "code",
   "execution_count": null,
   "metadata": {},
   "outputs": [],
   "source": [
    "experiment_funcs.create_csv_table(\"count_trialsample\")\n",
    "for i in range(10):\n",
    "    # Create Randomized Data\n",
    "    table_a_non_duplicated, table_b, table_a_dup = experiment_funcs.create_synth_data(100, 100, \"table1\", \"table2\", \"table1_dup\", 3)\n",
    "    \n",
    "    # Bipartite Matching Script\n",
    "    total_max, total_min, bip_min_matching_time, bip_max_matching_time = experiment_funcs.count_bip_script(table_a_non_duplicated, table_b, \"name\", 0.09, 3, 5)\n",
    "\n",
    "    # Run Naive Matching Script\n",
    "    naive_total_max, naive_total_min, naive_min_matching_time, naive_max_matching_time = experiment_funcs.count_naive_script(0.09, \"table1_dup\", \"table2\", \"table1\", 5)\n",
    "    \n",
    "    # Run Random Matching Script\n",
    "    sampled_total_max, sampled_total_min, sampled_min_matching_time, sampled_max_matching_time = experiment_funcs.count_random_sample_script(0.09, 50, \"table1_dup\", \"table2\", \"table1\", 5)\n",
    "    \n",
    "    # Record Experiment Results\n",
    "    experiment_funcs.table_csv_output(total_min, total_max, naive_total_min, naive_total_max, sampled_total_min, sampled_total_max, \"count_trialsample\", bip_min_matching_time, bip_max_matching_time, naive_min_matching_time, naive_max_matching_time, sampled_min_matching_time, sampled_max_matching_time)"
   ]
  },
  {
   "cell_type": "markdown",
   "metadata": {},
   "source": [
    "## SUM Case 2: 1's table disproportionately bigger than n's table. \n",
    "i.e. table_a has 10,000 rows, table_b has 100 rows, n=3, sim_threshold = 0.09"
   ]
  },
  {
   "cell_type": "code",
   "execution_count": null,
   "metadata": {},
   "outputs": [],
   "source": [
    "experiment_funcs.create_csv_table(\"unbalancedtable_sum\")\n",
    "for i in range(5):\n",
    "    # Create Randomized Data\n",
    "    table_a_non_duplicated, table_b, table_a_dup = experiment_funcs.create_synth_data(10000, 100, \"table1\", \"table2\", \"table1_dup\", 3)\n",
    "    \n",
    "    # Bipartite Matching Script\n",
    "    total_max, total_min, bip_min_matching_time, bip_max_matching_time = experiment_funcs.sum_bip_script(table_a_non_duplicated, table_b, \"name\", 0.09, 3)\n",
    "\n",
    "    # Run Naive Matching Script\n",
    "    naive_total_max, naive_total_min, naive_min_matching_time, naive_max_matching_time = experiment_funcs.sum_naive_script(0.09, \"table1_dup\", \"table2\")\n",
    "    \n",
    "    # Run Random Matching Script\n",
    "    sampled_total_max, sampled_total_min, sampled_min_matching_time, sampled_max_matching_time = experiment_funcs.sum_random_sample_script(0.09, 50, \"table1_dup\", \"table2\", \"table1\")\n",
    "    \n",
    "    # Record Experiment Results\n",
    "    experiment_funcs.table_csv_output(total_min, total_max, naive_total_min, naive_total_max, sampled_total_min, sampled_total_max, \"unbalancedtable_sum\", bip_min_matching_time, bip_max_matching_time, naive_min_matching_time, naive_max_matching_time, sampled_min_matching_time, sampled_max_matching_time)"
   ]
  },
  {
   "cell_type": "code",
   "execution_count": null,
   "metadata": {},
   "outputs": [],
   "source": [
    "\"\"\"\n",
    "Observation: Bipartite Matching gave the lowest outcome. Why?\n",
    "\n",
    "\n",
    "Matching [Total Max, Total Min] Outcome\n",
    "\"\"\"\n",
    "print(\"Bipartite Matching: \", \"[\", total_min, \", \", total_max, \"]\")\n",
    "print(\"Naive Matching: \", \"[\", naive_total_min, \", \", naive_total_max, \"]\")\n",
    "print(\"Random Sample Matching: \", \"[\", sampled_total_min, \", \", sampled_total_max, \"]\")"
   ]
  },
  {
   "cell_type": "code",
   "execution_count": null,
   "metadata": {},
   "outputs": [],
   "source": []
  }
 ],
 "metadata": {
  "kernelspec": {
   "display_name": "Python 3",
   "language": "python",
   "name": "python3"
  },
  "language_info": {
   "codemirror_mode": {
    "name": "ipython",
    "version": 3
   },
   "file_extension": ".py",
   "mimetype": "text/x-python",
   "name": "python",
   "nbconvert_exporter": "python",
   "pygments_lexer": "ipython3",
   "version": "3.7.6"
  }
 },
 "nbformat": 4,
 "nbformat_minor": 4
}
