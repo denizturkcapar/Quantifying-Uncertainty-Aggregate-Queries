{
 "cells": [
  {
   "cell_type": "code",
   "execution_count": 1,
   "metadata": {},
   "outputs": [],
   "source": [
    "import experiment_funcs\n",
    "import experiment_visualizer\n",
    "import sum_real_data_exp_funcs\n",
    "import count_real_data_exp_funcs\n",
    "import sum_abt_buy_funcs"
   ]
  },
  {
   "cell_type": "markdown",
   "metadata": {},
   "source": [
    "# Distribution of All Candidate Match Numbers (N)"
   ]
  },
  {
   "cell_type": "code",
   "execution_count": null,
   "metadata": {},
   "outputs": [],
   "source": [
    "sum_real_data_exp_funcs.show_candidate_nmatches_histogram('../Background_Demonstration_Data/company_a_inventory.csv', '../Background_Demonstration_Data/company_b_inventory.csv', 'Distribution of All Number of Candidate Matches', 0.8)\n",
    "\n"
   ]
  },
  {
   "cell_type": "code",
   "execution_count": null,
   "metadata": {},
   "outputs": [],
   "source": [
    "sum_real_data_exp_funcs.show_candidate_nmatches_histogram('../Amazon-GoogleProducts/Amazon.csv', '../Amazon-GoogleProducts/GoogleProducts.csv', 'Amazon-Google: Distribution of All Number of Candidate Matches', 0.8)\n",
    "\n"
   ]
  },
  {
   "cell_type": "code",
   "execution_count": null,
   "metadata": {},
   "outputs": [],
   "source": [
    "sum_real_data_exp_funcs.show_candidate_nmatches_histogram('../Abt-Buy/modified_abt.csv', '../Abt-Buy/modified_buy.csv', 'Abt-Buy: Distribution of All Number of Candidate Matches', 0.8)\n",
    "\n",
    "\n"
   ]
  },
  {
   "cell_type": "code",
   "execution_count": null,
   "metadata": {},
   "outputs": [],
   "source": [
    "sum_real_data_exp_funcs.show_candidate_nmatches_histogram('../DBLP-Scholar/DBLP1.csv', '../DBLP-Scholar/Scholar.csv', 'DBLP-Scholar: Distribution of All Number of Candidate Matches', 0.8)\n",
    "\n",
    "\n"
   ]
  },
  {
   "cell_type": "markdown",
   "metadata": {},
   "source": [
    "# Distribution of All Candidate Match Similarity Distances"
   ]
  },
  {
   "cell_type": "code",
   "execution_count": null,
   "metadata": {},
   "outputs": [],
   "source": [
    "sum_real_data_exp_funcs.show_candidate_avg_sim_metric_distribution('../Background_Demonstration_Data/company_a_inventory.csv', '../Background_Demonstration_Data/company_b_inventory.csv', 'Distribution of Average Similarity Distance for Candidate Matches', 0.8)\n",
    "\n"
   ]
  },
  {
   "cell_type": "code",
   "execution_count": 2,
   "metadata": {},
   "outputs": [
    {
     "name": "stdout",
     "output_type": "stream",
     "text": [
      "Performing compare all match (jaccard distance)...\n",
      "\n",
      "\n",
      "\n",
      " Jaccard Matching Done! \n"
     ]
    },
    {
     "data": {
      "image/png": "[encoded data removed]",
      "text/plain": [
       "<Figure size 576x432 with 1 Axes>"
      ]
     },
     "metadata": {
      "needs_background": "light"
     },
     "output_type": "display_data"
    }
   ],
   "source": [
    "sum_real_data_exp_funcs.show_candidate_avg_sim_metric_distribution('../Amazon-GoogleProducts/Amazon.csv', '../Amazon-GoogleProducts/GoogleProducts.csv', 'Amazon-Google: Distribution of Average Similarity Distance for Candidate Matches', 0.8)\n",
    "\n"
   ]
  },
  {
   "cell_type": "code",
   "execution_count": null,
   "metadata": {},
   "outputs": [],
   "source": [
    "sum_real_data_exp_funcs.show_candidate_avg_sim_metric_distribution('../Abt-Buy/modified_abt.csv', '../Abt-Buy/modified_buy.csv', 'Abt-Buy: Distribution of Average Similarity Distance for Candidate Matches', 0.8)\n",
    "\n"
   ]
  },
  {
   "cell_type": "code",
   "execution_count": null,
   "metadata": {},
   "outputs": [],
   "source": [
    "sum_real_data_exp_funcs.show_candidate_avg_sim_metric_distribution('../DBLP-Scholar/DBLP1.csv', '../DBLP-Scholar/Scholar.csv', 'DBLP-Scholar: Distribution of Average Similarity Distance for Candidate Matches', 0.8)\n",
    "\n"
   ]
  },
  {
   "cell_type": "markdown",
   "metadata": {},
   "source": [
    "# Distrubution of All Matches for Bipartite and PC Outcomes"
   ]
  },
  {
   "cell_type": "code",
   "execution_count": null,
   "metadata": {},
   "outputs": [],
   "source": [
    "\n",
    "sum_real_data_exp_funcs.show_one_to_n_histogram_maxes('../Background_Demonstration_Data/company_a_inventory.csv', '../Background_Demonstration_Data/company_b_inventory.csv', 'Histogram of 1-N Match Counts',0.8, 0.8, 5, 5)\n",
    "\n"
   ]
  },
  {
   "cell_type": "code",
   "execution_count": null,
   "metadata": {},
   "outputs": [],
   "source": [
    "sum_real_data_exp_funcs.show_one_to_n_histogram_maxes('../Amazon-GoogleProducts/Amazon.csv', '../Amazon-GoogleProducts/GoogleProducts.csv', 'Amazon-Google: Histogram of 1-N Match Counts',0.8, 0.8, 5, 5)\n",
    "\n",
    "\n"
   ]
  },
  {
   "cell_type": "code",
   "execution_count": null,
   "metadata": {},
   "outputs": [],
   "source": [
    "sum_real_data_exp_funcs.show_one_to_n_histogram_maxes('../Abt-Buy/modified_abt.csv', '../Abt-Buy/modified_buy.csv', 'Abt-Buy: Histogram of 1-N Match Counts',0.8, 0.8, 5, 5)\n"
   ]
  },
  {
   "cell_type": "code",
   "execution_count": null,
   "metadata": {},
   "outputs": [],
   "source": [
    "sum_real_data_exp_funcs.show_one_to_n_histogram_maxes('../DBLP-Scholar/DBLP1.csv', '../DBLP-Scholar/Scholar.csv', 'DBLP-Scholar: Histogram of 1-N Match Counts',0.8, 0.8, 5, 5)\n"
   ]
  },
  {
   "cell_type": "markdown",
   "metadata": {},
   "source": [
    "# Distribution of Similarity Distances between Matches"
   ]
  },
  {
   "cell_type": "code",
   "execution_count": null,
   "metadata": {},
   "outputs": [],
   "source": [
    "sum_real_data_exp_funcs.show_sim_metric_distribution_maxes('../Background_Demonstration_Data/company_a_inventory.csv', '../Background_Demonstration_Data/company_b_inventory.csv', 'Distribution of Similarity Distances Between Bipartite Matches', 'Distribution of Similarity Distances Between PC Matches', 0.8, 0.8, 5, 5)\n"
   ]
  },
  {
   "cell_type": "code",
   "execution_count": null,
   "metadata": {},
   "outputs": [],
   "source": [
    "sum_real_data_exp_funcs.show_sim_metric_distribution_maxes('../Amazon-GoogleProducts/Amazon.csv', '../Amazon-GoogleProducts/GoogleProducts.csv', 'Amazon-Google: Distribution of Similarity Distances', 0.8, 0.8, 5, 5)\n",
    "\n"
   ]
  },
  {
   "cell_type": "code",
   "execution_count": null,
   "metadata": {},
   "outputs": [],
   "source": [
    "sum_real_data_exp_funcs.show_sim_metric_distribution_maxes('../Abt-Buy/modified_abt.csv', '../Abt-Buy/modified_buy.csv', 'Abt-Buy: Distribution of Similarity Distances Between Bipartite Matches', 'Abt-Buy: Distribution of Similarity Distances Between PC Matches',0.8, 0.8, 5, 5)\n",
    "\n"
   ]
  },
  {
   "cell_type": "code",
   "execution_count": null,
   "metadata": {},
   "outputs": [],
   "source": [
    "sum_real_data_exp_funcs.show_sim_metric_distribution_maxes('../DBLP-Scholar/DBLP1.csv', '../DBLP-Scholar/Scholar.csv', 'DBLP-Scholar: Distribution of Similarity Distances Between Bipartite Matches', 'DBLP-Scholar: Distribution of Similarity Distances Between PC Matches',0.8, 0.8, 5, 5)\n",
    "\n"
   ]
  }
 ],
 "metadata": {
  "kernelspec": {
   "display_name": "Python 3",
   "language": "python",
   "name": "python3"
  },
  "language_info": {
   "codemirror_mode": {
    "name": "ipython",
    "version": 3
   },
   "file_extension": ".py",
   "mimetype": "text/x-python",
   "name": "python",
   "nbconvert_exporter": "python",
   "pygments_lexer": "ipython3",
   "version": "3.7.6"
  }
 },
 "nbformat": 4,
 "nbformat_minor": 4
}
