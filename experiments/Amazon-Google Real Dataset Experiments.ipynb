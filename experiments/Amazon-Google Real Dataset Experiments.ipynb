{
 "cells": [
  {
   "cell_type": "code",
   "execution_count": 1,
   "metadata": {},
   "outputs": [],
   "source": [
    "import experiment_funcs\n",
    "import experiment_visualizer\n",
    "import real_data_exp_funcs"
   ]
  },
  {
   "cell_type": "markdown",
   "metadata": {},
   "source": [
    "# EXPERIMENT 1"
   ]
  },
  {
   "cell_type": "code",
   "execution_count": null,
   "metadata": {
    "scrolled": false
   },
   "outputs": [],
   "source": [
    "real_data_exp_funcs.find_perfect_sum_result('../Amazon-GoogleProducts/Amzon_GoogleProducts_perfectMapping.csv', '../Amazon-GoogleProducts/Amazon.csv', '../Amazon-GoogleProducts/GoogleProducts.csv')"
   ]
  },
  {
   "cell_type": "markdown",
   "metadata": {},
   "source": [
    "### Max n=2, Sim Threshold = 0.8"
   ]
  },
  {
   "cell_type": "code",
   "execution_count": 2,
   "metadata": {},
   "outputs": [
    {
     "name": "stdout",
     "output_type": "stream",
     "text": [
      "2.27% complete\n",
      "4.55% complete\n",
      "6.82% complete\n",
      "9.1% complete\n",
      "11.37% complete\n",
      "13.65% complete\n",
      "15.92% complete\n",
      "18.19% complete\n",
      "20.47% complete\n",
      "22.74% complete\n",
      "25.02% complete\n",
      "27.29% complete\n",
      "29.57% complete\n",
      "31.84% complete\n",
      "34.11% complete\n",
      "36.39% complete\n",
      "38.66% complete\n",
      "40.94% complete\n",
      "43.21% complete\n",
      "45.49% complete\n",
      "47.76% complete\n",
      "50.03% complete\n",
      "52.31% complete\n",
      "54.58% complete\n",
      "56.86% complete\n",
      "59.13% complete\n",
      "61.4% complete\n",
      "63.68% complete\n",
      "65.95% complete\n",
      "68.23% complete\n",
      "70.5% complete\n",
      "72.78% complete\n",
      "75.05% complete\n",
      "77.32% complete\n",
      "79.6% complete\n",
      "81.87% complete\n",
      "84.15% complete\n",
      "86.42% complete\n",
      "88.7% complete\n",
      "90.97% complete\n",
      "93.24% complete\n",
      "95.52% complete\n",
      "97.79% complete\n",
      "202\n",
      "2.27% complete\n",
      "4.55% complete\n",
      "6.82% complete\n",
      "9.1% complete\n",
      "11.37% complete\n",
      "13.65% complete\n",
      "15.92% complete\n",
      "18.19% complete\n",
      "20.47% complete\n",
      "22.74% complete\n",
      "25.02% complete\n",
      "27.29% complete\n",
      "29.57% complete\n",
      "31.84% complete\n",
      "34.11% complete\n",
      "36.39% complete\n",
      "38.66% complete\n",
      "40.94% complete\n",
      "43.21% complete\n",
      "45.49% complete\n",
      "47.76% complete\n",
      "50.03% complete\n",
      "52.31% complete\n",
      "54.58% complete\n",
      "56.86% complete\n",
      "59.13% complete\n",
      "61.4% complete\n",
      "63.68% complete\n",
      "65.95% complete\n",
      "68.23% complete\n",
      "70.5% complete\n",
      "72.78% complete\n",
      "75.05% complete\n",
      "77.32% complete\n",
      "79.6% complete\n",
      "81.87% complete\n",
      "84.15% complete\n",
      "86.42% complete\n",
      "88.7% complete\n",
      "90.97% complete\n",
      "93.24% complete\n",
      "95.52% complete\n",
      "97.79% complete\n",
      "BP Matching: Highest bound for maximum: 56117.63000000013\n",
      "BP Matching: Lowest bound for minimum: 41534.87000000007\n",
      "Performing compare all match (jaccard distance)...\n",
      "Naive Jaccard Matching computation time taken:  33.466838  seconds \n",
      "\n",
      "TP:  114\n",
      "FP:  88\n",
      "0.5643564356435643\n",
      "0.08762490392006149\n",
      "Compare All Matcher (Jaccard Distance) Performance: {'false positive': 0.44, 'false negative': 0.91, 'accuracy': 0.15}\n",
      "Performing compare all match (jaccard distance)...\n",
      "Naive Jaccard Matching computation time taken:  33.129559  seconds\n",
      "TP:  114\n",
      "FP:  88\n",
      "0.5643564356435643\n",
      "0.08762490392006149\n",
      "Compare All Matcher (Jaccard Distance) Performance: {'false positive': 0.44, 'false negative': 0.91, 'accuracy': 0.15}\n",
      "NAIVE MAX Matching Bound:  61102.70000000005\n",
      "NAIVE MIN Matching Bound:  50017.72000000006\n",
      "Performing random sample match (jaccard distance)...\n",
      "Simulation-Based Jaccard Matching computation time taken:  18.370091  seconds \n",
      "\n",
      "TP:  0\n",
      "FP:  2\n",
      "0.0\n",
      "0.0\n",
      "Random Sample Matcher (Jaccard Distance) Performance: {'false positive': 1.0, 'false negative': 1.0, 'accuracy': 0}\n",
      "RANDOM SAMPLE MIN MATCHING\n",
      "Performing random sample match (edit distance)...\n",
      "Performing random sample match (jaccard distance)...\n",
      "Simulation-Based Jaccard Matching computation time taken:  18.309965  seconds\n",
      "TP:  0\n",
      "FP:  5\n",
      "0.0\n",
      "0.0\n",
      "Random Sample Matcher (Jaccard Distance) Performance: {'false positive': 1.0, 'false negative': 1.0, 'accuracy': 0}\n",
      "fn 1\n",
      "tp 0\n",
      "fp 176\n",
      "0\n",
      "fn 1\n",
      "tp 0\n",
      "fp 177\n",
      "0\n",
      "TP:  114\n",
      "FP:  88\n",
      "0.5643564356435643\n",
      "0.08762490392006149\n",
      "TP:  114\n",
      "FP:  88\n",
      "0.5643564356435643\n",
      "0.08762490392006149\n",
      "TP:  2\n",
      "FP:  4\n",
      "0.3333333333333333\n",
      "0.0015372790161414297\n",
      "TP:  114\n",
      "FP:  88\n",
      "0.5643564356435643\n",
      "0.08762490392006149\n"
     ]
    },
    {
     "data": {
      "image/png": "[encoded data removed]",
      "text/plain": [
       "<Figure size 432x288 with 1 Axes>"
      ]
     },
     "metadata": {
      "needs_background": "light"
     },
     "output_type": "display_data"
    }
   ],
   "source": [
    "real_data_exp_funcs.show_experiment_1('../Amazon-GoogleProducts/Amazon.csv', '../Amazon-GoogleProducts/GoogleProducts.csv', '../Amazon-GoogleProducts/Amzon_GoogleProducts_perfectMapping.csv', 'SUM: Max n = 3, True n <= 3', 0.8)\n",
    "\n"
   ]
  },
  {
   "cell_type": "markdown",
   "metadata": {},
   "source": [
    "### Max n = 1-6, Sim Threshold = 0.8"
   ]
  },
  {
   "cell_type": "code",
   "execution_count": null,
   "metadata": {},
   "outputs": [],
   "source": [
    "real_data_exp_funcs.show_experiment_2_balanced('../Amazon-GoogleProducts/Amazon.csv', '../Amazon-GoogleProducts/GoogleProducts.csv', \"Median Over-estimation Rate vs N\", 0.8)\n",
    "\n"
   ]
  },
  {
   "cell_type": "markdown",
   "metadata": {},
   "source": [
    "# EXPERIMENT 4"
   ]
  },
  {
   "cell_type": "markdown",
   "metadata": {},
   "source": [
    "### Max n = 2, Sim Threshold = 0.2, 0.17, 0.14, 0.11, 0.8"
   ]
  },
  {
   "cell_type": "code",
   "execution_count": null,
   "metadata": {},
   "outputs": [],
   "source": [
    "real_data_exp_funcs.show_experiment_4_balanced('../Amazon-GoogleProducts/Amazon.csv', '../Amazon-GoogleProducts/GoogleProducts.csv',\"Median Over-estimation Rate vs Similarity Metric Quality\",2)\n",
    "\n"
   ]
  }
 ],
 "metadata": {
  "kernelspec": {
   "display_name": "Python 3",
   "language": "python",
   "name": "python3"
  },
  "language_info": {
   "codemirror_mode": {
    "name": "ipython",
    "version": 3
   },
   "file_extension": ".py",
   "mimetype": "text/x-python",
   "name": "python",
   "nbconvert_exporter": "python",
   "pygments_lexer": "ipython3",
   "version": "3.7.6"
  }
 },
 "nbformat": 4,
 "nbformat_minor": 4
}
