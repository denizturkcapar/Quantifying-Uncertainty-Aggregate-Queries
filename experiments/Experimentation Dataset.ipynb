{
 "cells": [
  {
   "cell_type": "markdown",
   "metadata": {},
   "source": [
    "# SUM Experiments Using Synthetic Dataset"
   ]
  },
  {
   "cell_type": "code",
   "execution_count": 1,
   "metadata": {},
   "outputs": [],
   "source": [
    "import sys\n",
    "from os import path\n",
    "sys.path.insert(0, '../src')\n",
    "import one_to_n\n",
    "sys.path.insert(0, '../tests')\n",
    "import create_synthetic_dataset\n",
    "import datetime\n",
    "import textdistance\n",
    "import editdistance\n",
    "import pandas as pd\n",
    "import networkx as nx\n",
    "import re\n",
    "\n",
    "import editdistance\n",
    "from Matching import core2\n",
    "from Matching import analyze\n",
    "from Matching import matcher\n",
    "import sys\n",
    "import os\n",
    "import datetime"
   ]
  },
  {
   "cell_type": "markdown",
   "metadata": {},
   "source": [
    "### Create Synthetic Dataset"
   ]
  },
  {
   "cell_type": "code",
   "execution_count": 2,
   "metadata": {},
   "outputs": [
    {
     "name": "stdout",
     "output_type": "stream",
     "text": [
      "                name age\n",
      "0    Jacqueline Sims   6\n",
      "1   Kimberly Nielsen   9\n",
      "2       Valerie Paul   9\n",
      "3      Zachary Brown   4\n",
      "4     Cynthia Gibson   3\n",
      "..               ...  ..\n",
      "95       Chris Smith   0\n",
      "96  Richard Gonzalez   4\n",
      "97       Chad Turner   0\n",
      "98     Adam Williams   3\n",
      "99      Sarah Garcia   3\n",
      "\n",
      "[100 rows x 2 columns]\n",
      "                   name  age\n",
      "0      Jacqueline Simsc    1\n",
      "1     Jacqueline SimsSG    4\n",
      "2   Kimberly NielsengnG    2\n",
      "3       Valerie Paulhun    7\n",
      "4      Zachary BrownXHw    0\n",
      "..                  ...  ...\n",
      "95       Lisa FinleyaXI    8\n",
      "96       Chris SmithkVR    7\n",
      "97  Richard Gonzalezjew    1\n",
      "98       Chad TurnerBvW    2\n",
      "99     Adam WilliamsYSb    9\n",
      "\n",
      "[100 rows x 2 columns]\n"
     ]
    }
   ],
   "source": [
    "# Table A later gets duplicated in the bipartite graph maker function.\n",
    "table_a_non_duplicated = create_synthetic_dataset.create_first_df(100)\n",
    "\n",
    "table_b_non_typo = create_synthetic_dataset.create_second_df(100)\n",
    "\n",
    "table_b = create_synthetic_dataset.add_typo(table_a_non_duplicated, table_b_non_typo)\n",
    "\n",
    "print(table_a_non_duplicated)\n",
    "print(table_b)\n",
    "\n",
    "table_a_non_duplicated.to_csv(r's_data1.csv', index = False, header=True)\n",
    "table_b.to_csv(r's_data2.csv', index = False, header=True)"
   ]
  },
  {
   "cell_type": "markdown",
   "metadata": {},
   "source": [
    "### 1. Bipartite Matching"
   ]
  },
  {
   "cell_type": "code",
   "execution_count": 3,
   "metadata": {},
   "outputs": [
    {
     "name": "stdout",
     "output_type": "stream",
     "text": [
      "---- Timing for Graph Construction with Treshold Constraint ----\n",
      "0.23804 seconds\n"
     ]
    }
   ],
   "source": [
    "now = datetime.datetime.now()\n",
    "bipartite_graph_result = one_to_n.keycomp_treshold_updated_maximal_construct_graph(table_a_non_duplicated, table_b, \"name\", 0.09)\n",
    "timing_tresh = (datetime.datetime.now()-now).total_seconds()\n",
    "print(\"---- Timing for Graph Construction with Treshold Constraint ----\")\n",
    "print(timing_tresh,\"seconds\")"
   ]
  },
  {
   "cell_type": "code",
   "execution_count": 4,
   "metadata": {},
   "outputs": [],
   "source": [
    "def SUM_edit_edge_weight(bip_graph):\n",
    "    for u,v,d in bip_graph.edges(data=True):\n",
    "        val_tuple_1 = u.split(\"_\")\n",
    "        val_tuple_2 = v.split(\"_\")\n",
    "        \n",
    "        if len(val_tuple_1) == 4:\n",
    "            val1 = re.sub(\"[^0-9]\", \"\", val_tuple_1[2])\n",
    "        else: \n",
    "            val1 = re.sub(\"[^0-9]\", \"\", val_tuple_1[1])\n",
    "            \n",
    "        if len(val_tuple_2) == 4:\n",
    "            val2 =re.sub(\"[^0-9]\", \"\", val_tuple_2[2])\n",
    "        else:\n",
    "            val2 =re.sub(\"[^0-9]\", \"\", val_tuple_2[1])\n",
    "\n",
    "        d['weight'] = float(val1) + float(val2)\n",
    "\n",
    "    return bip_graph\n",
    "\n",
    "sum_weighted_graph = SUM_edit_edge_weight(bipartite_graph_result)"
   ]
  },
  {
   "cell_type": "markdown",
   "metadata": {},
   "source": [
    "## Maximal Matching"
   ]
  },
  {
   "cell_type": "code",
   "execution_count": 5,
   "metadata": {},
   "outputs": [
    {
     "name": "stdout",
     "output_type": "stream",
     "text": [
      "\n",
      "\n",
      " 'SUM' MAXIMAL MATCHING:\n",
      "The Maximal Matching Set is: {('Susan Brewer DDStoG_(2,)_2', 'Susan Brewer DDS_2_(0,)_1'), ('Melissa Johnson_2_(8,)_1', 'Lisa GarzaROM_(1,)_2'), ('Kimberly Nielsen_0_(9,)_1', 'Kimberly NielsengnG_(2,)_2'), ('Matthew Johnsonsbl_(2,)_2', 'Matthew May PhD_0_(8,)_1'), ('Anthony Holmes_2_(2,)_1', 'Anthony HolmesZAp_(7,)_2'), ('Alexandra RuizvXP_(6,)_2', 'Melissa Ruiz_2_(2,)_1'), ('Emily RushOJA_(8,)_2', 'Mariah Thomas_1_(8,)_1'), ('Kevin Moran_1_(7,)_1', 'Sean MccannYUU_(1,)_2'), ('Edward RussellotG_(0,)_2', 'Edward Russell_0_(5,)_1'), ('Kelly CarrollSdN_(5,)_2', 'James Arnold_2_(9,)_1'), ('Lisa Meyer_2_(6,)_1', 'Susan MillerXij_(1,)_2'), ('Kylie Hansen_1_(7,)_1', 'Caroline LanerDH_(7,)_2'), ('Marc Sherman_0_(8,)_1', 'Mariah Thomasjur_(1,)_2'), ('Melissa WardsuF_(6,)_2', 'Lisa Finley_1_(6,)_1'), ('Cynthia Chang_1_(7,)_1', 'Cynthia GibsontKf_(1,)_2'), ('Hannah BrooksCww_(6,)_2', 'Mariah Thomas_0_(8,)_1'), ('Valerie Paul_1_(9,)_1', 'Julie ObrienApc_(1,)_2'), ('James Arnold_0_(9,)_1', 'Julia BelltLe_(1,)_2'), ('Jeanette McneilIxS_(8,)_2', 'Jeanette Mcneil_0_(5,)_1'), ('Michael PerrykZb_(7,)_2', 'Rachel Fernandez_1_(9,)_1'), ('Lisa Finley_2_(6,)_1', 'Lisa WeaverLWV_(5,)_2'), ('Randall MurrayYpt_(6,)_2', 'Tonya Murray_1_(4,)_1'), ('Michelle BeckerHLo_(0,)_2', 'Michele Greer_0_(8,)_1'), ('Mark RodriguezpPE_(0,)_2', 'Mark Rodriguez_2_(2,)_1'), ('Kim OrtizBLG_(1,)_2', 'Victoria Lewis_1_(8,)_1'), ('Lauren OconnorYBz_(1,)_2', 'Lauren Oconnor_0_(1,)_1'), ('William MolinavKn_(7,)_2', 'Willie Watson_2_(7,)_1'), ('Andrew TaylorURi_(7,)_2', 'Andrew Taylor_2_(7,)_1'), ('Christine Hughesvbm_(2,)_2', 'Christine Hughes_2_(1,)_1'), ('Nichole Morrison_2_(2,)_1', 'Nichole MorrisonVMo_(9,)_2'), ('Michele Greer_2_(8,)_1', 'Robert Greenrdl_(8,)_2'), ('Denise Bernard DDSMua_(0,)_2', 'Denise Bernard DDS_2_(6,)_1'), ('Alex WallaceSWu_(1,)_2', 'Alex Wallace_0_(3,)_1'), ('Scott BlackHvy_(6,)_2', 'Todd Cohen_2_(5,)_1'), ('Christopher Mccoyxub_(1,)_2', 'Christopher Mccoy_2_(5,)_1'), ('Willie WatsonYai_(1,)_2', 'Willie Watson_0_(7,)_1'), ('Rachel Fernandez_0_(9,)_1', 'Rachel FernandezRBN_(3,)_2'), ('Ebony LarsenthP_(9,)_2', 'Kylie Hansen_2_(7,)_1'), ('Jacqueline Sims_2_(6,)_1', 'Jacqueline Simsc_(1,)_2'), ('Wesley Davisrpt_(2,)_2', 'Ashley Gardner_2_(8,)_1'), ('Brittany Stewart_2_(3,)_1', 'Brittany StewartwYX_(5,)_2'), ('Mariah Thomas_2_(8,)_1', 'Mary NicholsiOy_(8,)_2'), ('Selena WashingtonHuh_(3,)_2', 'Selena Washington_2_(3,)_1'), ('Adrienne MclaughlinYTd_(6,)_2', 'Adrienne Mclaughlin_2_(6,)_1'), ('Heather HarrisonKye_(5,)_2', 'Heather Harrison_2_(3,)_1'), ('Ashley GardneryQS_(1,)_2', 'Ashley Gardner_1_(8,)_1'), ('Brandon Mccall DVM_2_(5,)_1', 'Brandon Mccall DVMIVY_(1,)_2'), ('Todd CarterdBy_(1,)_2', 'Todd Cohen_1_(5,)_1'), ('Jacqueline Sims_0_(6,)_1', 'Jacqueline SimsSG_(4,)_2'), ('Jacqueline ChanpSE_(9,)_2', 'Kylie Hansen_0_(7,)_1'), ('Lisa Meyer_0_(6,)_1', 'Tina MendozagsX_(1,)_2'), ('Donald Lopez_2_(2,)_1', 'Reginald HicksPjz_(6,)_2'), ('Richard Gonzalezjew_(1,)_2', 'Richard Gonzalez_2_(4,)_1'), ('Taylor Scott_2_(2,)_1', 'Taylor ScottccC_(8,)_2'), ('Todd CohenfPt_(5,)_2', 'Marc Sherman_2_(8,)_1'), ('Stephanie Brown_2_(8,)_1', 'Stephen ChanglRy_(4,)_2'), ('Michele Greer_1_(8,)_1', 'Michael OrtizbAb_(5,)_2'), ('Adam WilliamsYSb_(9,)_2', 'Adam Williams_2_(3,)_1'), ('Wendy Vasquez_0_(6,)_1', 'Wendy VasquezzkX_(0,)_2'), ('James Henderson_1_(8,)_1', 'James ArnoldGdB_(8,)_2'), ('Jessica ChambersqxH_(3,)_2', 'Jessica Chambers_0_(0,)_1'), ('Valerie Paul_2_(9,)_1', 'Valerie Paulhun_(7,)_2'), ('Mary Nichols_1_(9,)_1', 'Chris SmithkVR_(7,)_2'), ('Gregory Davis_2_(7,)_1', 'Gregory DavisLgh_(1,)_2'), ('Michael Perry_0_(8,)_1', 'Meghan Mooredrn_(4,)_2'), ('Stephanie Brown_1_(8,)_1', 'Zachary BrownXHw_(0,)_2'), ('Daniel JohnsonFoR_(7,)_2', 'Melissa Johnson_1_(8,)_1'), ('Willie Watson_1_(7,)_1', 'William WallaceVFE_(4,)_2'), ('Kristina Patterson DDSVlQ_(8,)_2', 'Kristina Patterson DDS_2_(2,)_1'), ('Cynthia ChangmEr_(9,)_2', 'Cynthia Chang_2_(7,)_1'), ('Diana Pineda_1_(8,)_1', 'Diana PinedaSYo_(7,)_2'), ('Patricia DixonOHY_(4,)_2', 'Sarah Dixon_2_(2,)_1'), ('Todd Carter_2_(2,)_1', 'Chad TurnerBvW_(2,)_2'), ('Mary Nichols_2_(9,)_1', 'Mary SalinasDQQ_(7,)_2'), ('Matthew DavilaKGn_(8,)_2', 'Matthew May PhD_2_(8,)_1'), ('James Henderson_2_(8,)_1', 'James HendersonUdZ_(5,)_2'), ('Melissa JohnsonBvz_(3,)_2', 'Melissa Johnson_0_(8,)_1'), ('Donald LopezAnn_(3,)_2', 'Diana Pineda_0_(8,)_1'), ('Meghan Moore_2_(6,)_1', 'Melissa RuizMRe_(9,)_2'), ('James Arnold_1_(9,)_1', 'Thomas Matanhb_(7,)_2'), ('Matthew May PhD_1_(8,)_1', 'Matthew May PhDLqq_(7,)_2'), ('Sarah DixonKke_(7,)_2', 'Mary Nichols_0_(9,)_1'), ('Marc Sherman_1_(8,)_1', 'Marc ShermanvSk_(3,)_2'), ('Janice Patterson_2_(9,)_1', 'Janice PattersonyYC_(6,)_2'), ('Jonathan Jordan_2_(4,)_1', 'Jonathan JordannaI_(4,)_2'), ('Diana Pineda_2_(8,)_1', 'Lisa FinleyaXI_(8,)_2'), ('Amanda Maxwell_2_(4,)_1', 'Amanda MaxwellMKI_(4,)_2'), ('Samuel MathisqVb_(9,)_2', 'Daniel Johnson_2_(6,)_1'), ('Tonya Murray_2_(4,)_1', 'Tonya MurrayOXB_(8,)_2'), ('Lisa MeyeroMa_(7,)_2', 'Michael Perry_1_(8,)_1'), ('Stephanie Brownpcf_(3,)_2', 'Stephanie Brown_0_(8,)_1'), ('Kevin MoranQoU_(3,)_2', 'Yvonne Rios_1_(8,)_1'), ('Ricky BurnsPdv_(7,)_2', 'Rachel Fernandez_2_(9,)_1'), ('Seth PearsontUP_(9,)_2', 'Seth Pearson_2_(3,)_1'), ('Kevin Moran_2_(7,)_1', 'Justin MillsAKK_(9,)_2'), ('Victoria LewisayX_(8,)_2', 'Victoria Lewis_2_(8,)_1'), ('Kylie Hansenloz_(1,)_2', 'Janice Patterson_1_(9,)_1'), ('Yvonne Rios_0_(8,)_1', 'Yvonne RiosFZg_(2,)_2'), ('Anna WoodsHCv_(7,)_2', 'Yvonne Rios_2_(8,)_1'), ('Michael Perry_2_(8,)_1', 'Michele GreerURc_(8,)_2')} \n",
      "\n",
      "---- Timing for Matching (Done on the graph constructed with the treshold constraint) ----\n",
      "0.247067 seconds\n",
      "The number of edges in the graph is: 1401 \n",
      "\n"
     ]
    }
   ],
   "source": [
    "print(\"\\n\\n 'SUM' MAXIMAL MATCHING:\")\n",
    "now = datetime.datetime.now()\n",
    "matching_set_maximal = nx.algorithms.matching.max_weight_matching(sum_weighted_graph)\n",
    "timing_match = (datetime.datetime.now()-now).total_seconds()\n",
    "print(\"The Maximal Matching Set is:\", matching_set_maximal, \"\\n\")\n",
    "print(\"---- Timing for Matching (Done on the graph constructed with the treshold constraint) ----\")\n",
    "print(timing_match,\"seconds\")\n",
    "print(\"The number of edges in the graph is:\", sum_weighted_graph.number_of_edges(), \"\\n\")\n",
    "\n",
    "\n",
    "# print(\"The Maximal Matching Set is:\", matching_set_maximal, \"\\n\")"
   ]
  },
  {
   "cell_type": "markdown",
   "metadata": {},
   "source": [
    "## Minimal Matching"
   ]
  },
  {
   "cell_type": "code",
   "execution_count": 6,
   "metadata": {},
   "outputs": [],
   "source": [
    "def minimal_matching(sum_weighted_graph):\n",
    "\n",
    "    new_graph = sum_weighted_graph.copy()\n",
    "    max_weight = max([d['weight'] for u,v,d in new_graph.edges(data=True)])\n",
    "    for u,v,d in new_graph.edges(data=True):\n",
    "        d['weight'] = max_weight - d['weight']\n",
    "\n",
    "    matching_set_minimal = nx.algorithms.matching.max_weight_matching(new_graph)\n",
    "    return matching_set_minimal"
   ]
  },
  {
   "cell_type": "code",
   "execution_count": 7,
   "metadata": {},
   "outputs": [
    {
     "name": "stdout",
     "output_type": "stream",
     "text": [
      "\n",
      "\n",
      " 'SUM' MINIMAL MATCHING RESULTS:\n",
      "True\n",
      "The Minimal Matching Set is: {('Jacqueline ChanpSE_(9,)_2', 'Caroline Lane_0_(1,)_1'), ('Nichole Morrison_0_(2,)_1', 'Michele GreerURc_(8,)_2'), ('Anthony Holmes_2_(2,)_1', 'Anthony HolmesZAp_(7,)_2'), ('Reginald HicksPjz_(6,)_2', 'Reginald Hicks_2_(2,)_1'), ('Edward RussellotG_(0,)_2', 'Edward Russell_0_(5,)_1'), ('Michelle BeckerHLo_(0,)_2', 'Michelle Becker_2_(5,)_1'), ('Alexandra Ruiz_2_(0,)_1', 'Alex WallaceSWu_(1,)_2'), ('Alex Wallace_0_(3,)_1', 'Valerie Paulhun_(7,)_2'), ('Ricky Burns_1_(0,)_1', 'Emily RushOJA_(8,)_2'), ('Janice PattersonyYC_(6,)_2', 'Janice Patterson_0_(9,)_1'), ('Jeanette McneilIxS_(8,)_2', 'Jeanette Mcneil_0_(5,)_1'), ('Mark RodriguezpPE_(0,)_2', 'Mark Rodriguez_2_(2,)_1'), ('Scott Black_2_(0,)_1', 'Kim OrtizBLG_(1,)_2'), ('Ebony LarsenthP_(9,)_2', 'Emily Rush_2_(2,)_1'), ('William Wallace_0_(1,)_1', 'William MolinavKn_(7,)_2'), ('Christine Hughesvbm_(2,)_2', 'Christine Hughes_2_(1,)_1'), ('Nichole Morrison_2_(2,)_1', 'Nichole MorrisonVMo_(9,)_2'), ('Chris Smith_1_(0,)_1', 'Thomas Matanhb_(7,)_2'), ('Denise Bernard DDSMua_(0,)_2', 'Denise Bernard DDS_2_(6,)_1'), ('Willie WatsonYai_(1,)_2', 'William Wallace_2_(1,)_1'), ('Todd CarterdBy_(1,)_2', 'Chad Turner_2_(0,)_1'), ('Christopher Mccoyxub_(1,)_2', 'Christopher Mccoy_2_(5,)_1'), ('Kimberly Nielsen_2_(9,)_1', 'Kimberly NielsengnG_(2,)_2'), ('Diana PinedaSYo_(7,)_2', 'Lisa Weaver_1_(1,)_1'), ('Chad Turner_0_(0,)_1', 'Todd CohenfPt_(5,)_2'), ('Kevin MoranQoU_(3,)_2', 'Lauren Oconnor_1_(1,)_1'), ('Matthew Johnsonsbl_(2,)_2', 'Matthew Davila_1_(1,)_1'), ('Alexandra Ruiz_0_(0,)_1', 'Melissa RuizMRe_(9,)_2'), ('Brittany Stewart_2_(3,)_1', 'Brittany StewartwYX_(5,)_2'), ('Sarah DixonKke_(7,)_2', 'Patricia Dixon_1_(0,)_1'), ('Scott BlackHvy_(6,)_2', 'Scott Black_1_(0,)_1'), ('Melissa Ward_1_(0,)_1', 'Melissa JohnsonBvz_(3,)_2'), ('Sean MccannYUU_(1,)_2', 'Susan Miller_2_(1,)_1'), ('Selena WashingtonHuh_(3,)_2', 'Selena Washington_2_(3,)_1'), ('Samuel Mathis_1_(2,)_1', 'Jacqueline Simsc_(1,)_2'), ('Adrienne MclaughlinYTd_(6,)_2', 'Adrienne Mclaughlin_2_(6,)_1'), ('Mary SalinasDQQ_(7,)_2', 'Melissa Ward_0_(0,)_1'), ('Matthew DavilaKGn_(8,)_2', 'Matthew Davila_0_(1,)_1'), ('Melissa Ward_2_(0,)_1', 'Lisa GarzaROM_(1,)_2'), ('Lisa Garza_0_(1,)_1', 'Lisa FinleyaXI_(8,)_2'), ('Heather HarrisonKye_(5,)_2', 'Heather Harrison_2_(3,)_1'), ('Patricia DixonOHY_(4,)_2', 'Patricia Dixon_2_(0,)_1'), ('Brandon Mccall DVM_2_(5,)_1', 'Brandon Mccall DVMIVY_(1,)_2'), ('Alexandra Ruiz_1_(0,)_1', 'Alexandra RuizvXP_(6,)_2'), ('Matthew Davila_2_(1,)_1', 'Matthew May PhDLqq_(7,)_2'), ('Ebony Larsen_2_(2,)_1', 'Wesley Davisrpt_(2,)_2'), ('Ebony Larsen_1_(2,)_1', 'Kelly CarrollSdN_(5,)_2'), ('Justin MillsAKK_(9,)_2', 'Scott Black_0_(0,)_1'), ('Richard Gonzalezjew_(1,)_2', 'Richard Gonzalez_2_(4,)_1'), ('Taylor Scott_2_(2,)_1', 'Taylor ScottccC_(8,)_2'), ('Anna WoodsHCv_(7,)_2', 'Lisa Weaver_2_(1,)_1'), ('Samuel MathisqVb_(9,)_2', 'Samuel Mathis_2_(2,)_1'), ('Chris SmithkVR_(7,)_2', 'Chris Smith_0_(0,)_1'), ('Adam WilliamsYSb_(9,)_2', 'Adam Williams_2_(3,)_1'), ('William Wallace_1_(1,)_1', 'William WallaceVFE_(4,)_2'), ('Stephanie Brownpcf_(3,)_2', 'Stephen Chang_2_(3,)_1'), ('Anna Woods_2_(0,)_1', 'Hannah BrooksCww_(6,)_2'), ('Jessica Chambers_2_(0,)_1', 'Jessica ChambersqxH_(3,)_2'), ('Lauren Oconnor_2_(1,)_1', 'Lauren OconnorYBz_(1,)_2'), ('Chris Smith_2_(0,)_1', 'Julia BelltLe_(1,)_2'), ('Jacqueline SimsSG_(4,)_2', 'Jacqueline Chan_0_(4,)_1'), ('Julia Bell_0_(5,)_1', 'Julie ObrienApc_(1,)_2'), ('Kristina Patterson DDSVlQ_(8,)_2', 'Kristina Patterson DDS_2_(2,)_1'), ('Cynthia GibsontKf_(1,)_2', 'Cynthia Gibson_2_(3,)_1'), ('Wendy Vasquez_2_(6,)_1', 'Wendy VasquezzkX_(0,)_2'), ('Stephen ChanglRy_(4,)_2', 'Sean Mccann_2_(3,)_1'), ('Ashley GardneryQS_(1,)_2', 'Ashley Gardner_2_(8,)_1'), ('Ebony Larsen_0_(2,)_1', 'Gregory DavisLgh_(1,)_2'), ('Andrew TaylorURi_(7,)_2', 'Andrew Taylor_0_(7,)_1'), ('James Henderson_2_(8,)_1', 'James HendersonUdZ_(5,)_2'), ('Anna Woods_1_(0,)_1', 'Yvonne RiosFZg_(2,)_2'), ('Cynthia ChangmEr_(9,)_2', 'Jessica Chambers_1_(0,)_1'), ('Susan Miller_1_(1,)_1', 'Lisa WeaverLWV_(5,)_2'), ('Rachel FernandezRBN_(3,)_2', 'Rachel Fernandez_2_(9,)_1'), ('Mariah Thomasjur_(1,)_2', 'Sarah Garcia_2_(3,)_1'), ('Ricky BurnsPdv_(7,)_2', 'Ricky Burns_2_(0,)_1'), ('Michael PerrykZb_(7,)_2', 'Nichole Morrison_1_(2,)_1'), ('Daniel JohnsonFoR_(7,)_2', 'Lauren Oconnor_0_(1,)_1'), ('Caroline Lane_1_(1,)_1', 'Caroline LanerDH_(7,)_2'), ('Jonathan Jordan_2_(4,)_1', 'Jonathan JordannaI_(4,)_2'), ('Kylie Hansenloz_(1,)_2', 'Tina Mendoza_0_(3,)_1'), ('Chad Turner_1_(0,)_1', 'Chad TurnerBvW_(2,)_2'), ('Kim Ortiz_2_(4,)_1', 'Michael OrtizbAb_(5,)_2'), ('Susan Brewer DDStoG_(2,)_2', 'Susan Brewer DDS_1_(0,)_1'), ('Amanda Maxwell_2_(4,)_1', 'Amanda MaxwellMKI_(4,)_2'), ('Donald Lopez_2_(2,)_1', 'Donald LopezAnn_(3,)_2'), ('Marc ShermanvSk_(3,)_2', 'Caroline Lane_2_(1,)_1'), ('Lisa MeyeroMa_(7,)_2', 'Susan Brewer DDS_0_(0,)_1'), ('James Henderson_0_(8,)_1', 'James ArnoldGdB_(8,)_2'), ('Robert Green_2_(4,)_1', 'Robert Greenrdl_(8,)_2'), ('Susan Brewer DDS_2_(0,)_1', 'Susan MillerXij_(1,)_2'), ('Tina MendozagsX_(1,)_2', 'Lisa Garza_1_(1,)_1'), ('Randall MurrayYpt_(6,)_2', 'Randall Murray_2_(2,)_1'), ('Meghan Mooredrn_(4,)_2', 'Anna Woods_0_(0,)_1'), ('Melissa WardsuF_(6,)_2', 'Lisa Garza_2_(1,)_1'), ('Zachary BrownXHw_(0,)_2', 'Zachary Brown_0_(4,)_1'), ('Tonya MurrayOXB_(8,)_2', 'Randall Murray_1_(2,)_1'), ('Seth PearsontUP_(9,)_2', 'Seth Pearson_2_(3,)_1'), ('Victoria LewisayX_(8,)_2', 'Victoria Lewis_2_(8,)_1'), ('Mary Salinas_2_(2,)_1', 'Mary NicholsiOy_(8,)_2')} \n",
      "\n",
      "---- Timing for Matching (Done on the graph constructed with the treshold constraint) ----\n",
      "0.246362 seconds\n",
      "The number of edges in the graph is: 1401 \n",
      "\n"
     ]
    }
   ],
   "source": [
    "print(\"\\n\\n 'SUM' MINIMAL MATCHING RESULTS:\")\n",
    "print(nx.bipartite.is_bipartite(sum_weighted_graph))\n",
    "now = datetime.datetime.now()\n",
    "matching_set_minimal = minimal_matching(sum_weighted_graph)\n",
    "timing_match = (datetime.datetime.now()-now).total_seconds()\n",
    "print(\"The Minimal Matching Set is:\", matching_set_minimal, \"\\n\")\n",
    "print(\"---- Timing for Matching (Done on the graph constructed with the treshold constraint) ----\")\n",
    "print(timing_match,\"seconds\")\n",
    "print(\"The number of edges in the graph is:\", sum_weighted_graph.number_of_edges(), \"\\n\")"
   ]
  },
  {
   "cell_type": "code",
   "execution_count": 8,
   "metadata": {},
   "outputs": [
    {
     "name": "stdout",
     "output_type": "stream",
     "text": [
      "\n",
      " MAX MATCHES WITH SUM WEIGHTS\n",
      "['Jacqueline Sims_0_(6,)_1', 'Jacqueline SimsSG_(4,)_2', 10.0]\n",
      "['Jacqueline Sims_2_(6,)_1', 'Jacqueline Simsc_(1,)_2', 7.0]\n",
      "['Jacqueline ChanpSE_(9,)_2', 'Kylie Hansen_0_(7,)_1', 16.0]\n",
      "['Kimberly Nielsen_0_(9,)_1', 'Kimberly NielsengnG_(2,)_2', 11.0]\n",
      "['Valerie Paul_2_(9,)_1', 'Valerie Paulhun_(7,)_2', 16.0]\n",
      "['Valerie Paul_1_(9,)_1', 'Julie ObrienApc_(1,)_2', 10.0]\n",
      "['Stephanie Brown_1_(8,)_1', 'Zachary BrownXHw_(0,)_2', 8.0]\n",
      "['Stephanie Brownpcf_(3,)_2', 'Stephanie Brown_0_(8,)_1', 11.0]\n",
      "['Hannah BrooksCww_(6,)_2', 'Mariah Thomas_0_(8,)_1', 14.0]\n",
      "['Melissa Johnson_2_(8,)_1', 'Lisa GarzaROM_(1,)_2', 9.0]\n",
      "['Cynthia Chang_1_(7,)_1', 'Cynthia GibsontKf_(1,)_2', 8.0]\n",
      "['Cynthia ChangmEr_(9,)_2', 'Cynthia Chang_2_(7,)_1', 16.0]\n",
      "['Wendy Vasquez_0_(6,)_1', 'Wendy VasquezzkX_(0,)_2', 6.0]\n",
      "['Emily RushOJA_(8,)_2', 'Mariah Thomas_1_(8,)_1', 16.0]\n",
      "['Wesley Davisrpt_(2,)_2', 'Ashley Gardner_2_(8,)_1', 10.0]\n",
      "['Matthew DavilaKGn_(8,)_2', 'Matthew May PhD_2_(8,)_1', 16.0]\n",
      "['Gregory Davis_2_(7,)_1', 'Gregory DavisLgh_(1,)_2', 8.0]\n",
      "['Matthew Johnsonsbl_(2,)_2', 'Matthew May PhD_0_(8,)_1', 10.0]\n",
      "['Matthew May PhD_1_(8,)_1', 'Matthew May PhDLqq_(7,)_2', 15.0]\n",
      "['Denise Bernard DDSMua_(0,)_2', 'Denise Bernard DDS_2_(6,)_1', 6.0]\n",
      "['Edward RussellotG_(0,)_2', 'Edward Russell_0_(5,)_1', 5.0]\n",
      "['Jessica ChambersqxH_(3,)_2', 'Jessica Chambers_0_(0,)_1', 3.0]\n",
      "['Donald LopezAnn_(3,)_2', 'Diana Pineda_0_(8,)_1', 11.0]\n",
      "['Diana Pineda_1_(8,)_1', 'Diana PinedaSYo_(7,)_2', 15.0]\n",
      "['Sarah DixonKke_(7,)_2', 'Mary Nichols_0_(9,)_1', 16.0]\n",
      "['Ricky BurnsPdv_(7,)_2', 'Rachel Fernandez_2_(9,)_1', 16.0]\n",
      "['Kim OrtizBLG_(1,)_2', 'Victoria Lewis_1_(8,)_1', 9.0]\n",
      "['Lisa Meyer_0_(6,)_1', 'Tina MendozagsX_(1,)_2', 7.0]\n",
      "['Lisa MeyeroMa_(7,)_2', 'Michael Perry_1_(8,)_1', 15.0]\n",
      "['Diana Pineda_2_(8,)_1', 'Lisa FinleyaXI_(8,)_2', 16.0]\n",
      "['Jeanette McneilIxS_(8,)_2', 'Jeanette Mcneil_0_(5,)_1', 13.0]\n",
      "['Michele Greer_2_(8,)_1', 'Robert Greenrdl_(8,)_2', 16.0]\n",
      "['Michael Perry_2_(8,)_1', 'Michele GreerURc_(8,)_2', 16.0]\n",
      "['Amanda Maxwell_2_(4,)_1', 'Amanda MaxwellMKI_(4,)_2', 8.0]\n",
      "['Jonathan Jordan_2_(4,)_1', 'Jonathan JordannaI_(4,)_2', 8.0]\n",
      "['Michael Perry_0_(8,)_1', 'Meghan Mooredrn_(4,)_2', 12.0]\n",
      "['Patricia DixonOHY_(4,)_2', 'Sarah Dixon_2_(2,)_1', 6.0]\n",
      "['Lauren OconnorYBz_(1,)_2', 'Lauren Oconnor_0_(1,)_1', 2.0]\n",
      "['Daniel JohnsonFoR_(7,)_2', 'Melissa Johnson_1_(8,)_1', 15.0]\n",
      "['Kevin MoranQoU_(3,)_2', 'Yvonne Rios_1_(8,)_1', 11.0]\n",
      "['Lisa Meyer_2_(6,)_1', 'Susan MillerXij_(1,)_2', 7.0]\n",
      "['Stephanie Brown_2_(8,)_1', 'Stephen ChanglRy_(4,)_2', 12.0]\n",
      "['Kylie Hansenloz_(1,)_2', 'Janice Patterson_1_(9,)_1', 10.0]\n",
      "['Kelly CarrollSdN_(5,)_2', 'James Arnold_2_(9,)_1', 14.0]\n",
      "['Willie WatsonYai_(1,)_2', 'Willie Watson_0_(7,)_1', 8.0]\n",
      "['Ebony LarsenthP_(9,)_2', 'Kylie Hansen_2_(7,)_1', 16.0]\n",
      "['Kylie Hansen_1_(7,)_1', 'Caroline LanerDH_(7,)_2', 14.0]\n",
      "['Melissa WardsuF_(6,)_2', 'Lisa Finley_1_(6,)_1', 12.0]\n",
      "['James Arnold_0_(9,)_1', 'Julia BelltLe_(1,)_2', 10.0]\n",
      "['James Arnold_1_(9,)_1', 'Thomas Matanhb_(7,)_2', 16.0]\n",
      "['Mary Nichols_1_(9,)_1', 'Chris SmithkVR_(7,)_2', 16.0]\n",
      "['Randall MurrayYpt_(6,)_2', 'Tonya Murray_1_(4,)_1', 10.0]\n",
      "['Tonya Murray_2_(4,)_1', 'Tonya MurrayOXB_(8,)_2', 12.0]\n",
      "['Michelle BeckerHLo_(0,)_2', 'Michele Greer_0_(8,)_1', 8.0]\n",
      "['Michele Greer_1_(8,)_1', 'Michael OrtizbAb_(5,)_2', 13.0]\n",
      "['Michael PerrykZb_(7,)_2', 'Rachel Fernandez_1_(9,)_1', 16.0]\n",
      "['Scott BlackHvy_(6,)_2', 'Todd Cohen_2_(5,)_1', 11.0]\n",
      "['Kevin Moran_2_(7,)_1', 'Justin MillsAKK_(9,)_2', 16.0]\n",
      "['Susan Brewer DDStoG_(2,)_2', 'Susan Brewer DDS_2_(0,)_1', 2.0]\n",
      "['Janice Patterson_2_(9,)_1', 'Janice PattersonyYC_(6,)_2', 15.0]\n",
      "['Selena WashingtonHuh_(3,)_2', 'Selena Washington_2_(3,)_1', 6.0]\n",
      "['Todd CarterdBy_(1,)_2', 'Todd Cohen_1_(5,)_1', 6.0]\n",
      "['Mary Nichols_2_(9,)_1', 'Mary SalinasDQQ_(7,)_2', 16.0]\n",
      "['Marc Sherman_1_(8,)_1', 'Marc ShermanvSk_(3,)_2', 11.0]\n",
      "['Mariah Thomas_2_(8,)_1', 'Mary NicholsiOy_(8,)_2', 16.0]\n",
      "['Christopher Mccoyxub_(1,)_2', 'Christopher Mccoy_2_(5,)_1', 6.0]\n",
      "['Donald Lopez_2_(2,)_1', 'Reginald HicksPjz_(6,)_2', 8.0]\n",
      "['William MolinavKn_(7,)_2', 'Willie Watson_2_(7,)_1', 14.0]\n",
      "['Willie Watson_1_(7,)_1', 'William WallaceVFE_(4,)_2', 11.0]\n",
      "['Meghan Moore_2_(6,)_1', 'Melissa RuizMRe_(9,)_2', 15.0]\n",
      "['Melissa JohnsonBvz_(3,)_2', 'Melissa Johnson_0_(8,)_1', 11.0]\n",
      "['Alexandra RuizvXP_(6,)_2', 'Melissa Ruiz_2_(2,)_1', 8.0]\n",
      "['Mark RodriguezpPE_(0,)_2', 'Mark Rodriguez_2_(2,)_1', 2.0]\n",
      "['Christine Hughesvbm_(2,)_2', 'Christine Hughes_2_(1,)_1', 3.0]\n",
      "['Andrew TaylorURi_(7,)_2', 'Andrew Taylor_2_(7,)_1', 14.0]\n",
      "['Anna WoodsHCv_(7,)_2', 'Yvonne Rios_2_(8,)_1', 15.0]\n",
      "['Kevin Moran_1_(7,)_1', 'Sean MccannYUU_(1,)_2', 8.0]\n",
      "['Lisa Finley_2_(6,)_1', 'Lisa WeaverLWV_(5,)_2', 11.0]\n",
      "['Rachel Fernandez_0_(9,)_1', 'Rachel FernandezRBN_(3,)_2', 12.0]\n",
      "['Anthony Holmes_2_(2,)_1', 'Anthony HolmesZAp_(7,)_2', 9.0]\n",
      "['Yvonne Rios_0_(8,)_1', 'Yvonne RiosFZg_(2,)_2', 10.0]\n",
      "['James Henderson_2_(8,)_1', 'James HendersonUdZ_(5,)_2', 13.0]\n",
      "['James Henderson_1_(8,)_1', 'James ArnoldGdB_(8,)_2', 16.0]\n",
      "['Alex WallaceSWu_(1,)_2', 'Alex Wallace_0_(3,)_1', 4.0]\n",
      "['Adam WilliamsYSb_(9,)_2', 'Adam Williams_2_(3,)_1', 12.0]\n",
      "['Kristina Patterson DDSVlQ_(8,)_2', 'Kristina Patterson DDS_2_(2,)_1', 10.0]\n",
      "['Ashley GardneryQS_(1,)_2', 'Ashley Gardner_1_(8,)_1', 9.0]\n",
      "['Todd CohenfPt_(5,)_2', 'Marc Sherman_2_(8,)_1', 13.0]\n",
      "['Todd Carter_2_(2,)_1', 'Chad TurnerBvW_(2,)_2', 4.0]\n",
      "['Samuel MathisqVb_(9,)_2', 'Daniel Johnson_2_(6,)_1', 15.0]\n",
      "['Brittany Stewart_2_(3,)_1', 'Brittany StewartwYX_(5,)_2', 8.0]\n",
      "['Heather HarrisonKye_(5,)_2', 'Heather Harrison_2_(3,)_1', 8.0]\n",
      "['Victoria LewisayX_(8,)_2', 'Victoria Lewis_2_(8,)_1', 16.0]\n",
      "['Seth PearsontUP_(9,)_2', 'Seth Pearson_2_(3,)_1', 12.0]\n",
      "['Adrienne MclaughlinYTd_(6,)_2', 'Adrienne Mclaughlin_2_(6,)_1', 12.0]\n",
      "['Nichole Morrison_2_(2,)_1', 'Nichole MorrisonVMo_(9,)_2', 11.0]\n",
      "['Marc Sherman_0_(8,)_1', 'Mariah Thomasjur_(1,)_2', 9.0]\n",
      "['Taylor Scott_2_(2,)_1', 'Taylor ScottccC_(8,)_2', 10.0]\n",
      "['Brandon Mccall DVM_2_(5,)_1', 'Brandon Mccall DVMIVY_(1,)_2', 6.0]\n",
      "['Richard Gonzalezjew_(1,)_2', 'Richard Gonzalez_2_(4,)_1', 5.0]\n",
      "\n",
      " MIN MATCHES WITH SUM WEIGHTS\n",
      "['Samuel Mathis_1_(2,)_1', 'Jacqueline Simsc_(1,)_2', 3.0]\n",
      "['Jacqueline SimsSG_(4,)_2', 'Jacqueline Chan_0_(4,)_1', 8.0]\n",
      "['Jacqueline ChanpSE_(9,)_2', 'Caroline Lane_0_(1,)_1', 10.0]\n",
      "['Kimberly Nielsen_2_(9,)_1', 'Kimberly NielsengnG_(2,)_2', 11.0]\n",
      "['Alex Wallace_0_(3,)_1', 'Valerie Paulhun_(7,)_2', 10.0]\n",
      "['Julia Bell_0_(5,)_1', 'Julie ObrienApc_(1,)_2', 6.0]\n",
      "['Zachary BrownXHw_(0,)_2', 'Zachary Brown_0_(4,)_1', 4.0]\n",
      "['Stephanie Brownpcf_(3,)_2', 'Stephen Chang_2_(3,)_1', 6.0]\n",
      "['Anna Woods_2_(0,)_1', 'Hannah BrooksCww_(6,)_2', 6.0]\n",
      "['Melissa Ward_2_(0,)_1', 'Lisa GarzaROM_(1,)_2', 1.0]\n",
      "['Cynthia GibsontKf_(1,)_2', 'Cynthia Gibson_2_(3,)_1', 4.0]\n",
      "['Cynthia ChangmEr_(9,)_2', 'Jessica Chambers_1_(0,)_1', 9.0]\n",
      "['Wendy Vasquez_2_(6,)_1', 'Wendy VasquezzkX_(0,)_2', 6.0]\n",
      "['Ricky Burns_1_(0,)_1', 'Emily RushOJA_(8,)_2', 8.0]\n",
      "['Ebony Larsen_2_(2,)_1', 'Wesley Davisrpt_(2,)_2', 4.0]\n",
      "['Matthew DavilaKGn_(8,)_2', 'Matthew Davila_0_(1,)_1', 9.0]\n",
      "['Ebony Larsen_0_(2,)_1', 'Gregory DavisLgh_(1,)_2', 3.0]\n",
      "['Matthew Johnsonsbl_(2,)_2', 'Matthew Davila_1_(1,)_1', 3.0]\n",
      "['Matthew Davila_2_(1,)_1', 'Matthew May PhDLqq_(7,)_2', 8.0]\n",
      "['Denise Bernard DDSMua_(0,)_2', 'Denise Bernard DDS_2_(6,)_1', 6.0]\n",
      "['Edward RussellotG_(0,)_2', 'Edward Russell_0_(5,)_1', 5.0]\n",
      "['Jessica Chambers_2_(0,)_1', 'Jessica ChambersqxH_(3,)_2', 3.0]\n",
      "['Diana PinedaSYo_(7,)_2', 'Lisa Weaver_1_(1,)_1', 8.0]\n",
      "['Sarah DixonKke_(7,)_2', 'Patricia Dixon_1_(0,)_1', 7.0]\n",
      "['Ricky BurnsPdv_(7,)_2', 'Ricky Burns_2_(0,)_1', 7.0]\n",
      "['Scott Black_2_(0,)_1', 'Kim OrtizBLG_(1,)_2', 1.0]\n",
      "['Tina MendozagsX_(1,)_2', 'Lisa Garza_1_(1,)_1', 2.0]\n",
      "['Lisa MeyeroMa_(7,)_2', 'Susan Brewer DDS_0_(0,)_1', 7.0]\n",
      "['Donald Lopez_2_(2,)_1', 'Donald LopezAnn_(3,)_2', 5.0]\n",
      "['Lisa Garza_0_(1,)_1', 'Lisa FinleyaXI_(8,)_2', 9.0]\n",
      "['Jeanette McneilIxS_(8,)_2', 'Jeanette Mcneil_0_(5,)_1', 13.0]\n",
      "['Robert Green_2_(4,)_1', 'Robert Greenrdl_(8,)_2', 12.0]\n",
      "['Nichole Morrison_0_(2,)_1', 'Michele GreerURc_(8,)_2', 10.0]\n",
      "['Amanda Maxwell_2_(4,)_1', 'Amanda MaxwellMKI_(4,)_2', 8.0]\n",
      "['Jonathan Jordan_2_(4,)_1', 'Jonathan JordannaI_(4,)_2', 8.0]\n",
      "['Meghan Mooredrn_(4,)_2', 'Anna Woods_0_(0,)_1', 4.0]\n",
      "['Patricia DixonOHY_(4,)_2', 'Patricia Dixon_2_(0,)_1', 4.0]\n",
      "['Daniel JohnsonFoR_(7,)_2', 'Lauren Oconnor_0_(1,)_1', 8.0]\n",
      "['Lauren Oconnor_2_(1,)_1', 'Lauren OconnorYBz_(1,)_2', 2.0]\n",
      "['Kevin MoranQoU_(3,)_2', 'Lauren Oconnor_1_(1,)_1', 4.0]\n",
      "['Susan Brewer DDS_2_(0,)_1', 'Susan MillerXij_(1,)_2', 1.0]\n",
      "['Stephen ChanglRy_(4,)_2', 'Sean Mccann_2_(3,)_1', 7.0]\n",
      "['Kylie Hansenloz_(1,)_2', 'Tina Mendoza_0_(3,)_1', 4.0]\n",
      "['Ebony Larsen_1_(2,)_1', 'Kelly CarrollSdN_(5,)_2', 7.0]\n",
      "['Willie WatsonYai_(1,)_2', 'William Wallace_2_(1,)_1', 2.0]\n",
      "['Ebony LarsenthP_(9,)_2', 'Emily Rush_2_(2,)_1', 11.0]\n",
      "['Caroline Lane_1_(1,)_1', 'Caroline LanerDH_(7,)_2', 8.0]\n",
      "['Melissa WardsuF_(6,)_2', 'Lisa Garza_2_(1,)_1', 7.0]\n",
      "['Chris Smith_2_(0,)_1', 'Julia BelltLe_(1,)_2', 1.0]\n",
      "['Chris Smith_1_(0,)_1', 'Thomas Matanhb_(7,)_2', 7.0]\n",
      "['Chris SmithkVR_(7,)_2', 'Chris Smith_0_(0,)_1', 7.0]\n",
      "['Randall MurrayYpt_(6,)_2', 'Randall Murray_2_(2,)_1', 8.0]\n",
      "['Tonya MurrayOXB_(8,)_2', 'Randall Murray_1_(2,)_1', 10.0]\n",
      "['Michelle BeckerHLo_(0,)_2', 'Michelle Becker_2_(5,)_1', 5.0]\n",
      "['Kim Ortiz_2_(4,)_1', 'Michael OrtizbAb_(5,)_2', 9.0]\n",
      "['Michael PerrykZb_(7,)_2', 'Nichole Morrison_1_(2,)_1', 9.0]\n",
      "['Justin MillsAKK_(9,)_2', 'Scott Black_0_(0,)_1', 9.0]\n",
      "['Scott BlackHvy_(6,)_2', 'Scott Black_1_(0,)_1', 6.0]\n",
      "['Susan Brewer DDStoG_(2,)_2', 'Susan Brewer DDS_1_(0,)_1', 2.0]\n",
      "['Janice PattersonyYC_(6,)_2', 'Janice Patterson_0_(9,)_1', 15.0]\n",
      "['Selena WashingtonHuh_(3,)_2', 'Selena Washington_2_(3,)_1', 6.0]\n",
      "['Todd CarterdBy_(1,)_2', 'Chad Turner_2_(0,)_1', 1.0]\n",
      "['Mary SalinasDQQ_(7,)_2', 'Melissa Ward_0_(0,)_1', 7.0]\n",
      "['Marc ShermanvSk_(3,)_2', 'Caroline Lane_2_(1,)_1', 4.0]\n",
      "['Mary Salinas_2_(2,)_1', 'Mary NicholsiOy_(8,)_2', 10.0]\n",
      "['Christopher Mccoyxub_(1,)_2', 'Christopher Mccoy_2_(5,)_1', 6.0]\n",
      "['Reginald HicksPjz_(6,)_2', 'Reginald Hicks_2_(2,)_1', 8.0]\n",
      "['William Wallace_0_(1,)_1', 'William MolinavKn_(7,)_2', 8.0]\n",
      "['William Wallace_1_(1,)_1', 'William WallaceVFE_(4,)_2', 5.0]\n",
      "['Alexandra Ruiz_0_(0,)_1', 'Melissa RuizMRe_(9,)_2', 9.0]\n",
      "['Melissa Ward_1_(0,)_1', 'Melissa JohnsonBvz_(3,)_2', 3.0]\n",
      "['Alexandra Ruiz_1_(0,)_1', 'Alexandra RuizvXP_(6,)_2', 6.0]\n",
      "['Mark RodriguezpPE_(0,)_2', 'Mark Rodriguez_2_(2,)_1', 2.0]\n",
      "['Christine Hughesvbm_(2,)_2', 'Christine Hughes_2_(1,)_1', 3.0]\n",
      "['Andrew TaylorURi_(7,)_2', 'Andrew Taylor_0_(7,)_1', 14.0]\n",
      "['Anna WoodsHCv_(7,)_2', 'Lisa Weaver_2_(1,)_1', 8.0]\n",
      "['Sean MccannYUU_(1,)_2', 'Susan Miller_2_(1,)_1', 2.0]\n",
      "['Susan Miller_1_(1,)_1', 'Lisa WeaverLWV_(5,)_2', 6.0]\n",
      "['Rachel FernandezRBN_(3,)_2', 'Rachel Fernandez_2_(9,)_1', 12.0]\n",
      "['Anthony Holmes_2_(2,)_1', 'Anthony HolmesZAp_(7,)_2', 9.0]\n",
      "['Anna Woods_1_(0,)_1', 'Yvonne RiosFZg_(2,)_2', 2.0]\n",
      "['James Henderson_0_(8,)_1', 'James ArnoldGdB_(8,)_2', 16.0]\n",
      "['James Henderson_2_(8,)_1', 'James HendersonUdZ_(5,)_2', 13.0]\n",
      "['Alexandra Ruiz_2_(0,)_1', 'Alex WallaceSWu_(1,)_2', 1.0]\n",
      "['Adam WilliamsYSb_(9,)_2', 'Adam Williams_2_(3,)_1', 12.0]\n",
      "['Kristina Patterson DDSVlQ_(8,)_2', 'Kristina Patterson DDS_2_(2,)_1', 10.0]\n",
      "['Ashley GardneryQS_(1,)_2', 'Ashley Gardner_2_(8,)_1', 9.0]\n",
      "['Chad Turner_0_(0,)_1', 'Todd CohenfPt_(5,)_2', 5.0]\n",
      "['Chad Turner_1_(0,)_1', 'Chad TurnerBvW_(2,)_2', 2.0]\n",
      "['Samuel MathisqVb_(9,)_2', 'Samuel Mathis_2_(2,)_1', 11.0]\n",
      "['Brittany Stewart_2_(3,)_1', 'Brittany StewartwYX_(5,)_2', 8.0]\n",
      "['Heather HarrisonKye_(5,)_2', 'Heather Harrison_2_(3,)_1', 8.0]\n",
      "['Victoria LewisayX_(8,)_2', 'Victoria Lewis_2_(8,)_1', 16.0]\n",
      "['Seth PearsontUP_(9,)_2', 'Seth Pearson_2_(3,)_1', 12.0]\n",
      "['Adrienne MclaughlinYTd_(6,)_2', 'Adrienne Mclaughlin_2_(6,)_1', 12.0]\n",
      "['Nichole Morrison_2_(2,)_1', 'Nichole MorrisonVMo_(9,)_2', 11.0]\n",
      "['Mariah Thomasjur_(1,)_2', 'Sarah Garcia_2_(3,)_1', 4.0]\n",
      "['Taylor Scott_2_(2,)_1', 'Taylor ScottccC_(8,)_2', 10.0]\n",
      "['Brandon Mccall DVM_2_(5,)_1', 'Brandon Mccall DVMIVY_(1,)_2', 6.0]\n",
      "['Richard Gonzalezjew_(1,)_2', 'Richard Gonzalez_2_(4,)_1', 5.0]\n"
     ]
    }
   ],
   "source": [
    "def fetch_sum(bip_graph, matching):\n",
    "    output = []\n",
    "    for u,v,d in bip_graph.edges(data=True):\n",
    "        l = (u, v)\n",
    "        k = (v, u)\n",
    "        if l in matching:\n",
    "            output.append([u,v, d['weight']])\n",
    "        if k in matching:\n",
    "            output.append([v,u, d['weight']])\n",
    "    return output\n",
    "\n",
    "out_max = fetch_sum(sum_weighted_graph, matching_set_maximal)\n",
    "out_min = fetch_sum(sum_weighted_graph, matching_set_minimal)\n",
    "\n",
    "print(\"\\n MAX MATCHES WITH SUM WEIGHTS\")\n",
    "for val in out_max:\n",
    "    print(val)\n",
    "    \n",
    "print(\"\\n MIN MATCHES WITH SUM WEIGHTS\")\n",
    "for val2 in out_min:\n",
    "    print(val2)\n",
    "\n",
    "def formatted_output(out_max, out_min):\n",
    "    out_dict = {}\n",
    "    for (val1,val2, weight) in out_min:\n",
    "        splitted1 = val1.split(\"_\")\n",
    "        splitted2 = val2.split(\"_\")\n",
    "        if len(splitted1) == 4:\n",
    "            if splitted1[0] in out_dict:\n",
    "                out_dict[splitted1[0]].append((splitted2[0], \"min\", weight))\n",
    "            else:\n",
    "                out_dict[splitted1[0]] = [(splitted2[0], \"min\", weight)]\n",
    "\n",
    "        if len(splitted2) == 4:\n",
    "            if splitted2[0] in out_dict:\n",
    "                out_dict[splitted2[0]].append((splitted1[0], \"min\", weight))\n",
    "            else:\n",
    "                out_dict[splitted2[0]] = [(splitted1[0], \"min\", weight)]\n",
    "            \n",
    "    for (val1,val2, weight) in out_max:\n",
    "        splitted1 = val1.split(\"_\")\n",
    "        splitted2 = val2.split(\"_\")\n",
    "        if len(splitted1) == 4:\n",
    "            if splitted1[0] in out_dict:\n",
    "                out_dict[splitted1[0]].append((splitted2[0], \"max\", weight))\n",
    "            else:\n",
    "                out_dict[splitted1[0]] = [(splitted2[0], \"max\", weight)]\n",
    "\n",
    "        if len(splitted2) == 4:\n",
    "            if splitted2[0] in out_dict:\n",
    "                out_dict[splitted2[0]].append((splitted1[0], \"max\", weight))\n",
    "            else:\n",
    "                out_dict[splitted2[0]] = [(splitted1[0], \"max\", weight)]\n",
    "    return out_dict\n",
    "            \n",
    "    \n",
    "form_output = formatted_output(out_max,out_min)\n",
    "\n",
    "# print(\"\\n FORMAL OUTPUT\")\n",
    "# for i,val in form_output.items():\n",
    "#     print(i, val)"
   ]
  },
  {
   "cell_type": "markdown",
   "metadata": {},
   "source": [
    "## BP Matching: Sum row of Min and Max"
   ]
  },
  {
   "cell_type": "code",
   "execution_count": 9,
   "metadata": {},
   "outputs": [
    {
     "name": "stdout",
     "output_type": "stream",
     "text": [
      "BP Matching: Highest bound for maximum: 1086.0\n",
      "BP Matching: Lowest bound for minimum: 689.0\n"
     ]
    }
   ],
   "source": [
    "def sum_total_weights(max_min_list):\n",
    "    if max_min_list == [] or max_min_list == None:\n",
    "        print(\"ERROR: NO SIMILARITY FOUND IN NAIVE OR RANDOM SAMPLING APPROACH. Suggestion: Decrease Similarity Matching Threshold.\")\n",
    "        return None\n",
    "    total = 0\n",
    "    for i in max_min_list:\n",
    "        total += i[-1]\n",
    "    return total\n",
    "\n",
    "total_max = sum_total_weights(out_max)\n",
    "print(\"BP Matching: Highest bound for maximum:\", total_max)\n",
    "\n",
    "total_min = sum_total_weights(out_min)\n",
    "print(\"BP Matching: Lowest bound for minimum:\", total_min)"
   ]
  },
  {
   "cell_type": "markdown",
   "metadata": {},
   "source": [
    "### Prepare Data for Comparison Experimentation"
   ]
  },
  {
   "cell_type": "code",
   "execution_count": 10,
   "metadata": {},
   "outputs": [
    {
     "name": "stdout",
     "output_type": "stream",
     "text": [
      "Loaded catalogs.\n"
     ]
    }
   ],
   "source": [
    "# print(os.getcwd())\n",
    "sample_size = 50\n",
    "table_a_dup = one_to_n.create_duplicates(table_a_non_duplicated, \"name\", 3)\n",
    "table_a_dup.to_csv(r's_data1_dup.csv', index = False, header=True)\n",
    "cat_table1_dup = core2.data_catalog('s_data1_dup.csv')\n",
    "cat_table1 = core2.data_catalog('s_data1.csv')\n",
    "cat_table2 = core2.data_catalog('s_data2.csv')\n",
    "print('Loaded catalogs.')"
   ]
  },
  {
   "cell_type": "markdown",
   "metadata": {},
   "source": [
    "### 2. Naive Matching Performance Evaluation"
   ]
  },
  {
   "cell_type": "code",
   "execution_count": 11,
   "metadata": {},
   "outputs": [
    {
     "name": "stdout",
     "output_type": "stream",
     "text": [
      "NAIVE MAX MATCHING\n",
      "Performing compare all match (edit distance)...\n",
      "Naive Edit Distance Matching computation time taken:  0.254116  seconds\n",
      "Performing compare all match (jaccard distance)...\n",
      "Naive Jaccard Matching computation time taken:  0.114085  seconds \n",
      "\n",
      "NAIVE MIN MATCHING\n",
      "Performing compare all match (edit distance)...\n",
      "Naive Edit Distance Matching computation time taken:  0.055699  seconds\n",
      "Performing compare all match (jaccard distance)...\n",
      "Naive Jaccard Matching computation time taken:  0.071102  seconds\n"
     ]
    }
   ],
   "source": [
    "# MAX MATCHING\n",
    "print(\"NAIVE MAX MATCHING\")\n",
    "print('Performing compare all match (edit distance)...')\n",
    "now = datetime.datetime.now()\n",
    "max_compare_all_edit_match = matcher.matcher_dup_updated(cat_table1_dup,cat_table2,editdistance.eval, matcher.all, 0.09)\n",
    "naive_time_edit = (datetime.datetime.now()-now).total_seconds()\n",
    "print(\"Naive Edit Distance Matching computation time taken: \", naive_time_edit, \" seconds\")\n",
    "#print('Compare All Matcher (Edit Distance) Performance: ' + str(core.eval_matching(compare_all_edit_match)))\n",
    "\n",
    "\n",
    "print('Performing compare all match (jaccard distance)...')\n",
    "now = datetime.datetime.now()\n",
    "max_compare_all_jaccard_match = matcher.matcher_dup_updated(cat_table1_dup,cat_table2,analyze.jaccard_calc, matcher.all, 0.09)\n",
    "naive_time_jaccard = (datetime.datetime.now()-now).total_seconds()\n",
    "print(\"Naive Jaccard Matching computation time taken: \", naive_time_jaccard, \" seconds\", \"\\n\")\n",
    "#print('Compare All Matcher (Jaccard Distance) Performance: ' + str(core2.eval_matching(compare_all_jaccard_match)))\n",
    "\n",
    "# MIN MATCHING\n",
    "print(\"NAIVE MIN MATCHING\")\n",
    "print('Performing compare all match (edit distance)...')\n",
    "now = datetime.datetime.now()\n",
    "min_compare_all_edit_match = matcher.matcher_updated(cat_table1,cat_table2,editdistance.eval, matcher.all, 0.09)\n",
    "naive_time_edit = (datetime.datetime.now()-now).total_seconds()\n",
    "print(\"Naive Edit Distance Matching computation time taken: \", naive_time_edit, \" seconds\")\n",
    "#print('Compare All Matcher (Edit Distance) Performance: ' + str(core.eval_matching(compare_all_edit_match)))\n",
    "\n",
    "\n",
    "print('Performing compare all match (jaccard distance)...')\n",
    "now = datetime.datetime.now()\n",
    "min_compare_all_jaccard_match = matcher.matcher_updated(cat_table1,cat_table2,analyze.jaccard_calc, matcher.all, 0.09)\n",
    "naive_time_jaccard = (datetime.datetime.now()-now).total_seconds()\n",
    "print(\"Naive Jaccard Matching computation time taken: \", naive_time_jaccard, \" seconds\")\n",
    "#print('Compare All Matcher (Jaccard Distance) Performance: ' + str(core2.eval_matching(compare_all_jaccard_match)))"
   ]
  },
  {
   "cell_type": "markdown",
   "metadata": {},
   "source": [
    "### 3. Random Sampling Matching Performance Evaluation"
   ]
  },
  {
   "cell_type": "code",
   "execution_count": 12,
   "metadata": {},
   "outputs": [
    {
     "name": "stdout",
     "output_type": "stream",
     "text": [
      "RANDOM SAMPLE MAX MATCHING\n",
      "Performing random sample match (edit distance)...\n",
      "Simulation-Based Edit Distance Matching computation time taken:  0.145889  seconds\n",
      "RANDOM SAMPLE MIN MATCHING\n",
      "Performing random sample match (edit distance)...\n",
      "Simulation-Based Edit Distance Matching computation time taken:  0.038142  seconds\n"
     ]
    }
   ],
   "source": [
    "# MAX MATCHING\n",
    "print(\"RANDOM SAMPLE MAX MATCHING\")\n",
    "print('Performing random sample match (edit distance)...')\n",
    "now = datetime.datetime.now()\n",
    "max_compare_sampled_edit_match = matcher.matcher_dup_updated(cat_table1_dup,cat_table2,editdistance.eval, matcher.random_sample, 0.09, sample_size)\n",
    "sim_time_edit = (datetime.datetime.now()-now).total_seconds()\n",
    "print(\"Simulation-Based Edit Distance Matching computation time taken: \", sim_time_edit, \" seconds\")\n",
    "#print('Random Sample Matcher (Edit Distance) Performance: ' + str(core.eval_matching(compare_all_edit_match)))\n",
    "\n",
    "# print('Performing random sample match (jaccard distance)...')\n",
    "# now = datetime.datetime.now()\n",
    "# max_compare_sampled_jaccard_match = matcher.matcher_dup_updated(cat_table1_dup,cat_table2,analyze.jaccard_calc, matcher.random_sample, 0.05, sample_size)\n",
    "# sim_time_jaccard = (datetime.datetime.now()-now).total_seconds()\n",
    "# print(\"Simulation-Based Jaccard Matching computation time taken: \", sim_time_jaccard, \" seconds\", \"\\n\")\n",
    "#print('Random Sample Matcher (Jaccard Distance) Performance: ' + str(core.eval_matching(compare_all_jaccard_match)))\n",
    "\n",
    "\n",
    "# MIN MATCHING\n",
    "print(\"RANDOM SAMPLE MIN MATCHING\")\n",
    "print('Performing random sample match (edit distance)...')\n",
    "now = datetime.datetime.now()\n",
    "min_compare_sampled_edit_match = matcher.matcher_updated(cat_table1,cat_table2,editdistance.eval, matcher.random_sample, 0.09, sample_size)\n",
    "sim_time_edit = (datetime.datetime.now()-now).total_seconds()\n",
    "print(\"Simulation-Based Edit Distance Matching computation time taken: \", sim_time_edit, \" seconds\")\n",
    "#print('Random Sample Matcher (Edit Distance) Performance: ' + str(core.eval_matching(compare_all_edit_match)))\n",
    "\n",
    "# print('Performing random sample match (jaccard distance)...')\n",
    "# now = datetime.datetime.now()\n",
    "# min_compare_sampled_jaccard_match = matcher.matcher_updated(cat_table1,cat_table2,analyze.jaccard_calc, matcher.random_sample, 0.5, sample_size)\n",
    "# sim_time_jaccard = (datetime.datetime.now()-now).total_seconds()\n",
    "# print(\"Simulation-Based Jaccard Matching computation time taken: \", sim_time_jaccard, \" seconds\")\n",
    "#print('Random Sample Matcher (Jaccard Distance) Performance: ' + str(core.eval_matching(compare_all_jaccard_match)))"
   ]
  },
  {
   "cell_type": "code",
   "execution_count": 13,
   "metadata": {},
   "outputs": [
    {
     "name": "stdout",
     "output_type": "stream",
     "text": [
      "MAX Matching Bound:\n",
      "BP Matching:  1086.0\n",
      "NAIVE Matching:  9909\n",
      "SAMPLED Matching:  4982 \n",
      "\n",
      "MIN Matching Bound:\n",
      "BP Matching:  689.0\n",
      "NAIVE Matching:  3303\n",
      "SAMPLED Matching:  1567 \n",
      "\n"
     ]
    }
   ],
   "source": [
    "naive_total_max = sum_total_weights(max_compare_all_edit_match)\n",
    "sampled_total_max = sum_total_weights(max_compare_sampled_edit_match)\n",
    "bp_total_max = sum_total_weights(out_max)\n",
    "\n",
    "\n",
    "print(\"MAX Matching Bound:\")\n",
    "print(\"BP Matching: \", total_max)\n",
    "print(\"NAIVE Matching: \", naive_total_max)\n",
    "print(\"SAMPLED Matching: \", sampled_total_max, \"\\n\")\n",
    "\n",
    "naive_total_min = sum_total_weights(min_compare_all_edit_match)\n",
    "sampled_total_min = sum_total_weights(min_compare_sampled_edit_match)\n",
    "bp_total_min = sum_total_weights(out_min)\n",
    "\n",
    "\n",
    "print(\"MIN Matching Bound:\")\n",
    "print(\"BP Matching: \", total_min)\n",
    "print(\"NAIVE Matching: \", naive_total_min)\n",
    "print(\"SAMPLED Matching: \", sampled_total_min, \"\\n\")"
   ]
  },
  {
   "cell_type": "code",
   "execution_count": 14,
   "metadata": {},
   "outputs": [],
   "source": [
    "# print(max_compare_all_edit_match)\n",
    "\n",
    "# print(table_a_non_duplicated)\n",
    "# print(table_b)\n",
    "# print(min_compare_all_edit_match)"
   ]
  },
  {
   "cell_type": "markdown",
   "metadata": {},
   "source": [
    "## Formal Output of Experiment Matches (Naive and Random Sampling)"
   ]
  },
  {
   "cell_type": "code",
   "execution_count": 15,
   "metadata": {},
   "outputs": [],
   "source": [
    "def formatted_output_other(out_max, out_min):\n",
    "    out_dict = {}\n",
    "    for (val1,val2, weight) in out_min:\n",
    "        splitted1 = val1.split(\"_\")\n",
    "        if splitted1[0] in out_dict:\n",
    "            out_dict[splitted1[0]].append((val2, \"min\", weight))\n",
    "        else:\n",
    "            out_dict[splitted1[0]] = [(val2, \"min\", weight)]\n",
    "\n",
    "    for (val1,val2, weight) in out_max:\n",
    "        splitted1 = val1.split(\"_\")\n",
    "        if splitted1[0] in out_dict:\n",
    "            out_dict[splitted1[0]].append((val2, \"min\", weight))\n",
    "        else:\n",
    "            out_dict[splitted1[0]] = [(val2, \"min\", weight)]\n",
    "\n",
    "    return out_dict"
   ]
  },
  {
   "cell_type": "code",
   "execution_count": 16,
   "metadata": {},
   "outputs": [],
   "source": [
    "form_output_all = formatted_output_other(max_compare_all_edit_match,min_compare_all_edit_match)\n",
    "form_output_sampled = formatted_output_other(max_compare_sampled_edit_match,min_compare_sampled_edit_match)"
   ]
  },
  {
   "cell_type": "code",
   "execution_count": 17,
   "metadata": {
    "scrolled": true
   },
   "outputs": [],
   "source": [
    "# for i in form_output_all.items():\n",
    "#     print(i, \"\\n\\n\")"
   ]
  },
  {
   "cell_type": "markdown",
   "metadata": {},
   "source": [
    "## Results for \"COUNT\""
   ]
  },
  {
   "cell_type": "code",
   "execution_count": 18,
   "metadata": {},
   "outputs": [],
   "source": [
    "# Count all the matched people whose age is above 30.\n",
    "def count_filter_condition(filter_condition, bip_graph):\n",
    "    record_edges_to_delete = []\n",
    "    \n",
    "    for u,v,d in bip_graph.edges(data=True):\n",
    "        val_tuple_1 = u.split(\"_\")\n",
    "        val_tuple_2 = v.split(\"_\")\n",
    "        \n",
    "        if len(val_tuple_1) == 4:\n",
    "            val1 = re.sub(\"[^0-9]\", \"\", val_tuple_1[2])\n",
    "        else: \n",
    "            val1 = re.sub(\"[^0-9]\", \"\", val_tuple_1[1])\n",
    "            \n",
    "        if len(val_tuple_2) == 4:\n",
    "            val2 =re.sub(\"[^0-9]\", \"\", val_tuple_2[2])\n",
    "        else:\n",
    "            val2 =re.sub(\"[^0-9]\", \"\", val_tuple_2[1])\n",
    "            \n",
    "        sum_vals = float(val1) + float(val2)\n",
    "            \n",
    "        if float(val1) < filter_condition or float(val2) < filter_condition or sum_vals < filter_condition:\n",
    "            # record_edges_to_delete.append((u,v))\n",
    "            d['weight'] = 0\n",
    "        else:\n",
    "            d['weight'] = sum_vals\n",
    "            \n",
    "    for i,j in record_edges_to_delete:\n",
    "        bip_graph.remove_edge(i,j)\n",
    "\n",
    "    return bip_graph"
   ]
  },
  {
   "cell_type": "code",
   "execution_count": 19,
   "metadata": {
    "scrolled": true
   },
   "outputs": [
    {
     "name": "stdout",
     "output_type": "stream",
     "text": [
      "('Jacqueline Chan', [('Jacqueline Simsc', 'min', 0), ('Jacqueline SimsSG', 'min', 8.0)])\n",
      "('Caroline Lane', [('Jacqueline ChanpSE', 'min', 0), ('Caroline LanerDH', 'min', 0)])\n",
      "('Kimberly Nielsen', [('Kimberly NielsengnG', 'min', 0)])\n",
      "('Alex Wallace', [('Valerie Paulhun', 'min', 10.0), ('Adam WilliamsYSb', 'min', 12.0)])\n",
      "('Julia Bell', [('Julie ObrienApc', 'min', 0)])\n",
      "('Hannah Brooks', [('Zachary BrownXHw', 'min', 0)])\n",
      "('Stephen Chang', [('Stephanie Brownpcf', 'min', 6.0), ('Stephen ChanglRy', 'min', 7.0)])\n",
      "('Anna Woods', [('Hannah BrooksCww', 'min', 0)])\n",
      "('Sarah Garcia', [('Lisa GarzaROM', 'min', 0)])\n",
      "('Cynthia Chang', [('Cynthia GibsontKf', 'min', 0), ('Cynthia ChangmEr', 'max', 16.0)])\n",
      "('Chad Turner', [('Cynthia ChangmEr', 'min', 0), ('Meghan Mooredrn', 'min', 0)])\n",
      "('Wendy Vasquez', [('Wendy VasquezzkX', 'min', 0)])\n",
      "('Taylor Scott', [('Emily RushOJA', 'min', 0), ('Taylor ScottccC', 'min', 0)])\n",
      "('Kelly Carroll', [('Wesley Davisrpt', 'min', 0)])\n",
      "('Matthew Davila', [('Matthew DavilaKGn', 'min', 0), ('Matthew May PhDLqq', 'min', 0)])\n",
      "('Wesley Davis', [('Gregory DavisLgh', 'min', 0)])\n",
      "('Matthew May PhD', [('Matthew Johnsonsbl', 'min', 0), ('Matthew DavilaKGn', 'max', 16.0), ('Matthew May PhDLqq', 'max', 15.0)])\n",
      "('Denise Bernard DDS', [('Denise Bernard DDSMua', 'min', 0)])\n",
      "('Edward Russell', [('Edward RussellotG', 'min', 0)])\n",
      "('Jessica Chambers', [('Jessica ChambersqxH', 'min', 0)])\n",
      "('Lisa Weaver', [('Diana PinedaSYo', 'min', 0), ('Anna WoodsHCv', 'min', 0)])\n",
      "('Patricia Dixon', [('Sarah DixonKke', 'min', 0)])\n",
      "('Ricky Burns', [('Ricky BurnsPdv', 'min', 0)])\n",
      "('Julie Obrien', [('Kim OrtizBLG', 'min', 0)])\n",
      "('Lisa Meyer', [('Tina MendozagsX', 'min', 0)])\n",
      "('Melissa Ward', [('Lisa MeyeroMa', 'min', 0), ('Mary SalinasDQQ', 'min', 0)])\n",
      "('Donald Lopez', [('Donald LopezAnn', 'min', 0), ('Todd CohenfPt', 'min', 0)])\n",
      "('Lisa Garza', [('Lisa FinleyaXI', 'min', 0), ('Lisa WeaverLWV', 'min', 0)])\n",
      "('Jeanette Mcneil', [('Jeanette McneilIxS', 'min', 13.0), ('Jeanette McneilIxS', 'max', 13.0)])\n",
      "('Robert Green', [('Robert Greenrdl', 'min', 12.0)])\n",
      "('Nichole Morrison', [('Michele GreerURc', 'min', 0), ('Michael PerrykZb', 'min', 0), ('Nichole MorrisonVMo', 'min', 0)])\n",
      "('Amanda Maxwell', [('Amanda MaxwellMKI', 'min', 8.0), ('Amanda MaxwellMKI', 'max', 8.0)])\n",
      "('Jonathan Jordan', [('Jonathan JordannaI', 'min', 8.0), ('Jonathan JordannaI', 'max', 8.0)])\n",
      "('Sarah Dixon', [('Patricia DixonOHY', 'min', 0)])\n",
      "('Lauren Oconnor', [('Kevin MoranQoU', 'min', 0), ('Lauren OconnorYBz', 'min', 0), ('Daniel JohnsonFoR', 'min', 0)])\n",
      "('Sean Mccann', [('Susan MillerXij', 'min', 0)])\n",
      "('Lisa Finley', [('Kylie Hansenloz', 'min', 0), ('Lisa WeaverLWV', 'max', 11.0)])\n",
      "('Ebony Larsen', [('Kelly CarrollSdN', 'min', 0)])\n",
      "('Willie Watson', [('Willie WatsonYai', 'min', 0), ('Melissa WardsuF', 'max', 13.0), ('William MolinavKn', 'max', 14.0), ('William WallaceVFE', 'max', 11.0)])\n",
      "('Emily Rush', [('Ebony LarsenthP', 'min', 0), ('Melissa WardsuF', 'min', 0)])\n",
      "('Justin Mills', [('Julia BelltLe', 'min', 0)])\n",
      "('Thomas Mata', [('Thomas Matanhb', 'min', 0)])\n",
      "('Chris Smith', [('Chris SmithkVR', 'min', 0)])\n",
      "('Randall Murray', [('Randall MurrayYpt', 'min', 0), ('Tonya MurrayOXB', 'min', 0)])\n",
      "('Michele Greer', [('Michelle BeckerHLo', 'min', 0), ('Robert Greenrdl', 'max', 16.0), ('Michael OrtizbAb', 'max', 13.0)])\n",
      "('Michael Ortiz', [('Michael OrtizbAb', 'min', 9.0)])\n",
      "('Scott Black', [('Scott BlackHvy', 'min', 0)])\n",
      "('Susan Miller', [('Justin MillsAKK', 'min', 0)])\n",
      "('Susan Brewer DDS', [('Susan Brewer DDStoG', 'min', 0)])\n",
      "('Janice Patterson', [('Janice PattersonyYC', 'min', 15.0), ('Janice PattersonyYC', 'max', 15.0)])\n",
      "('Selena Washington', [('Selena WashingtonHuh', 'min', 6.0), ('Selena WashingtonHuh', 'max', 6.0)])\n",
      "('Todd Cohen', [('Todd CarterdBy', 'min', 0), ('Scott BlackHvy', 'max', 11.0)])\n",
      "('Mark Rodriguez', [('Marc ShermanvSk', 'min', 0), ('Mark RodriguezpPE', 'min', 0)])\n",
      "('Mary Salinas', [('Mary NicholsiOy', 'min', 0)])\n",
      "('Christopher Mccoy', [('Christopher Mccoyxub', 'min', 0)])\n",
      "('Reginald Hicks', [('Reginald HicksPjz', 'min', 0)])\n",
      "('William Wallace', [('William MolinavKn', 'min', 0), ('William WallaceVFE', 'min', 0)])\n",
      "('Alexandra Ruiz', [('Melissa RuizMRe', 'min', 0), ('Alexandra RuizvXP', 'min', 0)])\n",
      "('Melissa Ruiz', [('Melissa JohnsonBvz', 'min', 0)])\n",
      "('Christine Hughes', [('Christine Hughesvbm', 'min', 0)])\n",
      "('Andrew Taylor', [('Andrew TaylorURi', 'min', 14.0), ('Andrew TaylorURi', 'max', 14.0)])\n",
      "('Kevin Moran', [('Sean MccannYUU', 'min', 0), ('Justin MillsAKK', 'max', 16.0)])\n",
      "('Rachel Fernandez', [('Rachel FernandezRBN', 'min', 12.0), ('Ricky BurnsPdv', 'max', 16.0), ('Michael PerrykZb', 'max', 16.0), ('Rachel FernandezRBN', 'max', 12.0)])\n",
      "('Anthony Holmes', [('Anthony HolmesZAp', 'min', 0)])\n",
      "('Yvonne Rios', [('Yvonne RiosFZg', 'min', 0), ('Kevin MoranQoU', 'max', 11.0), ('Anna WoodsHCv', 'max', 15.0)])\n",
      "('James Henderson', [('James ArnoldGdB', 'min', 16.0), ('James HendersonUdZ', 'min', 13.0), ('James HendersonUdZ', 'max', 13.0)])\n",
      "('Adam Williams', [('Alex WallaceSWu', 'min', 0), ('Adam WilliamsYSb', 'max', 12.0)])\n",
      "('Kristina Patterson DDS', [('Kristina Patterson DDSVlQ', 'min', 0)])\n",
      "('Ashley Gardner', [('Ashley GardneryQS', 'min', 0)])\n",
      "('Todd Carter', [('Chad TurnerBvW', 'min', 0)])\n",
      "('Samuel Mathis', [('Samuel MathisqVb', 'min', 0)])\n",
      "('Brittany Stewart', [('Brittany StewartwYX', 'min', 8.0), ('Brittany StewartwYX', 'max', 8.0)])\n",
      "('Heather Harrison', [('Heather HarrisonKye', 'min', 8.0), ('Heather HarrisonKye', 'max', 8.0)])\n",
      "('Victoria Lewis', [('Victoria LewisayX', 'min', 16.0), ('Victoria LewisayX', 'max', 16.0)])\n",
      "('Seth Pearson', [('Seth PearsontUP', 'min', 12.0), ('Seth PearsontUP', 'max', 12.0)])\n",
      "('Adrienne Mclaughlin', [('Adrienne MclaughlinYTd', 'min', 12.0), ('Adrienne MclaughlinYTd', 'max', 12.0)])\n",
      "('Mariah Thomas', [('Mariah Thomasjur', 'min', 0), ('Hannah BrooksCww', 'max', 14.0), ('Emily RushOJA', 'max', 16.0), ('Mary NicholsiOy', 'max', 16.0)])\n",
      "('Brandon Mccall DVM', [('Brandon Mccall DVMIVY', 'min', 0)])\n",
      "('Richard Gonzalez', [('Richard Gonzalezjew', 'min', 0)])\n",
      "('Jacqueline Sims', [('Jacqueline SimsSG', 'max', 10.0)])\n",
      "('Kylie Hansen', [('Jacqueline ChanpSE', 'max', 16.0), ('Ebony LarsenthP', 'max', 16.0), ('Caroline LanerDH', 'max', 14.0)])\n",
      "('Valerie Paul', [('Valerie Paulhun', 'max', 16.0)])\n",
      "('Stephanie Brown', [('Stephanie Brownpcf', 'max', 11.0), ('Stephen ChanglRy', 'max', 12.0)])\n",
      "('Diana Pineda', [('Donald LopezAnn', 'max', 11.0), ('Diana PinedaSYo', 'max', 15.0), ('Lisa FinleyaXI', 'max', 16.0)])\n",
      "('Mary Nichols', [('Sarah DixonKke', 'max', 16.0), ('Chris SmithkVR', 'max', 16.0), ('Mary SalinasDQQ', 'max', 16.0)])\n",
      "('Marc Sherman', [('Lisa MeyeroMa', 'max', 15.0), ('Marc ShermanvSk', 'max', 11.0), ('Todd CohenfPt', 'max', 13.0)])\n",
      "('Michael Perry', [('Michele GreerURc', 'max', 16.0), ('Meghan Mooredrn', 'max', 12.0)])\n",
      "('Melissa Johnson', [('Daniel JohnsonFoR', 'max', 15.0), ('Melissa RuizMRe', 'max', 17.0), ('Melissa JohnsonBvz', 'max', 11.0)])\n",
      "('James Arnold', [('Kelly CarrollSdN', 'max', 14.0), ('Thomas Matanhb', 'max', 16.0), ('James ArnoldGdB', 'max', 17.0)])\n",
      "('Tonya Murray', [('Randall MurrayYpt', 'max', 10.0), ('Tonya MurrayOXB', 'max', 12.0)])\n",
      "('Daniel Johnson', [('Samuel MathisqVb', 'max', 15.0)])\n"
     ]
    }
   ],
   "source": [
    "count_edited_bip_graph = count_filter_condition(3, bipartite_graph_result)\n",
    "#count_edited_bip_graph = one_to_n.COUNT_edit_edge_weight(bipartite_graph_result)\n",
    "\n",
    "# Maximum matching for Count\n",
    "count_matching_set_maximal = nx.algorithms.matching.max_weight_matching(count_edited_bip_graph)\n",
    "\n",
    "# Minimum matching for Count\n",
    "count_matching_set_minimal = minimal_matching(count_edited_bip_graph)\n",
    "\n",
    "out_max_count = fetch_sum(count_edited_bip_graph, count_matching_set_maximal)\n",
    "out_min_count = fetch_sum(count_edited_bip_graph, count_matching_set_minimal)\n",
    "form_output_count = formatted_output(out_max_count,out_min_count)\n",
    "\n",
    "# print(form_output_count)\n",
    "for i in form_output_count.items():\n",
    "    print(i)"
   ]
  },
  {
   "cell_type": "code",
   "execution_count": 20,
   "metadata": {},
   "outputs": [],
   "source": [
    "def experiment_filter_count(filter_condition, matching_list):\n",
    "    to_keep_list = []\n",
    "    for (i,j,k) in matching_list:\n",
    "        if int(k) >= filter_condition:\n",
    "            to_keep_list.append((i,j,k))\n",
    "        else:\n",
    "            continue\n",
    "    return to_keep_list\n",
    "\n",
    "# create a dummy edge that has 0 weight\n",
    "        "
   ]
  },
  {
   "cell_type": "code",
   "execution_count": 21,
   "metadata": {},
   "outputs": [
    {
     "name": "stdout",
     "output_type": "stream",
     "text": [
      "BP Matching: Highest bound for maximum: 792.0\n",
      "BP Matching: Lowest bound for minimum: 225.0 \n",
      "\n",
      "MAX Count of Matches:\n",
      "BP Matching Count: 792.0\n",
      "NAIVE Matching Count:  3258\n",
      "SAMPLED Matching Count: 1540 \n",
      "\n",
      "MIN Count of Matches:\n",
      "BP Matching Count: 225.0\n",
      "NAIVE Matching Count:  9774\n",
      "SAMPLED Matching Count: 4907 \n",
      "\n"
     ]
    }
   ],
   "source": [
    "total_max_count = sum_total_weights(out_max_count)\n",
    "print(\"BP Matching: Highest bound for maximum:\", total_max_count)\n",
    "\n",
    "total_min_count = sum_total_weights(out_min_count)\n",
    "print(\"BP Matching: Lowest bound for minimum:\", total_min_count, \"\\n\")\n",
    "\n",
    "\n",
    "# Apply predicate constraint to count for min matching\n",
    "filtered_naive_max = experiment_filter_count(3, min_compare_all_edit_match)\n",
    "filtered_sampled_max = experiment_filter_count(3, min_compare_sampled_edit_match)\n",
    "\n",
    "naive_total_max_count = sum_total_weights(filtered_naive_max)\n",
    "sampled_total_max_count = sum_total_weights(filtered_sampled_max)\n",
    "\n",
    "print(\"MAX Count of Matches:\")\n",
    "print(\"BP Matching Count:\", total_max_count)\n",
    "print(\"NAIVE Matching Count: \", naive_total_max_count)\n",
    "print(\"SAMPLED Matching Count:\", sampled_total_max_count, \"\\n\")\n",
    "\n",
    "# Apply predicate constraint to count for max matching\n",
    "filtered_naive_min = experiment_filter_count(3, max_compare_all_edit_match)\n",
    "filtered_sampled_min = experiment_filter_count(3, max_compare_sampled_edit_match)\n",
    "\n",
    "naive_total_min_count = sum_total_weights(filtered_naive_min)\n",
    "sampled_total_min_count = sum_total_weights(filtered_sampled_min)\n",
    "\n",
    "print(\"MIN Count of Matches:\")\n",
    "print(\"BP Matching Count:\", total_min_count)\n",
    "print(\"NAIVE Matching Count: \", naive_total_min_count)\n",
    "print(\"SAMPLED Matching Count:\", sampled_total_min_count, \"\\n\")"
   ]
  },
  {
   "cell_type": "markdown",
   "metadata": {},
   "source": [
    "### Filter Naive Matching Results"
   ]
  },
  {
   "cell_type": "code",
   "execution_count": 22,
   "metadata": {},
   "outputs": [],
   "source": [
    "data_lookup = matcher.create_lookup(cat_table1_dup,cat_table2, 'name', 'age')\n",
    "\n",
    "max_all_filtered_res = matcher.filter_results(data_lookup, 15.0, max_compare_all_edit_match)\n",
    "min_all_filtered_res = matcher.filter_results(data_lookup, 15.0, min_compare_all_edit_match)\n",
    "\n",
    "max_sampled_filtered_res = matcher.filter_results(data_lookup, 15.0, max_compare_sampled_edit_match)\n",
    "min_sampled_filtered_res = matcher.filter_results(data_lookup, 15.0, min_compare_sampled_edit_match)\n",
    "\n",
    "naive_total_max_count = sum_total_weights(filtered_naive_max)\n",
    "sampled_total_max_count = sum_total_weights(filtered_sampled_max)"
   ]
  },
  {
   "cell_type": "code",
   "execution_count": 29,
   "metadata": {},
   "outputs": [
    {
     "name": "stdout",
     "output_type": "stream",
     "text": [
      "Naive Max Matching for COUNT, Filtered According to Age Threshold:  1134\n",
      "Naive Min Matching for COUNT, Filtered According to Age Threshold:  378\n",
      "Random Sampling Max Matching for COUNT, Filtered According to Age Threshold:  568\n",
      "Random Sampling Min Matching for COUNT, Filtered According to Age Threshold:  185\n"
     ]
    }
   ],
   "source": [
    "print(\"Naive Max Matching for COUNT, Filtered According to Age Threshold: \",len(max_all_filtered_res))\n",
    "print(\"Naive Min Matching for COUNT, Filtered According to Age Threshold: \",len(min_all_filtered_res))\n",
    "\n",
    "print(\"Random Sampling Max Matching for COUNT, Filtered According to Age Threshold: \", len(max_sampled_filtered_res))\n",
    "print(\"Random Sampling Min Matching for COUNT, Filtered According to Age Threshold: \", len(min_sampled_filtered_res))"
   ]
  },
  {
   "cell_type": "code",
   "execution_count": null,
   "metadata": {},
   "outputs": [],
   "source": []
  },
  {
   "cell_type": "code",
   "execution_count": null,
   "metadata": {},
   "outputs": [],
   "source": []
  }
 ],
 "metadata": {
  "kernelspec": {
   "display_name": "Python 3",
   "language": "python",
   "name": "python3"
  },
  "language_info": {
   "codemirror_mode": {
    "name": "ipython",
    "version": 3
   },
   "file_extension": ".py",
   "mimetype": "text/x-python",
   "name": "python",
   "nbconvert_exporter": "python",
   "pygments_lexer": "ipython3",
   "version": "3.7.6"
  }
 },
 "nbformat": 4,
 "nbformat_minor": 4
}
