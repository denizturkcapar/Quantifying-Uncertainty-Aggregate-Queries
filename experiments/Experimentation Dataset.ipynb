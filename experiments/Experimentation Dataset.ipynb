{
 "cells": [
  {
   "cell_type": "markdown",
   "metadata": {},
   "source": [
    "# Experiments Using Synthetic Dataset"
   ]
  },
  {
   "cell_type": "code",
   "execution_count": 1,
   "metadata": {},
   "outputs": [],
   "source": [
    "import sys\n",
    "from os import path\n",
    "sys.path.insert(0, '../src')\n",
    "import one_to_n\n",
    "sys.path.insert(0, '../tests')\n",
    "import create_synthetic_dataset\n",
    "import datetime\n",
    "import textdistance\n",
    "import editdistance\n",
    "import pandas as pd\n",
    "import networkx as nx\n",
    "import re"
   ]
  },
  {
   "cell_type": "code",
   "execution_count": 2,
   "metadata": {},
   "outputs": [
    {
     "name": "stdout",
     "output_type": "stream",
     "text": [
      "---- Timing for Graph Construction with Treshold Constraint ----\n",
      "0.009145 seconds\n"
     ]
    }
   ],
   "source": [
    "table_a = create_synthetic_dataset.create_first_df(10)\n",
    "\n",
    "table_b_non_typo = create_synthetic_dataset.create_second_df(10)\n",
    "\n",
    "table_b = create_synthetic_dataset.add_typo(table_a, table_b_non_typo)\n",
    "\n",
    "print(table_a)\n",
    "print(table_b)\n",
    "\n",
    "now = datetime.datetime.now()\n",
    "bipartite_graph_result = one_to_n.keycomp_treshold_updated_maximal_construct_graph(table_a, table_b, \"name\", 0.5)\n",
    "timing_tresh = (datetime.datetime.now()-now).total_seconds()\n",
    "print(\"---- Timing for Graph Construction with Treshold Constraint ----\")\n",
    "print(timing_tresh,\"seconds\")"
   ]
  },
  {
   "cell_type": "code",
   "execution_count": 3,
   "metadata": {},
   "outputs": [],
   "source": [
    "def SUM_edit_edge_weight(bip_graph):\n",
    "    for u,v,d in bip_graph.edges(data=True):\n",
    "        val_tuple_1 = u.split(\"_\")\n",
    "        val_tuple_2 = v.split(\"_\")\n",
    "        \n",
    "        val1 = re.sub(\"[^0-9]\", \"\", val_tuple_1[2])\n",
    "        val2 =re.sub(\"[^0-9]\", \"\", val_tuple_2[2])\n",
    "\n",
    "        d['weight'] = float(val1) + float(val2)\n",
    "\n",
    "    return bip_graph\n",
    "\n",
    "sum_weighted_graph = SUM_edit_edge_weight(bipartite_graph_result)"
   ]
  },
  {
   "cell_type": "markdown",
   "metadata": {},
   "source": [
    "## Maximal Matching"
   ]
  },
  {
   "cell_type": "code",
   "execution_count": 7,
   "metadata": {},
   "outputs": [
    {
     "name": "stdout",
     "output_type": "stream",
     "text": [
      "\n",
      "\n",
      " 'SUM' MAXIMAL MATCHING:\n",
      "The Maximal Matching Set is: {('Kenneth ThompsonxtX_(2,)_2_', 'Mario Guzman_0_(8,)_1'), ('Amber Vasquez_1_(8,)_1', 'Colleen WaltersqLf_(8,)_2_'), ('Colleen Walters_0_(6,)_1', 'Tina MooneyM_(4,)_2_'), ('Mario GuzmanAJu_(2,)_2_', 'Nicholas Haynes_1_(7,)_1'), ('Mario Guzman_2_(8,)_1', 'Tina MooneyCj_(4,)_2_'), ('Mario Guzman_1_(8,)_1', 'Christopher FisherXZg_(7,)_2_'), ('Douglas BrockIKw_(7,)_2_', 'Amber Vasquez_0_(8,)_1'), ('Nicholas Haynes_0_(7,)_1', 'Jonathan ChaseNTS_(1,)_2_'), ('Nicholas Haynes_2_(7,)_1', 'Keith MayergyU_(0,)_2_'), ('Amber Vasquez_2_(8,)_1', 'Nicholas HaynesuBR_(1,)_2_')} \n",
      "\n",
      "---- Timing for Matching (Done on the graph constructed with the treshold constraint) ----\n",
      "0.008359 seconds\n",
      "The number of edges in the graph is: 300 \n",
      "\n"
     ]
    }
   ],
   "source": [
    "print(\"\\n\\n 'SUM' MAXIMAL MATCHING:\")\n",
    "now = datetime.datetime.now()\n",
    "matching_set_maximal = nx.algorithms.matching.max_weight_matching(sum_weighted_graph)\n",
    "timing_match = (datetime.datetime.now()-now).total_seconds()\n",
    "print(\"The Maximal Matching Set is:\", matching_set_maximal, \"\\n\")\n",
    "print(\"---- Timing for Matching (Done on the graph constructed with the treshold constraint) ----\")\n",
    "print(timing_match,\"seconds\")\n",
    "print(\"The number of edges in the graph is:\", sum_weighted_graph.number_of_edges(), \"\\n\")\n",
    "\n",
    "\n",
    "# print(\"The Maximal Matching Set is:\", matching_set_maximal, \"\\n\")"
   ]
  },
  {
   "cell_type": "markdown",
   "metadata": {},
   "source": [
    "## Minimal Matching"
   ]
  },
  {
   "cell_type": "code",
   "execution_count": 5,
   "metadata": {},
   "outputs": [],
   "source": [
    "def minimal_matching(sum_weighted_graph):\n",
    "\n",
    "    new_graph = sum_weighted_graph.copy()\n",
    "    max_weight = max([d['weight'] for u,v,d in new_graph.edges(data=True)])\n",
    "    for u,v,d in new_graph.edges(data=True):\n",
    "        d['weight'] = max_weight - d['weight']\n",
    "\n",
    "    matching_set_minimal = nx.algorithms.matching.max_weight_matching(new_graph)\n",
    "    return matching_set_minimal"
   ]
  },
  {
   "cell_type": "code",
   "execution_count": 6,
   "metadata": {},
   "outputs": [
    {
     "name": "stdout",
     "output_type": "stream",
     "text": [
      "\n",
      "\n",
      " 'SUM' MINIMAL MATCHING RESULTS:\n",
      "True\n",
      "The Minimal Matching Set is: {('Nicholas HaynesuBR_(1,)_2_', 'Keith Mayer_2_(1,)_1'), ('Colleen WaltersqLf_(8,)_2_', 'Keith Mayer_0_(1,)_1'), ('Keith Mayer_1_(1,)_1', 'Tina MooneyCj_(4,)_2_'), ('Jonathan Chase_2_(2,)_1', 'Christopher FisherXZg_(7,)_2_'), ('Jonathan Chase_0_(2,)_1', 'Mario GuzmanAJu_(2,)_2_'), ('Tina MooneyM_(4,)_2_', 'Christopher Fisher_0_(3,)_1'), ('Kenneth Thompson_1_(2,)_1', 'Keith MayergyU_(0,)_2_'), ('Jonathan ChaseNTS_(1,)_2_', 'Kenneth Thompson_0_(2,)_1'), ('Kenneth ThompsonxtX_(2,)_2_', 'Jonathan Chase_1_(2,)_1'), ('Douglas BrockIKw_(7,)_2_', 'Kenneth Thompson_2_(2,)_1')} \n",
      "\n",
      "---- Timing for Matching (Done on the graph constructed with the treshold constraint) ----\n",
      "0.010139 seconds\n",
      "The number of edges in the graph is: 300 \n",
      "\n"
     ]
    }
   ],
   "source": [
    "print(\"\\n\\n 'SUM' MINIMAL MATCHING RESULTS:\")\n",
    "print(nx.bipartite.is_bipartite(sum_weighted_graph))\n",
    "now = datetime.datetime.now()\n",
    "matching_set_minimal = minimal_matching(sum_weighted_graph)\n",
    "timing_match = (datetime.datetime.now()-now).total_seconds()\n",
    "print(\"The Minimal Matching Set is:\", matching_set_minimal, \"\\n\")\n",
    "print(\"---- Timing for Matching (Done on the graph constructed with the treshold constraint) ----\")\n",
    "print(timing_match,\"seconds\")\n",
    "print(\"The number of edges in the graph is:\", sum_weighted_graph.number_of_edges(), \"\\n\")"
   ]
  },
  {
   "cell_type": "code",
   "execution_count": null,
   "metadata": {},
   "outputs": [],
   "source": []
  }
 ],
 "metadata": {
  "kernelspec": {
   "display_name": "Python 3",
   "language": "python",
   "name": "python3"
  },
  "language_info": {
   "codemirror_mode": {
    "name": "ipython",
    "version": 3
   },
   "file_extension": ".py",
   "mimetype": "text/x-python",
   "name": "python",
   "nbconvert_exporter": "python",
   "pygments_lexer": "ipython3",
   "version": "3.7.6"
  }
 },
 "nbformat": 4,
 "nbformat_minor": 4
}
