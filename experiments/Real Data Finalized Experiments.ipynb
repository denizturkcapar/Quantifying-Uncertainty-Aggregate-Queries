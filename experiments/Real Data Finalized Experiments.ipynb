{
 "cells": [
  {
   "cell_type": "code",
   "execution_count": 1,
   "metadata": {},
   "outputs": [],
   "source": [
    "import experiment_funcs\n",
    "import experiment_visualizer\n",
    "import sum_real_data_exp_funcs\n",
    "import count_real_data_exp_funcs\n",
    "import sum_abt_buy_funcs"
   ]
  },
  {
   "cell_type": "markdown",
   "metadata": {},
   "source": [
    "# Real Data Finalized Experiments "
   ]
  },
  {
   "cell_type": "markdown",
   "metadata": {},
   "source": [
    "- The perfect mapping datasets are modified to reflect 1-n matching."
   ]
  },
  {
   "cell_type": "markdown",
   "metadata": {},
   "source": [
    "#### Amazon - Google Experiments"
   ]
  },
  {
   "cell_type": "markdown",
   "metadata": {},
   "source": [
    "- SUM"
   ]
  },
  {
   "cell_type": "markdown",
   "metadata": {},
   "source": [
    "Experiment 1: Max n= 2, Sim Threshold = 0.3"
   ]
  },
  {
   "cell_type": "code",
   "execution_count": null,
   "metadata": {},
   "outputs": [],
   "source": [
    "bp_sim = 0.5\n",
    "naive_sim = 0.5\n",
    "bp_n = 3\n",
    "naive_n = 3\n",
    "\n",
    "\n",
    "experiment_funcs.create_csv_table(\"result_example.csv\")\n",
    "table_a_non_duplicated, table_b, tables_map, data1_map, data2_map = sum_real_data_exp_funcs.data_to_df('../Amazon-GoogleProducts/Amazon.csv', '../Amazon-GoogleProducts/GoogleProducts.csv')\n",
    "\n",
    "result_perfmatch, joined_table, perf_match_dict = sum_real_data_exp_funcs.create_perfect_mapping('../Amazon-GoogleProducts/modified_perfect_mapping_google_amazon.csv', '../Amazon-GoogleProducts/Amazon.csv', '../Amazon-GoogleProducts/GoogleProducts.csv')\n",
    "\n",
    "# Find perfect matching sum outcome for evaluation of the model (NOTE: current 1-1 limitations.)\n",
    "perfect_mapping_sum_result = sum_real_data_exp_funcs.find_perfect_sum_result('../Amazon-GoogleProducts/modified_perfect_mapping_google_amazon.csv', '../Amazon-GoogleProducts/Amazon.csv', '../Amazon-GoogleProducts/GoogleProducts.csv')\n",
    "\n",
    "# Bipartite Matching Script\n",
    "total_max, total_min, bip_min_matching_time, bip_max_matching_time, out_max, out_min = sum_real_data_exp_funcs.realdata_sum_bip_script(table_a_non_duplicated, table_b, \"name\", bp_sim, bp_n, data1_map, data2_map)\n",
    "\n",
    "# Run Naive Matching Script\n",
    "naive_total_max, naive_total_min, naive_min_matching_time, naive_max_matching_time, naive_max, naive_min, res_naive_eval_max, res_naive_eval_min = sum_real_data_exp_funcs.realdata_sum_naive_script(naive_sim, '../Amazon-GoogleProducts/Amazon.csv', '../Amazon-GoogleProducts/GoogleProducts.csv', table_a_non_duplicated, naive_n, \"naive_dup\")\n",
    "\n",
    "# Run Accuracy Evaluation\n",
    "eval_records = sum_real_data_exp_funcs.full_evaluation(out_min, out_max, res_naive_eval_min, res_naive_eval_max, result_perfmatch, perf_match_dict)\n",
    "\n",
    "# Record Experiment Results\n",
    "experiment_funcs.table_csv_output(total_min, total_max, naive_total_min, naive_total_max, perfect_mapping_sum_result, result_filename, bip_min_matching_time, bip_max_matching_time, naive_min_matching_time, naive_max_matching_time, eval_records)\n"
   ]
  },
  {
   "cell_type": "code",
   "execution_count": null,
   "metadata": {},
   "outputs": [],
   "source": [
    "print(out_max)\n",
    "print(out_min)"
   ]
  },
  {
   "cell_type": "code",
   "execution_count": null,
   "metadata": {},
   "outputs": [],
   "source": [
    "print(naive_total_max)\n",
    "print(naive_total_min)"
   ]
  },
  {
   "cell_type": "code",
   "execution_count": null,
   "metadata": {},
   "outputs": [],
   "source": [
    "print(total_max)\n",
    "print(total_min)"
   ]
  },
  {
   "cell_type": "code",
   "execution_count": 2,
   "metadata": {},
   "outputs": [
    {
     "name": "stdout",
     "output_type": "stream",
     "text": [
      "Perf Matching Count:  1291\n",
      "2.27% complete\n",
      "4.55% complete\n",
      "6.82% complete\n",
      "9.1% complete\n",
      "11.37% complete\n",
      "13.65% complete\n",
      "15.92% complete\n",
      "18.19% complete\n",
      "20.47% complete\n",
      "22.74% complete\n",
      "25.02% complete\n",
      "27.29% complete\n",
      "29.57% complete\n",
      "31.84% complete\n",
      "34.11% complete\n",
      "36.39% complete\n",
      "38.66% complete\n",
      "40.94% complete\n",
      "43.21% complete\n",
      "45.49% complete\n",
      "47.76% complete\n",
      "50.03% complete\n",
      "52.31% complete\n",
      "54.58% complete\n",
      "56.86% complete\n",
      "59.13% complete\n",
      "61.4% complete\n",
      "63.68% complete\n",
      "65.95% complete\n",
      "68.23% complete\n",
      "70.5% complete\n",
      "72.78% complete\n",
      "75.05% complete\n",
      "77.32% complete\n",
      "79.6% complete\n",
      "81.87% complete\n",
      "84.15% complete\n",
      "86.42% complete\n",
      "88.7% complete\n",
      "90.97% complete\n",
      "93.24% complete\n",
      "95.52% complete\n",
      "97.79% complete\n",
      "100.07% complete\n",
      "102.34% complete\n",
      "104.62% complete\n",
      "106.89% complete\n",
      "109.16% complete\n",
      "111.44% complete\n",
      "113.71% complete\n",
      "115.99% complete\n",
      "118.26% complete\n",
      "120.54% complete\n",
      "122.81% complete\n",
      "125.08% complete\n",
      "127.36% complete\n",
      "129.63% complete\n",
      "131.91% complete\n",
      "134.18% complete\n",
      "136.46% complete\n",
      "138.73% complete\n",
      "141.0% complete\n",
      "143.28% complete\n",
      "145.55% complete\n",
      "147.83% complete\n",
      "150.1% complete\n",
      "152.38% complete\n",
      "154.65% complete\n",
      "156.92% complete\n",
      "159.2% complete\n",
      "161.47% complete\n",
      "163.75% complete\n",
      "166.02% complete\n",
      "168.3% complete\n",
      "170.57% complete\n",
      "172.84% complete\n",
      "175.12% complete\n",
      "177.39% complete\n",
      "179.67% complete\n",
      "181.94% complete\n",
      "184.21% complete\n",
      "186.49% complete\n",
      "188.76% complete\n",
      "191.04% complete\n",
      "193.31% complete\n",
      "195.59% complete\n",
      "197.86% complete\n",
      "200.13% complete\n",
      "202.41% complete\n",
      "204.68% complete\n",
      "206.96% complete\n",
      "209.23% complete\n",
      "211.51% complete\n",
      "213.78% complete\n",
      "216.05% complete\n",
      "218.33% complete\n",
      "220.6% complete\n",
      "222.88% complete\n",
      "225.15% complete\n",
      "227.43% complete\n",
      "229.7% complete\n",
      "231.97% complete\n",
      "234.25% complete\n",
      "236.52% complete\n",
      "238.8% complete\n",
      "241.07% complete\n",
      "243.35% complete\n",
      "245.62% complete\n",
      "247.89% complete\n",
      "250.17% complete\n",
      "252.44% complete\n",
      "254.72% complete\n",
      "256.99% complete\n",
      "259.27% complete\n",
      "261.54% complete\n",
      "263.81% complete\n",
      "266.09% complete\n",
      "268.36% complete\n",
      "270.64% complete\n",
      "272.91% complete\n",
      "275.19% complete\n",
      "277.46% complete\n",
      "279.73% complete\n",
      "282.01% complete\n",
      "284.28% complete\n",
      "286.56% complete\n",
      "288.83% complete\n",
      "291.11% complete\n",
      "293.38% complete\n",
      "295.65% complete\n",
      "297.93% complete\n",
      "300.2% complete\n",
      "302.48% complete\n",
      "304.75% complete\n",
      "307.02% complete\n",
      "309.3% complete\n",
      "311.57% complete\n",
      "313.85% complete\n",
      "316.12% complete\n",
      "318.4% complete\n",
      "320.67% complete\n",
      "322.94% complete\n",
      "325.22% complete\n",
      "327.49% complete\n",
      "329.77% complete\n",
      "332.04% complete\n",
      "334.32% complete\n",
      "336.59% complete\n",
      "338.86% complete\n",
      "341.14% complete\n",
      "343.41% complete\n",
      "345.69% complete\n",
      "347.96% complete\n",
      "350.24% complete\n",
      "352.51% complete\n",
      "354.78% complete\n",
      "357.06% complete\n",
      "359.33% complete\n",
      "361.61% complete\n",
      "363.88% complete\n",
      "366.16% complete\n",
      "368.43% complete\n",
      "370.7% complete\n",
      "372.98% complete\n",
      "375.25% complete\n",
      "377.53% complete\n",
      "379.8% complete\n",
      "382.08% complete\n",
      "384.35% complete\n",
      "386.62% complete\n",
      "388.9% complete\n",
      "391.17% complete\n",
      "393.45% complete\n",
      "395.72% complete\n",
      "398.0% complete\n",
      "400.27% complete\n",
      "402.54% complete\n",
      "404.82% complete\n",
      "407.09% complete\n",
      "409.37% complete\n",
      "411.64% complete\n",
      "413.92% complete\n",
      "416.19% complete\n",
      "418.46% complete\n",
      "420.74% complete\n",
      "423.01% complete\n",
      "425.29% complete\n",
      "427.56% complete\n",
      "429.83% complete\n",
      "432.11% complete\n",
      "434.38% complete\n",
      "436.66% complete\n",
      "438.93% complete\n",
      "441.21% complete\n",
      "443.48% complete\n",
      "445.75% complete\n",
      "448.03% complete\n",
      "450.3% complete\n",
      "452.58% complete\n",
      "454.85% complete\n",
      "457.13% complete\n",
      "459.4% complete\n",
      "461.67% complete\n",
      "2.27% complete\n",
      "4.55% complete\n",
      "6.82% complete\n",
      "9.1% complete\n",
      "11.37% complete\n",
      "13.65% complete\n",
      "15.92% complete\n",
      "18.19% complete\n",
      "20.47% complete\n",
      "22.74% complete\n",
      "25.02% complete\n",
      "27.29% complete\n",
      "29.57% complete\n",
      "31.84% complete\n",
      "34.11% complete\n",
      "36.39% complete\n",
      "38.66% complete\n",
      "40.94% complete\n",
      "43.21% complete\n",
      "45.49% complete\n",
      "47.76% complete\n",
      "50.03% complete\n",
      "52.31% complete\n",
      "54.58% complete\n",
      "56.86% complete\n",
      "59.13% complete\n",
      "61.4% complete\n",
      "63.68% complete\n",
      "65.95% complete\n",
      "68.23% complete\n",
      "70.5% complete\n",
      "72.78% complete\n",
      "75.05% complete\n",
      "77.32% complete\n",
      "79.6% complete\n",
      "81.87% complete\n",
      "84.15% complete\n",
      "86.42% complete\n",
      "88.7% complete\n",
      "90.97% complete\n",
      "93.24% complete\n",
      "95.52% complete\n",
      "97.79% complete\n",
      "100.07% complete\n",
      "102.34% complete\n",
      "104.62% complete\n",
      "106.89% complete\n",
      "109.16% complete\n",
      "111.44% complete\n",
      "113.71% complete\n",
      "115.99% complete\n",
      "118.26% complete\n",
      "120.54% complete\n",
      "122.81% complete\n",
      "125.08% complete\n",
      "127.36% complete\n",
      "129.63% complete\n",
      "131.91% complete\n",
      "134.18% complete\n",
      "136.46% complete\n",
      "138.73% complete\n",
      "141.0% complete\n",
      "143.28% complete\n",
      "145.55% complete\n",
      "147.83% complete\n",
      "150.1% complete\n",
      "152.38% complete\n",
      "154.65% complete\n",
      "156.92% complete\n",
      "159.2% complete\n",
      "161.47% complete\n",
      "163.75% complete\n",
      "166.02% complete\n",
      "168.3% complete\n",
      "170.57% complete\n",
      "172.84% complete\n",
      "175.12% complete\n",
      "177.39% complete\n",
      "179.67% complete\n",
      "181.94% complete\n",
      "184.21% complete\n",
      "186.49% complete\n",
      "188.76% complete\n",
      "191.04% complete\n",
      "193.31% complete\n",
      "195.59% complete\n",
      "197.86% complete\n",
      "200.13% complete\n",
      "202.41% complete\n",
      "204.68% complete\n",
      "206.96% complete\n",
      "209.23% complete\n",
      "211.51% complete\n",
      "213.78% complete\n",
      "216.05% complete\n",
      "218.33% complete\n",
      "220.6% complete\n",
      "222.88% complete\n",
      "225.15% complete\n",
      "227.43% complete\n",
      "229.7% complete\n",
      "231.97% complete\n",
      "234.25% complete\n",
      "236.52% complete\n",
      "238.8% complete\n",
      "241.07% complete\n",
      "243.35% complete\n",
      "245.62% complete\n",
      "247.89% complete\n",
      "250.17% complete\n",
      "252.44% complete\n",
      "254.72% complete\n",
      "256.99% complete\n",
      "259.27% complete\n",
      "261.54% complete\n",
      "263.81% complete\n",
      "266.09% complete\n",
      "268.36% complete\n",
      "270.64% complete\n",
      "272.91% complete\n",
      "275.19% complete\n",
      "277.46% complete\n",
      "279.73% complete\n",
      "282.01% complete\n",
      "284.28% complete\n",
      "286.56% complete\n",
      "288.83% complete\n",
      "291.11% complete\n",
      "293.38% complete\n",
      "295.65% complete\n",
      "297.93% complete\n",
      "300.2% complete\n",
      "302.48% complete\n",
      "304.75% complete\n",
      "307.02% complete\n",
      "309.3% complete\n",
      "311.57% complete\n",
      "313.85% complete\n",
      "316.12% complete\n",
      "318.4% complete\n",
      "320.67% complete\n",
      "322.94% complete\n",
      "325.22% complete\n",
      "327.49% complete\n",
      "329.77% complete\n",
      "332.04% complete\n",
      "334.32% complete\n",
      "336.59% complete\n",
      "338.86% complete\n",
      "341.14% complete\n",
      "343.41% complete\n",
      "345.69% complete\n",
      "347.96% complete\n",
      "350.24% complete\n",
      "352.51% complete\n",
      "354.78% complete\n",
      "357.06% complete\n",
      "359.33% complete\n",
      "361.61% complete\n",
      "363.88% complete\n",
      "366.16% complete\n",
      "368.43% complete\n",
      "370.7% complete\n",
      "372.98% complete\n",
      "375.25% complete\n",
      "377.53% complete\n",
      "379.8% complete\n",
      "382.08% complete\n",
      "384.35% complete\n",
      "386.62% complete\n",
      "388.9% complete\n",
      "391.17% complete\n",
      "393.45% complete\n",
      "395.72% complete\n",
      "398.0% complete\n",
      "400.27% complete\n",
      "402.54% complete\n",
      "404.82% complete\n",
      "407.09% complete\n",
      "409.37% complete\n",
      "411.64% complete\n",
      "413.92% complete\n",
      "416.19% complete\n",
      "418.46% complete\n",
      "420.74% complete\n",
      "423.01% complete\n",
      "425.29% complete\n",
      "427.56% complete\n",
      "429.83% complete\n",
      "432.11% complete\n",
      "434.38% complete\n",
      "436.66% complete\n",
      "438.93% complete\n",
      "441.21% complete\n",
      "443.48% complete\n",
      "445.75% complete\n",
      "448.03% complete\n",
      "450.3% complete\n",
      "452.58% complete\n",
      "454.85% complete\n",
      "457.13% complete\n",
      "459.4% complete\n",
      "461.67% complete\n",
      "BP Matching: Highest bound for maximum: 2679190.140000003\n",
      "BP Matching: Lowest bound for minimum: 1440144.8799999673\n",
      "BP Max Match Count:  1749\n",
      "BP Min Match Count:  1748\n",
      "Performing compare all match (jaccard distance)...\n",
      "Naive Jaccard Matching computation time taken:  34.075296  seconds \n",
      "\n",
      "Performing compare all match (jaccard distance)...\n",
      "Naive Jaccard Matching computation time taken:  34.123757  seconds\n",
      "NAIVE MAX Matching Bound:  4545988.340000226\n",
      "NAIVE MIN Matching Bound:  940688.3799999871\n",
      "Naive Max Match Count:  3561\n",
      "Naive Min Match Count 1207\n",
      "bp_min_fp:  0.6624713958810069 \n",
      " bp_min_fn:  0.0016920473773265332 \n",
      " bp_min_acc:  0.5\n",
      "bp_max_fp:  0.6718124642652945 \n",
      " bp_max_fn:  0.0017391304347825765 \n",
      " bp_max_acc:  0.49\n",
      "naive_min_fp:  0.65 \n",
      " naive_min_fn:  0.67 \n",
      " naive_min_acc:  0.34\n",
      "naive_max_fp:  0.76 \n",
      " naive_max_fn:  0.35 \n",
      " naive_max_acc:  0.34\n"
     ]
    },
    {
     "data": {
      "image/png": "[encoded data removed]",
      "text/plain": [
       "<Figure size 432x288 with 1 Axes>"
      ]
     },
     "metadata": {
      "needs_background": "light"
     },
     "output_type": "display_data"
    }
   ],
   "source": [
    "sum_real_data_exp_funcs.show_experiment_1_sum('../Amazon-GoogleProducts/Amazon.csv', '../Amazon-GoogleProducts/GoogleProducts.csv', '../Amazon-GoogleProducts/modified_perfect_mapping_google_amazon.csv', 'SUM: Max n = 5, True n <= 5', 0.8, 5, 5)\n",
    "\n",
    "\n"
   ]
  },
  {
   "cell_type": "markdown",
   "metadata": {},
   "source": [
    "Experiment 2: Max n = 1-6, Sim Threshold = 0.3"
   ]
  },
  {
   "cell_type": "code",
   "execution_count": null,
   "metadata": {},
   "outputs": [],
   "source": [
    "sum_real_data_exp_funcs.show_experiment_2('../Amazon-GoogleProducts/Amazon.csv', '../Amazon-GoogleProducts/GoogleProducts.csv', '../Amazon-GoogleProducts/modified_perfect_mapping_google_amazon.csv', \"Median Over-estimation Rate vs N\", 0.3)\n",
    "\n",
    "\n"
   ]
  },
  {
   "cell_type": "markdown",
   "metadata": {},
   "source": [
    "Experiment 4: Max n = 2, Sim Threshold = 0.2, 0.17, 0.14, 0.11, 0.8"
   ]
  },
  {
   "cell_type": "code",
   "execution_count": null,
   "metadata": {},
   "outputs": [],
   "source": [
    "sum_real_data_exp_funcs.show_experiment_4('../Amazon-GoogleProducts/Amazon.csv', '../Amazon-GoogleProducts/GoogleProducts.csv',\"Median Over-estimation Rate vs Similarity Metric Quality\",2)\n",
    "\n",
    "\n"
   ]
  },
  {
   "cell_type": "markdown",
   "metadata": {},
   "source": [
    "- COUNT"
   ]
  },
  {
   "cell_type": "code",
   "execution_count": null,
   "metadata": {},
   "outputs": [],
   "source": [
    "count_real_data_exp_funcs.show_experiment_1_count('../Amazon-GoogleProducts/Amazon.csv', '../Amazon-GoogleProducts/GoogleProducts.csv', '../Amazon-GoogleProducts/modified_perfect_mapping_google_amazon.csv', \"Median Over-estimation Rate vs N\", 0.8)\n",
    "\n",
    "\n"
   ]
  },
  {
   "cell_type": "markdown",
   "metadata": {},
   "source": [
    "#### Abt - Buy Experiments"
   ]
  },
  {
   "cell_type": "markdown",
   "metadata": {},
   "source": [
    "- SUM"
   ]
  },
  {
   "cell_type": "markdown",
   "metadata": {},
   "source": [
    "Experiment 1: Max n=2, Sim Threshold = 0.3"
   ]
  },
  {
   "cell_type": "code",
   "execution_count": null,
   "metadata": {},
   "outputs": [],
   "source": [
    "sum_abt_buy_funcs.show_experiment_1_sum('../Abt-Buy/modified_abt.csv', '../Abt-Buy/modified_buy.csv', '../Abt-Buy/modified_perfect_mapping_abt_buy.csv', 'SUM: Max n = 5, True n <= 2', 0.3, 2, 5)\n",
    "\n"
   ]
  },
  {
   "cell_type": "markdown",
   "metadata": {},
   "source": [
    "Experiment 2: Max n = 1-6, Sim Threshold = 0.8"
   ]
  },
  {
   "cell_type": "code",
   "execution_count": null,
   "metadata": {},
   "outputs": [],
   "source": [
    "sum_abt_buy_funcs.show_experiment_2('../Amazon-GoogleProducts/Amazon.csv', '../Amazon-GoogleProducts/GoogleProducts.csv', '../Amazon-GoogleProducts/modified_perfect_mapping_abt_buy.csv', \"Median Over-estimation Rate vs N\", 0.8)\n",
    "\n"
   ]
  },
  {
   "cell_type": "markdown",
   "metadata": {},
   "source": [
    "Experiment 4: Max n = 2, Sim Threshold = 0.2, 0.17, 0.14, 0.11, 0.8"
   ]
  },
  {
   "cell_type": "code",
   "execution_count": null,
   "metadata": {},
   "outputs": [],
   "source": [
    "sum_abt_buy_funcs.show_experiment_4('../Amazon-GoogleProducts/Amazon.csv', '../Amazon-GoogleProducts/GoogleProducts.csv',\"Median Over-estimation Rate vs Similarity Metric Quality\",2)\n",
    "\n"
   ]
  },
  {
   "cell_type": "markdown",
   "metadata": {},
   "source": [
    "- COUNT"
   ]
  },
  {
   "cell_type": "markdown",
   "metadata": {},
   "source": [
    "Experiment: Count"
   ]
  },
  {
   "cell_type": "code",
   "execution_count": null,
   "metadata": {},
   "outputs": [],
   "source": [
    "count_real_data_exp_funcs.show_experiment_1_count('../Abt-Buy/modified_abt.csv', '../Abt-Buy/modified_buy.csv', '../Abt-Buy/modified_perfect_mapping_abt_buy.csv', 'COUNT: Max n = 3, True n <= 2', 0.3, 10)\n",
    "\n",
    "\n"
   ]
  },
  {
   "cell_type": "markdown",
   "metadata": {},
   "source": [
    "Experiment: Count Variation"
   ]
  },
  {
   "cell_type": "code",
   "execution_count": null,
   "metadata": {},
   "outputs": [],
   "source": [
    "count_real_data_exp_funcs.show_experiment_1_count_variation('../Abt-Buy/modified_abt.csv', '../Abt-Buy/modified_buy.csv', '../Abt-Buy/abt_buy_perfectMapping.csv', 'COUNT: Max n = 3, True n <= 2', 0.3, 10)\n",
    "\n"
   ]
  },
  {
   "cell_type": "markdown",
   "metadata": {},
   "source": [
    "#### DBLP-Scholar Experiments"
   ]
  },
  {
   "cell_type": "markdown",
   "metadata": {},
   "source": [
    "- COUNT"
   ]
  },
  {
   "cell_type": "code",
   "execution_count": null,
   "metadata": {},
   "outputs": [],
   "source": [
    "count_real_data_exp_funcs.show_experiment_1_count('../DBLP-Scholar/DBLP1.csv', '../DBLP-Scholar/Scholar.csv', '../DBLP-Scholar/modified_perfect_mapping_dblp_schoalr.csv', 'COUNT: Max n = 3, True n <= 4', 0.3)\n",
    "\n",
    "\n"
   ]
  }
 ],
 "metadata": {
  "kernelspec": {
   "display_name": "Python 3",
   "language": "python",
   "name": "python3"
  },
  "language_info": {
   "codemirror_mode": {
    "name": "ipython",
    "version": 3
   },
   "file_extension": ".py",
   "mimetype": "text/x-python",
   "name": "python",
   "nbconvert_exporter": "python",
   "pygments_lexer": "ipython3",
   "version": "3.7.6"
  }
 },
 "nbformat": 4,
 "nbformat_minor": 4
}
