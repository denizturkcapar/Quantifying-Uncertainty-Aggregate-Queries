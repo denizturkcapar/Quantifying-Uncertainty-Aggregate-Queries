{
 "cells": [
  {
   "cell_type": "code",
   "execution_count": 1,
   "metadata": {},
   "outputs": [],
   "source": [
    "import experiment_funcs\n",
    "import experiment_visualizer\n",
    "import sum_real_data_exp_funcs\n",
    "import count_real_data_exp_funcs\n",
    "import sum_abt_buy_funcs"
   ]
  },
  {
   "cell_type": "markdown",
   "metadata": {},
   "source": [
    "# Real Data Finalized Experiments "
   ]
  },
  {
   "cell_type": "markdown",
   "metadata": {},
   "source": [
    "- The perfect mapping datasets are modified to reflect 1-n matching."
   ]
  },
  {
   "cell_type": "markdown",
   "metadata": {},
   "source": [
    "#### Amazon - Google Experiments"
   ]
  },
  {
   "cell_type": "markdown",
   "metadata": {},
   "source": [
    "- SUM"
   ]
  },
  {
   "cell_type": "markdown",
   "metadata": {},
   "source": [
    "Experiment 1: Max n= 2, Sim Threshold = 0.3"
   ]
  },
  {
   "cell_type": "code",
   "execution_count": 2,
   "metadata": {},
   "outputs": [
    {
     "ename": "ValueError",
     "evalue": "too many values to unpack (expected 5)",
     "output_type": "error",
     "traceback": [
      "\u001b[0;31m---------------------------------------\u001b[0m",
      "\u001b[0;31mValueError\u001b[0mTraceback (most recent call last)",
      "\u001b[0;32m<ipython-input-2-c5bf53cae3c1>\u001b[0m in \u001b[0;36m<module>\u001b[0;34m\u001b[0m\n\u001b[1;32m      6\u001b[0m \u001b[0;34m\u001b[0m\u001b[0m\n\u001b[1;32m      7\u001b[0m \u001b[0mexperiment_funcs\u001b[0m\u001b[0;34m.\u001b[0m\u001b[0mcreate_csv_table\u001b[0m\u001b[0;34m(\u001b[0m\u001b[0;34m\"result_example.csv\"\u001b[0m\u001b[0;34m)\u001b[0m\u001b[0;34m\u001b[0m\u001b[0;34m\u001b[0m\u001b[0m\n\u001b[0;32m----> 8\u001b[0;31m \u001b[0mtable_a_non_duplicated\u001b[0m\u001b[0;34m,\u001b[0m \u001b[0mtable_b\u001b[0m\u001b[0;34m,\u001b[0m \u001b[0mtables_map\u001b[0m\u001b[0;34m,\u001b[0m \u001b[0mdata1_map\u001b[0m\u001b[0;34m,\u001b[0m \u001b[0mdata2_map\u001b[0m \u001b[0;34m=\u001b[0m \u001b[0msum_real_data_exp_funcs\u001b[0m\u001b[0;34m.\u001b[0m\u001b[0mdata_to_df\u001b[0m\u001b[0;34m(\u001b[0m\u001b[0;34m'../Amazon-GoogleProducts/Amazon.csv'\u001b[0m\u001b[0;34m,\u001b[0m \u001b[0;34m'../Amazon-GoogleProducts/GoogleProducts.csv'\u001b[0m\u001b[0;34m)\u001b[0m\u001b[0;34m\u001b[0m\u001b[0;34m\u001b[0m\u001b[0m\n\u001b[0m\u001b[1;32m      9\u001b[0m \u001b[0;34m\u001b[0m\u001b[0m\n\u001b[1;32m     10\u001b[0m \u001b[0mresult_perfmatch\u001b[0m\u001b[0;34m,\u001b[0m \u001b[0mjoined_table\u001b[0m\u001b[0;34m,\u001b[0m \u001b[0mperf_match_dict\u001b[0m \u001b[0;34m=\u001b[0m \u001b[0msum_real_data_exp_funcs\u001b[0m\u001b[0;34m.\u001b[0m\u001b[0mcreate_perfect_mapping\u001b[0m\u001b[0;34m(\u001b[0m\u001b[0;34m'../Amazon-GoogleProducts/modified_perfect_mapping_google_amazon.csv'\u001b[0m\u001b[0;34m,\u001b[0m \u001b[0;34m'../Amazon-GoogleProducts/Amazon.csv'\u001b[0m\u001b[0;34m,\u001b[0m \u001b[0;34m'../Amazon-GoogleProducts/GoogleProducts.csv'\u001b[0m\u001b[0;34m)\u001b[0m\u001b[0;34m\u001b[0m\u001b[0;34m\u001b[0m\u001b[0m\n",
      "\u001b[0;31mValueError\u001b[0m: too many values to unpack (expected 5)"
     ]
    }
   ],
   "source": [
    "bp_sim = 0.5\n",
    "naive_sim = 0.5\n",
    "bp_n = 3\n",
    "naive_n = 3\n",
    "\n",
    "\n",
    "experiment_funcs.create_csv_table(\"result_example.csv\")\n",
    "table_a_non_duplicated, table_b, tables_map, data1_map, data2_map = sum_real_data_exp_funcs.data_to_df('../Amazon-GoogleProducts/Amazon.csv', '../Amazon-GoogleProducts/GoogleProducts.csv')\n",
    "\n",
    "result_perfmatch, joined_table, perf_match_dict = sum_real_data_exp_funcs.create_perfect_mapping('../Amazon-GoogleProducts/modified_perfect_mapping_google_amazon.csv', '../Amazon-GoogleProducts/Amazon.csv', '../Amazon-GoogleProducts/GoogleProducts.csv')\n",
    "\n",
    "# Find perfect matching sum outcome for evaluation of the model (NOTE: current 1-1 limitations.)\n",
    "perfect_mapping_sum_result = sum_real_data_exp_funcs.find_perfect_sum_result('../Amazon-GoogleProducts/modified_perfect_mapping_google_amazon.csv', '../Amazon-GoogleProducts/Amazon.csv', '../Amazon-GoogleProducts/GoogleProducts.csv')\n",
    "\n",
    "# Bipartite Matching Script\n",
    "total_max, total_min, bip_min_matching_time, bip_max_matching_time, out_max, out_min = sum_real_data_exp_funcs.realdata_sum_bip_script(table_a_non_duplicated, table_b, \"name\", bp_sim, bp_n, data1_map, data2_map)\n",
    "\n",
    "# Run Naive Matching Script\n",
    "naive_total_max, naive_total_min, naive_min_matching_time, naive_max_matching_time, naive_max, naive_min, res_naive_eval_max, res_naive_eval_min = sum_real_data_exp_funcs.realdata_sum_naive_script(naive_sim, '../Amazon-GoogleProducts/Amazon.csv', '../Amazon-GoogleProducts/GoogleProducts.csv', table_a_non_duplicated, naive_n, \"naive_dup\")\n",
    "\n",
    "# Run Accuracy Evaluation\n",
    "eval_records = sum_real_data_exp_funcs.full_evaluation(out_min, out_max, res_naive_eval_min, res_naive_eval_max, result_perfmatch, perf_match_dict)\n",
    "\n",
    "# Record Experiment Results\n",
    "experiment_funcs.table_csv_output(total_min, total_max, naive_total_min, naive_total_max, perfect_mapping_sum_result, result_filename, bip_min_matching_time, bip_max_matching_time, naive_min_matching_time, naive_max_matching_time, eval_records)\n"
   ]
  },
  {
   "cell_type": "code",
   "execution_count": null,
   "metadata": {},
   "outputs": [],
   "source": [
    "print(out_max)\n",
    "print(out_min)"
   ]
  },
  {
   "cell_type": "code",
   "execution_count": null,
   "metadata": {},
   "outputs": [],
   "source": [
    "print(naive_total_max)\n",
    "print(naive_total_min)"
   ]
  },
  {
   "cell_type": "code",
   "execution_count": null,
   "metadata": {},
   "outputs": [],
   "source": [
    "print(total_max)\n",
    "print(total_min)"
   ]
  },
  {
   "cell_type": "code",
   "execution_count": 3,
   "metadata": {},
   "outputs": [
    {
     "name": "stderr",
     "output_type": "stream",
     "text": [
      "IOPub data rate exceeded.\n",
      "The notebook server will temporarily stop sending output\n",
      "to the client in order to avoid crashing it.\n",
      "To change this limit, set the config variable\n",
      "`--NotebookApp.iopub_data_rate_limit`.\n",
      "\n",
      "Current values:\n",
      "NotebookApp.iopub_data_rate_limit=1000000.0 (bytes/sec)\n",
      "NotebookApp.rate_limit_window=3.0 (secs)\n",
      "\n"
     ]
    },
    {
     "name": "stdout",
     "output_type": "stream",
     "text": [
      "2.27% complete\n",
      "4.55% complete\n",
      "6.82% complete\n",
      "9.1% complete\n",
      "11.37% complete\n",
      "13.65% complete\n",
      "15.92% complete\n",
      "18.19% complete\n",
      "20.47% complete\n",
      "22.74% complete\n",
      "25.02% complete\n",
      "27.29% complete\n",
      "29.57% complete\n",
      "31.84% complete\n",
      "34.11% complete\n",
      "36.39% complete\n",
      "38.66% complete\n",
      "40.94% complete\n",
      "43.21% complete\n",
      "45.49% complete\n",
      "47.76% complete\n",
      "50.03% complete\n",
      "52.31% complete\n",
      "54.58% complete\n",
      "56.86% complete\n",
      "59.13% complete\n",
      "61.4% complete\n",
      "63.68% complete\n",
      "65.95% complete\n",
      "68.23% complete\n",
      "70.5% complete\n",
      "72.78% complete\n",
      "75.05% complete\n",
      "77.32% complete\n",
      "79.6% complete\n",
      "81.87% complete\n",
      "84.15% complete\n",
      "86.42% complete\n",
      "88.7% complete\n",
      "90.97% complete\n",
      "93.24% complete\n",
      "95.52% complete\n",
      "97.79% complete\n",
      "100.07% complete\n",
      "102.34% complete\n",
      "104.62% complete\n",
      "106.89% complete\n",
      "109.16% complete\n",
      "111.44% complete\n",
      "113.71% complete\n",
      "115.99% complete\n",
      "118.26% complete\n",
      "120.54% complete\n",
      "122.81% complete\n",
      "125.08% complete\n",
      "127.36% complete\n",
      "129.63% complete\n",
      "131.91% complete\n",
      "134.18% complete\n",
      "136.46% complete\n",
      "138.73% complete\n",
      "141.0% complete\n",
      "143.28% complete\n",
      "145.55% complete\n",
      "147.83% complete\n",
      "150.1% complete\n",
      "152.38% complete\n",
      "154.65% complete\n",
      "156.92% complete\n",
      "159.2% complete\n",
      "161.47% complete\n",
      "163.75% complete\n",
      "166.02% complete\n",
      "168.3% complete\n",
      "170.57% complete\n",
      "172.84% complete\n",
      "175.12% complete\n",
      "177.39% complete\n",
      "179.67% complete\n",
      "181.94% complete\n",
      "184.21% complete\n",
      "186.49% complete\n",
      "188.76% complete\n",
      "191.04% complete\n",
      "193.31% complete\n",
      "195.59% complete\n",
      "197.86% complete\n",
      "200.13% complete\n",
      "202.41% complete\n",
      "204.68% complete\n",
      "206.96% complete\n",
      "209.23% complete\n",
      "211.51% complete\n",
      "213.78% complete\n",
      "216.05% complete\n",
      "218.33% complete\n",
      "220.6% complete\n",
      "222.88% complete\n",
      "225.15% complete\n",
      "227.43% complete\n",
      "229.7% complete\n",
      "231.97% complete\n",
      "234.25% complete\n",
      "236.52% complete\n",
      "238.8% complete\n",
      "241.07% complete\n",
      "243.35% complete\n",
      "245.62% complete\n",
      "247.89% complete\n",
      "250.17% complete\n",
      "252.44% complete\n",
      "254.72% complete\n",
      "256.99% complete\n",
      "259.27% complete\n",
      "261.54% complete\n",
      "263.81% complete\n",
      "266.09% complete\n",
      "268.36% complete\n",
      "270.64% complete\n",
      "272.91% complete\n",
      "275.19% complete\n",
      "MATCHED BIP RESULT:  set()\n",
      "2.27% complete\n",
      "4.55% complete\n",
      "6.82% complete\n",
      "9.1% complete\n",
      "11.37% complete\n",
      "13.65% complete\n",
      "15.92% complete\n",
      "18.19% complete\n",
      "20.47% complete\n",
      "22.74% complete\n",
      "25.02% complete\n",
      "27.29% complete\n",
      "29.57% complete\n",
      "31.84% complete\n",
      "34.11% complete\n",
      "36.39% complete\n",
      "38.66% complete\n",
      "40.94% complete\n",
      "43.21% complete\n",
      "45.49% complete\n",
      "47.76% complete\n",
      "50.03% complete\n",
      "52.31% complete\n",
      "54.58% complete\n",
      "56.86% complete\n",
      "59.13% complete\n",
      "61.4% complete\n",
      "63.68% complete\n",
      "65.95% complete\n",
      "68.23% complete\n",
      "70.5% complete\n",
      "72.78% complete\n",
      "75.05% complete\n",
      "77.32% complete\n",
      "79.6% complete\n",
      "81.87% complete\n",
      "84.15% complete\n",
      "86.42% complete\n",
      "88.7% complete\n",
      "90.97% complete\n",
      "93.24% complete\n",
      "95.52% complete\n",
      "97.79% complete\n",
      "100.07% complete\n",
      "102.34% complete\n",
      "104.62% complete\n",
      "106.89% complete\n",
      "109.16% complete\n",
      "111.44% complete\n",
      "113.71% complete\n",
      "115.99% complete\n",
      "118.26% complete\n",
      "120.54% complete\n",
      "122.81% complete\n",
      "125.08% complete\n",
      "127.36% complete\n",
      "129.63% complete\n",
      "131.91% complete\n",
      "134.18% complete\n",
      "136.46% complete\n",
      "138.73% complete\n",
      "141.0% complete\n",
      "143.28% complete\n",
      "145.55% complete\n",
      "147.83% complete\n",
      "150.1% complete\n",
      "152.38% complete\n",
      "154.65% complete\n",
      "156.92% complete\n",
      "159.2% complete\n",
      "161.47% complete\n",
      "163.75% complete\n",
      "166.02% complete\n",
      "168.3% complete\n",
      "170.57% complete\n",
      "172.84% complete\n",
      "175.12% complete\n",
      "177.39% complete\n",
      "179.67% complete\n",
      "181.94% complete\n",
      "184.21% complete\n",
      "186.49% complete\n",
      "188.76% complete\n",
      "191.04% complete\n",
      "193.31% complete\n",
      "195.59% complete\n",
      "197.86% complete\n",
      "200.13% complete\n",
      "202.41% complete\n",
      "204.68% complete\n",
      "206.96% complete\n",
      "209.23% complete\n",
      "211.51% complete\n",
      "213.78% complete\n",
      "216.05% complete\n",
      "218.33% complete\n",
      "220.6% complete\n",
      "222.88% complete\n",
      "225.15% complete\n",
      "227.43% complete\n",
      "229.7% complete\n",
      "231.97% complete\n",
      "234.25% complete\n",
      "236.52% complete\n",
      "238.8% complete\n",
      "241.07% complete\n",
      "243.35% complete\n",
      "245.62% complete\n",
      "247.89% complete\n",
      "250.17% complete\n",
      "252.44% complete\n",
      "254.72% complete\n",
      "256.99% complete\n",
      "259.27% complete\n",
      "261.54% complete\n",
      "263.81% complete\n",
      "266.09% complete\n",
      "268.36% complete\n",
      "270.64% complete\n",
      "272.91% complete\n",
      "275.19% complete\n"
     ]
    },
    {
     "ename": "ValueError",
     "evalue": "max() arg is an empty sequence",
     "output_type": "error",
     "traceback": [
      "\u001b[0;31m---------------------------------------\u001b[0m",
      "\u001b[0;31mValueError\u001b[0mTraceback (most recent call last)",
      "\u001b[0;32m<ipython-input-3-4b3b60ecca07>\u001b[0m in \u001b[0;36m<module>\u001b[0;34m\u001b[0m\n\u001b[0;32m----> 1\u001b[0;31m \u001b[0msum_real_data_exp_funcs\u001b[0m\u001b[0;34m.\u001b[0m\u001b[0mshow_experiment_1_sum\u001b[0m\u001b[0;34m(\u001b[0m\u001b[0;34m'../Amazon-GoogleProducts/Amazon.csv'\u001b[0m\u001b[0;34m,\u001b[0m \u001b[0;34m'../Amazon-GoogleProducts/GoogleProducts.csv'\u001b[0m\u001b[0;34m,\u001b[0m \u001b[0;34m'../Amazon-GoogleProducts/modified_perfect_mapping_google_amazon.csv'\u001b[0m\u001b[0;34m,\u001b[0m \u001b[0;34m'SUM: Max n = 5, True n <= 5'\u001b[0m\u001b[0;34m,\u001b[0m \u001b[0;36m0.40\u001b[0m\u001b[0;34m,\u001b[0m \u001b[0;36m3\u001b[0m\u001b[0;34m,\u001b[0m \u001b[0;36m3\u001b[0m\u001b[0;34m)\u001b[0m\u001b[0;34m\u001b[0m\u001b[0;34m\u001b[0m\u001b[0m\n\u001b[0m\u001b[1;32m      2\u001b[0m \u001b[0;34m\u001b[0m\u001b[0m\n\u001b[1;32m      3\u001b[0m \u001b[0;34m\u001b[0m\u001b[0m\n",
      "\u001b[0;32m~/Desktop/Data Research/Research-Bipartite-Matching-Problem/experiments/sum_real_data_exp_funcs.py\u001b[0m in \u001b[0;36mshow_experiment_1_sum\u001b[0;34m(file1, file2, perf_match_file, experiment_name, sim_thresh, true_n, max_n)\u001b[0m\n\u001b[1;32m    612\u001b[0m         \u001b[0;32mreturn\u001b[0m \u001b[0mbp_min_med\u001b[0m\u001b[0;34m,\u001b[0m \u001b[0mbp_max_med\u001b[0m\u001b[0;34m,\u001b[0m \u001b[0mnaive_min_med\u001b[0m\u001b[0;34m,\u001b[0m \u001b[0mnaive_max_med\u001b[0m\u001b[0;34m,\u001b[0m \u001b[0mperf_threshold\u001b[0m\u001b[0;34m\u001b[0m\u001b[0;34m\u001b[0m\u001b[0m\n\u001b[1;32m    613\u001b[0m \u001b[0;32mdef\u001b[0m \u001b[0mshow_experiment_1_sum\u001b[0m\u001b[0;34m(\u001b[0m\u001b[0mfile1\u001b[0m\u001b[0;34m,\u001b[0m \u001b[0mfile2\u001b[0m\u001b[0;34m,\u001b[0m \u001b[0mperf_match_file\u001b[0m\u001b[0;34m,\u001b[0m \u001b[0mexperiment_name\u001b[0m\u001b[0;34m,\u001b[0m \u001b[0msim_thresh\u001b[0m\u001b[0;34m,\u001b[0m \u001b[0mtrue_n\u001b[0m\u001b[0;34m,\u001b[0m \u001b[0mmax_n\u001b[0m\u001b[0;34m)\u001b[0m\u001b[0;34m:\u001b[0m\u001b[0;34m\u001b[0m\u001b[0;34m\u001b[0m\u001b[0m\n\u001b[0;32m--> 614\u001b[0;31m         \u001b[0mreal_data_1_to_n_sum_results\u001b[0m\u001b[0;34m(\u001b[0m\u001b[0mfile1\u001b[0m\u001b[0;34m,\u001b[0m \u001b[0mfile2\u001b[0m\u001b[0;34m,\u001b[0m \u001b[0mperf_match_file\u001b[0m\u001b[0;34m,\u001b[0m\u001b[0;34m\"realdata_exp1_n1\"\u001b[0m\u001b[0;34m,\u001b[0m \u001b[0msim_thresh\u001b[0m\u001b[0;34m,\u001b[0m\u001b[0msim_thresh\u001b[0m\u001b[0;34m,\u001b[0m\u001b[0mtrue_n\u001b[0m\u001b[0;34m,\u001b[0m\u001b[0mmax_n\u001b[0m\u001b[0;34m,\u001b[0m\u001b[0mmax_n\u001b[0m\u001b[0;34m,\u001b[0m\u001b[0;36m100\u001b[0m\u001b[0;34m)\u001b[0m\u001b[0;34m\u001b[0m\u001b[0;34m\u001b[0m\u001b[0m\n\u001b[0m\u001b[1;32m    615\u001b[0m         \u001b[0;31m# n = 1\u001b[0m\u001b[0;34m\u001b[0m\u001b[0;34m\u001b[0m\u001b[0;34m\u001b[0m\u001b[0m\n\u001b[1;32m    616\u001b[0m         \u001b[0mbp_min_med\u001b[0m\u001b[0;34m,\u001b[0m \u001b[0mbp_max_med\u001b[0m\u001b[0;34m,\u001b[0m \u001b[0mnaive_min_med\u001b[0m\u001b[0;34m,\u001b[0m \u001b[0mnaive_max_med\u001b[0m\u001b[0;34m,\u001b[0m \u001b[0mperf_threshold\u001b[0m \u001b[0;34m=\u001b[0m \u001b[0mexp1_helper\u001b[0m\u001b[0;34m(\u001b[0m\u001b[0;34m\"realdata_exp1_n1.csv\"\u001b[0m\u001b[0;34m)\u001b[0m\u001b[0;34m\u001b[0m\u001b[0;34m\u001b[0m\u001b[0m\n",
      "\u001b[0;32m~/Desktop/Data Research/Research-Bipartite-Matching-Problem/experiments/sum_real_data_exp_funcs.py\u001b[0m in \u001b[0;36mreal_data_1_to_n_sum_results\u001b[0;34m(file1, file2, perf_match_file, result_filename, bp_sim, naive_sim, actual_n, bp_n, naive_n, table_a_length)\u001b[0m\n\u001b[1;32m    583\u001b[0m \u001b[0;34m\u001b[0m\u001b[0m\n\u001b[1;32m    584\u001b[0m         \u001b[0;31m# Bipartite Matching Script\u001b[0m\u001b[0;34m\u001b[0m\u001b[0;34m\u001b[0m\u001b[0;34m\u001b[0m\u001b[0m\n\u001b[0;32m--> 585\u001b[0;31m         \u001b[0mtotal_max\u001b[0m\u001b[0;34m,\u001b[0m \u001b[0mtotal_min\u001b[0m\u001b[0;34m,\u001b[0m \u001b[0mbip_min_matching_time\u001b[0m\u001b[0;34m,\u001b[0m \u001b[0mbip_max_matching_time\u001b[0m\u001b[0;34m,\u001b[0m \u001b[0mout_max\u001b[0m\u001b[0;34m,\u001b[0m \u001b[0mout_min\u001b[0m \u001b[0;34m=\u001b[0m \u001b[0mrealdata_sum_bip_script\u001b[0m\u001b[0;34m(\u001b[0m\u001b[0mtable_a_non_duplicated\u001b[0m\u001b[0;34m,\u001b[0m \u001b[0mtable_b\u001b[0m\u001b[0;34m,\u001b[0m \u001b[0;34m\"name\"\u001b[0m\u001b[0;34m,\u001b[0m \u001b[0mbp_sim\u001b[0m\u001b[0;34m,\u001b[0m \u001b[0mbp_n\u001b[0m\u001b[0;34m,\u001b[0m \u001b[0mdata1_map\u001b[0m\u001b[0;34m,\u001b[0m \u001b[0mdata2_map\u001b[0m\u001b[0;34m)\u001b[0m\u001b[0;34m\u001b[0m\u001b[0;34m\u001b[0m\u001b[0m\n\u001b[0m\u001b[1;32m    586\u001b[0m \u001b[0;34m\u001b[0m\u001b[0m\n\u001b[1;32m    587\u001b[0m         \u001b[0;31m# Run Naive Matching Script\u001b[0m\u001b[0;34m\u001b[0m\u001b[0;34m\u001b[0m\u001b[0;34m\u001b[0m\u001b[0m\n",
      "\u001b[0;32m~/Desktop/Data Research/Research-Bipartite-Matching-Problem/experiments/sum_real_data_exp_funcs.py\u001b[0m in \u001b[0;36mrealdata_sum_bip_script\u001b[0;34m(table_a_non_duplicated, table_b, column_name, similarity_threshold, n_matches, data1_map, data2_map, num_swaps)\u001b[0m\n\u001b[1;32m    296\u001b[0m         \u001b[0;31m#       print(\"table a: \", u, \"table b: \", v, \"distance: \", d)\u001b[0m\u001b[0;34m\u001b[0m\u001b[0;34m\u001b[0m\u001b[0;34m\u001b[0m\u001b[0m\n\u001b[1;32m    297\u001b[0m         \u001b[0mnow\u001b[0m \u001b[0;34m=\u001b[0m \u001b[0mdatetime\u001b[0m\u001b[0;34m.\u001b[0m\u001b[0mdatetime\u001b[0m\u001b[0;34m.\u001b[0m\u001b[0mnow\u001b[0m\u001b[0;34m(\u001b[0m\u001b[0;34m)\u001b[0m\u001b[0;34m\u001b[0m\u001b[0;34m\u001b[0m\u001b[0m\n\u001b[0;32m--> 298\u001b[0;31m         \u001b[0mmatching_set_minimal\u001b[0m \u001b[0;34m=\u001b[0m \u001b[0mminimal_matching\u001b[0m\u001b[0;34m(\u001b[0m\u001b[0mmin_sum_weighted_graph\u001b[0m\u001b[0;34m)\u001b[0m\u001b[0;34m\u001b[0m\u001b[0;34m\u001b[0m\u001b[0m\n\u001b[0m\u001b[1;32m    299\u001b[0m         \u001b[0mtiming_match_minimal\u001b[0m \u001b[0;34m=\u001b[0m \u001b[0;34m(\u001b[0m\u001b[0mdatetime\u001b[0m\u001b[0;34m.\u001b[0m\u001b[0mdatetime\u001b[0m\u001b[0;34m.\u001b[0m\u001b[0mnow\u001b[0m\u001b[0;34m(\u001b[0m\u001b[0;34m)\u001b[0m\u001b[0;34m-\u001b[0m\u001b[0mnow\u001b[0m\u001b[0;34m)\u001b[0m\u001b[0;34m.\u001b[0m\u001b[0mtotal_seconds\u001b[0m\u001b[0;34m(\u001b[0m\u001b[0;34m)\u001b[0m\u001b[0;34m\u001b[0m\u001b[0;34m\u001b[0m\u001b[0m\n\u001b[1;32m    300\u001b[0m         \u001b[0;31m# print(\"The Minimal Matching Set is:\", matching_set_minimal, \"\\n\")\u001b[0m\u001b[0;34m\u001b[0m\u001b[0;34m\u001b[0m\u001b[0;34m\u001b[0m\u001b[0m\n",
      "\u001b[0;32m~/Desktop/Data Research/Research-Bipartite-Matching-Problem/experiments/sum_real_data_exp_funcs.py\u001b[0m in \u001b[0;36mminimal_matching\u001b[0;34m(sum_weighted_graph)\u001b[0m\n\u001b[1;32m    198\u001b[0m         \u001b[0mnew_graph\u001b[0m \u001b[0;34m=\u001b[0m \u001b[0msum_weighted_graph\u001b[0m\u001b[0;34m.\u001b[0m\u001b[0mcopy\u001b[0m\u001b[0;34m(\u001b[0m\u001b[0;34m)\u001b[0m\u001b[0;34m\u001b[0m\u001b[0;34m\u001b[0m\u001b[0m\n\u001b[1;32m    199\u001b[0m         \u001b[0;31m# print(new_graph.edges(data=True))\u001b[0m\u001b[0;34m\u001b[0m\u001b[0;34m\u001b[0m\u001b[0;34m\u001b[0m\u001b[0m\n\u001b[0;32m--> 200\u001b[0;31m         \u001b[0mmax_weight\u001b[0m \u001b[0;34m=\u001b[0m \u001b[0mmax\u001b[0m\u001b[0;34m(\u001b[0m\u001b[0;34m[\u001b[0m\u001b[0md\u001b[0m\u001b[0;34m[\u001b[0m\u001b[0;34m'weight'\u001b[0m\u001b[0;34m]\u001b[0m \u001b[0;32mfor\u001b[0m \u001b[0mu\u001b[0m\u001b[0;34m,\u001b[0m\u001b[0mv\u001b[0m\u001b[0;34m,\u001b[0m\u001b[0md\u001b[0m \u001b[0;32min\u001b[0m \u001b[0mnew_graph\u001b[0m\u001b[0;34m.\u001b[0m\u001b[0medges\u001b[0m\u001b[0;34m(\u001b[0m\u001b[0mdata\u001b[0m\u001b[0;34m=\u001b[0m\u001b[0;32mTrue\u001b[0m\u001b[0;34m)\u001b[0m\u001b[0;34m]\u001b[0m\u001b[0;34m)\u001b[0m\u001b[0;34m\u001b[0m\u001b[0;34m\u001b[0m\u001b[0m\n\u001b[0m\u001b[1;32m    201\u001b[0m         \u001b[0;32mfor\u001b[0m \u001b[0mu\u001b[0m\u001b[0;34m,\u001b[0m\u001b[0mv\u001b[0m\u001b[0;34m,\u001b[0m\u001b[0md\u001b[0m \u001b[0;32min\u001b[0m \u001b[0mnew_graph\u001b[0m\u001b[0;34m.\u001b[0m\u001b[0medges\u001b[0m\u001b[0;34m(\u001b[0m\u001b[0mdata\u001b[0m\u001b[0;34m=\u001b[0m\u001b[0;32mTrue\u001b[0m\u001b[0;34m)\u001b[0m\u001b[0;34m:\u001b[0m\u001b[0;34m\u001b[0m\u001b[0;34m\u001b[0m\u001b[0m\n\u001b[1;32m    202\u001b[0m                 \u001b[0;31m# print(\"max weight:\", max_weight)\u001b[0m\u001b[0;34m\u001b[0m\u001b[0;34m\u001b[0m\u001b[0;34m\u001b[0m\u001b[0m\n",
      "\u001b[0;31mValueError\u001b[0m: max() arg is an empty sequence"
     ]
    }
   ],
   "source": [
    "sum_real_data_exp_funcs.show_experiment_1_sum('../Amazon-GoogleProducts/Amazon.csv', '../Amazon-GoogleProducts/GoogleProducts.csv', '../Amazon-GoogleProducts/modified_perfect_mapping_google_amazon.csv', 'SUM: Max n = 5, True n <= 5', 0.40, 3, 3)\n",
    "\n",
    "\n"
   ]
  },
  {
   "cell_type": "markdown",
   "metadata": {},
   "source": [
    "Experiment 2: Max n = 1-6, Sim Threshold = 0.3"
   ]
  },
  {
   "cell_type": "code",
   "execution_count": null,
   "metadata": {},
   "outputs": [],
   "source": [
    "sum_real_data_exp_funcs.show_experiment_2('../Amazon-GoogleProducts/Amazon.csv', '../Amazon-GoogleProducts/GoogleProducts.csv', '../Amazon-GoogleProducts/modified_perfect_mapping_google_amazon.csv', \"Median Over-estimation Rate vs N\", 0.3)\n",
    "\n",
    "\n"
   ]
  },
  {
   "cell_type": "markdown",
   "metadata": {},
   "source": [
    "Experiment 4: Max n = 2, Sim Threshold = 0.2, 0.17, 0.14, 0.11, 0.8"
   ]
  },
  {
   "cell_type": "code",
   "execution_count": null,
   "metadata": {},
   "outputs": [],
   "source": [
    "sum_real_data_exp_funcs.show_experiment_4('../Amazon-GoogleProducts/Amazon.csv', '../Amazon-GoogleProducts/GoogleProducts.csv',\"Median Over-estimation Rate vs Similarity Metric Quality\",2)\n",
    "\n",
    "\n"
   ]
  },
  {
   "cell_type": "markdown",
   "metadata": {},
   "source": [
    "- COUNT"
   ]
  },
  {
   "cell_type": "code",
   "execution_count": null,
   "metadata": {},
   "outputs": [],
   "source": [
    "count_real_data_exp_funcs.show_experiment_1_count('../Amazon-GoogleProducts/Amazon.csv', '../Amazon-GoogleProducts/GoogleProducts.csv', '../Amazon-GoogleProducts/modified_perfect_mapping_google_amazon.csv', \"Median Over-estimation Rate vs N\", 0.8)\n",
    "\n",
    "\n"
   ]
  },
  {
   "cell_type": "markdown",
   "metadata": {},
   "source": [
    "#### Abt - Buy Experiments"
   ]
  },
  {
   "cell_type": "markdown",
   "metadata": {},
   "source": [
    "- SUM"
   ]
  },
  {
   "cell_type": "markdown",
   "metadata": {},
   "source": [
    "Experiment 1: Max n=2, Sim Threshold = 0.3"
   ]
  },
  {
   "cell_type": "code",
   "execution_count": null,
   "metadata": {},
   "outputs": [],
   "source": [
    "sum_abt_buy_funcs.show_experiment_1_sum('../Abt-Buy/modified_abt.csv', '../Abt-Buy/modified_buy.csv', '../Abt-Buy/modified_perfect_mapping_abt_buy.csv', 'SUM: Max n = 5, True n <= 2', 0.3, 2, 5)\n",
    "\n"
   ]
  },
  {
   "cell_type": "markdown",
   "metadata": {},
   "source": [
    "Experiment 2: Max n = 1-6, Sim Threshold = 0.8"
   ]
  },
  {
   "cell_type": "code",
   "execution_count": null,
   "metadata": {},
   "outputs": [],
   "source": [
    "sum_abt_buy_funcs.show_experiment_2('../Amazon-GoogleProducts/Amazon.csv', '../Amazon-GoogleProducts/GoogleProducts.csv', '../Amazon-GoogleProducts/modified_perfect_mapping_abt_buy.csv', \"Median Over-estimation Rate vs N\", 0.8)\n",
    "\n"
   ]
  },
  {
   "cell_type": "markdown",
   "metadata": {},
   "source": [
    "Experiment 4: Max n = 2, Sim Threshold = 0.2, 0.17, 0.14, 0.11, 0.8"
   ]
  },
  {
   "cell_type": "code",
   "execution_count": null,
   "metadata": {},
   "outputs": [],
   "source": [
    "sum_abt_buy_funcs.show_experiment_4('../Amazon-GoogleProducts/Amazon.csv', '../Amazon-GoogleProducts/GoogleProducts.csv',\"Median Over-estimation Rate vs Similarity Metric Quality\",2)\n",
    "\n"
   ]
  },
  {
   "cell_type": "markdown",
   "metadata": {},
   "source": [
    "- COUNT"
   ]
  },
  {
   "cell_type": "markdown",
   "metadata": {},
   "source": [
    "Experiment: Count"
   ]
  },
  {
   "cell_type": "code",
   "execution_count": null,
   "metadata": {},
   "outputs": [],
   "source": [
    "count_real_data_exp_funcs.show_experiment_1_count('../Abt-Buy/modified_abt.csv', '../Abt-Buy/modified_buy.csv', '../Abt-Buy/modified_perfect_mapping_abt_buy.csv', 'COUNT: Max n = 3, True n <= 2', 0.3, 10)\n",
    "\n",
    "\n"
   ]
  },
  {
   "cell_type": "markdown",
   "metadata": {},
   "source": [
    "Experiment: Count Variation"
   ]
  },
  {
   "cell_type": "code",
   "execution_count": null,
   "metadata": {},
   "outputs": [],
   "source": [
    "count_real_data_exp_funcs.show_experiment_1_count_variation('../Abt-Buy/modified_abt.csv', '../Abt-Buy/modified_buy.csv', '../Abt-Buy/abt_buy_perfectMapping.csv', 'COUNT: Max n = 3, True n <= 2', 0.3, 10)\n",
    "\n"
   ]
  },
  {
   "cell_type": "markdown",
   "metadata": {},
   "source": [
    "#### DBLP-Scholar Experiments"
   ]
  },
  {
   "cell_type": "markdown",
   "metadata": {},
   "source": [
    "- COUNT"
   ]
  },
  {
   "cell_type": "code",
   "execution_count": null,
   "metadata": {},
   "outputs": [],
   "source": [
    "count_real_data_exp_funcs.show_experiment_1_count('../DBLP-Scholar/DBLP1.csv', '../DBLP-Scholar/Scholar.csv', '../DBLP-Scholar/modified_perfect_mapping_dblp_schoalr.csv', 'COUNT: Max n = 3, True n <= 4', 0.3)\n",
    "\n",
    "\n"
   ]
  }
 ],
 "metadata": {
  "kernelspec": {
   "display_name": "Python 3",
   "language": "python",
   "name": "python3"
  },
  "language_info": {
   "codemirror_mode": {
    "name": "ipython",
    "version": 3
   },
   "file_extension": ".py",
   "mimetype": "text/x-python",
   "name": "python",
   "nbconvert_exporter": "python",
   "pygments_lexer": "ipython3",
   "version": "3.7.6"
  }
 },
 "nbformat": 4,
 "nbformat_minor": 4
}
