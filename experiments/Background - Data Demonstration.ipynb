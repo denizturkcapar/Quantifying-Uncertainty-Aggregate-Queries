{
 "cells": [
  {
   "cell_type": "code",
   "execution_count": 1,
   "metadata": {},
   "outputs": [],
   "source": [
    "import experiment_funcs\n",
    "import experiment_visualizer\n",
    "import sum_real_data_exp_funcs"
   ]
  },
  {
   "cell_type": "code",
   "execution_count": null,
   "metadata": {},
   "outputs": [],
   "source": [
    "# experiment_funcs.create_csv_table(\"a_b_matching_outcome.csv\")\n",
    "table_a_non_duplicated, table_b, tables_map, data1_map, data2_map = sum_real_data_exp_funcs.data_to_df(\"../Background_Demonstration_Data/company_a_inventory.csv\", \"../Background_Demonstration_Data/company_b_inventory.csv\")\n",
    "\n",
    "result_perfmatch, joined_table, perf_match_dict = sum_real_data_exp_funcs.create_perfect_mapping(\"../Background_Demonstration_Data/perfect_matching_inventory.csv\", \"../Background_Demonstration_Data/company_a_inventory.csv\", \"../Background_Demonstration_Data/company_b_inventory.csv\")\n",
    "\n",
    "# Find perfect matching sum outcome for evaluation of the model (NOTE: current 1-1 limitations.)\n",
    "perfect_mapping_sum_result = sum_real_data_exp_funcs.find_perfect_sum_result(\"../Background_Demonstration_Data/perfect_matching_inventory.csv\", \"../Background_Demonstration_Data/company_a_inventory.csv\", \"../Background_Demonstration_Data/company_b_inventory.csv\")\n",
    "\n",
    "# Bipartite Matching Script\n",
    "total_max, total_min, bip_min_matching_time, bip_max_matching_time, out_max, out_min = sum_real_data_exp_funcs.realdata_sum_bip_script(table_a_non_duplicated, table_b, \"name\", 0.8,3, data1_map, data2_map)\n",
    "\n",
    "# Run Naive Matching Script\n",
    "naive_total_max, naive_total_min, naive_min_matching_time, naive_max_matching_time, naive_max, naive_min, res_naive_eval_max, res_naive_eval_min = sum_real_data_exp_funcs.realdata_sum_naive_script(0.8, \"../Background_Demonstration_Data/company_a_inventory.csv\", \"../Background_Demonstration_Data/company_b_inventory.csv\", table_a_non_duplicated, 3, \"naive_dup\")\n",
    "\n",
    "# Run Random Matching Script\n",
    "# sampled_total_max, sampled_total_min, sampled_min_matching_time, sampled_max_matching_time, sampled_max, sampled_min, res_sampled_eval_max, res_sampled_eval_min = sum_real_data_exp_funcs.realdata_sum_random_sample_script(0.8, 4, \"../Background_Demonstration_Data/company_a_inventory.csv\", \"../Background_Demonstration_Data/company_b_inventory.csv\", table_a_non_duplicated, 3, \"random_dup\")\n",
    "\n",
    "# Run Accuracy Evaluation\n",
    "eval_records = sum_real_data_exp_funcs.full_evaluation(out_min, out_max, res_naive_eval_min, res_naive_eval_max, result_perfmatch, perf_match_dict)\n",
    "\n",
    "# Record Experiment Results\n",
    "experiment_funcs.table_csv_output(total_min, total_max, naive_total_min, naive_total_max, perfect_mapping_sum_result, \"background_data_results\", bip_min_matching_time, bip_max_matching_time, naive_min_matching_time, naive_max_matching_time, eval_records)\n"
   ]
  },
  {
   "cell_type": "code",
   "execution_count": null,
   "metadata": {
    "scrolled": true
   },
   "outputs": [],
   "source": [
    "print(\"BP OUTCOME: \", total_max, total_min)\n",
    "print(\"MAX: \", out_max, \"\\n \\n MIN: \", out_min)\n",
    "\n",
    "print(\"\\n PC OUTCOME: \", naive_total_max, naive_total_min)\n",
    "print(\"MAX: \", naive_max, \"\\n \\n MIN: \", naive_min)\n",
    "\n",
    "# print(\"\\n RANDOM OUTCOME: \", sampled_total_max, sampled_total_min)\n",
    "# print(\"MAX: \", sampled_max, \"\\n \\n MIN: \", sampled_min)\n",
    "\n",
    "print(\"\\n Perfect Mapping Sum Outcome: \", perfect_mapping_sum_result)"
   ]
  },
  {
   "cell_type": "code",
   "execution_count": 2,
   "metadata": {
    "scrolled": false
   },
   "outputs": [
    {
     "name": "stdout",
     "output_type": "stream",
     "text": [
      "PERF MATCHING DICT:  {'ab1': 'de5', 'ab2': 'de9', 'ab3': 'de7'}\n",
      "JOINED TABLE defaultdict(<class 'list'>, {'ab1': [('Adobe premiere pro cs3 academic', 'a', 'b', 60.0)], 'ab2': [('Lego Star Wars Pack I II', 'a', 'b', 50.0)], 'ab3': [('Lego', 'a', 'b', 15.0)], 'de3': [('Adobe premiere pro cs3', 'd', 'e', 10.0)], 'de4': [('Adobe premiere pro cs3 academic', 'd', 'e', 61.0)], 'de5': [('Adobe premiere pro cs3 upgrade', 'd', 'e', 20.0)], 'de6': [('Lego Batman', 'd', 'e', 10.0)], 'de7': [('LEGO', 'd', 'e', 10.0)], 'de8': [('Lego Star Wars I II Pack ', 'd', 'e', 50.0)], 'de9': [('Lego Star Wars I II Edition', 'd', 'e', 5.0)]})\n",
      "PERF MATCHING DICT:  {'ab1': 'de5', 'ab2': 'de9', 'ab3': 'de7'}\n",
      "JOINED TABLE defaultdict(<class 'list'>, {'ab1': [('Adobe premiere pro cs3 academic', 'a', 'b', 60.0)], 'ab2': [('Lego Star Wars Pack I II', 'a', 'b', 50.0)], 'ab3': [('Lego', 'a', 'b', 15.0)], 'de3': [('Adobe premiere pro cs3', 'd', 'e', 10.0)], 'de4': [('Adobe premiere pro cs3 academic', 'd', 'e', 61.0)], 'de5': [('Adobe premiere pro cs3 upgrade', 'd', 'e', 20.0)], 'de6': [('Lego Batman', 'd', 'e', 10.0)], 'de7': [('LEGO', 'd', 'e', 10.0)], 'de8': [('Lego Star Wars I II Pack ', 'd', 'e', 50.0)], 'de9': [('Lego Star Wars I II Edition', 'd', 'e', 5.0)]})\n",
      "Perf Matching Count:  6\n",
      "MATCHED BIP RESULT:  {(\"Lego Batman_('d', 'e', 10.0)_2\", \"Lego Star Wars Pack I II_2_('a', 'b', 50.0)_1\"), (\"Adobe premiere pro cs3 academic_4_('a', 'b', 60.0)_1\", \"Adobe premiere pro cs3 academic_('d', 'e', 61.0)_2\"), (\"Lego Star Wars Pack I II_3_('a', 'b', 50.0)_1\", \"LEGO_('d', 'e', 10.0)_2\"), (\"Lego Star Wars I II Edition_('d', 'e', 5.0)_2\", \"Lego Star Wars Pack I II_0_('a', 'b', 50.0)_1\"), (\"Adobe premiere pro cs3 upgrade_('d', 'e', 20.0)_2\", \"Adobe premiere pro cs3 academic_3_('a', 'b', 60.0)_1\"), (\"Lego Star Wars I II Pack _('d', 'e', 50.0)_2\", \"Lego Star Wars Pack I II_4_('a', 'b', 50.0)_1\"), (\"Adobe premiere pro cs3_('d', 'e', 10.0)_2\", \"Adobe premiere pro cs3 academic_0_('a', 'b', 60.0)_1\")}\n",
      "BP Matching: Highest bound for maximum: 546.0\n",
      "BP Matching: Lowest bound for minimum: 285.0\n",
      "BP Max Match Count:  7\n",
      "BP Min Match Count:  6\n",
      "Performing compare all match (jaccard distance)...\n",
      "id1:  ab1 id2:  de4\n",
      "id1:  ab1 id2:  de5\n",
      "id1:  ab1 id2:  de3\n",
      "id1:  ab2 id2:  de8\n",
      "id1:  ab2 id2:  de6\n",
      "id1:  ab2 id2:  de7\n",
      "id1:  ab2 id2:  de9\n",
      "id1:  ab3 id2:  de8\n",
      "id1:  ab3 id2:  de6\n",
      "id1:  ab3 id2:  de7\n",
      "id1:  ab3 id2:  de9\n",
      "RES [('Adobe premiere pro cs3 academic', 'Adobe premiere pro cs3 academic', 'ab1', 'de4', 121.0), ('Adobe premiere pro cs3 academic', 'Adobe premiere pro cs3 upgrade', 'ab1', 'de5', 80.0), ('Adobe premiere pro cs3 academic', 'Adobe premiere pro cs3', 'ab1', 'de3', 70.0), ('Lego Star Wars Pack I II', 'Lego Star Wars I II Pack ', 'ab2', 'de8', 100.0), ('Lego Star Wars Pack I II', 'Lego Batman', 'ab2', 'de6', 60.0), ('Lego Star Wars Pack I II', 'LEGO', 'ab2', 'de7', 60.0), ('Lego Star Wars Pack I II', 'Lego Star Wars I II Edition', 'ab2', 'de9', 55.0), ('Lego', 'Lego Star Wars I II Pack ', 'ab3', 'de8', 65.0), ('Lego', 'Lego Batman', 'ab3', 'de6', 25.0), ('Lego', 'LEGO', 'ab3', 'de7', 25.0), ('Lego', 'Lego Star Wars I II Edition', 'ab3', 'de9', 20.0)]\n",
      "RES_WITHOUT_SUM [('ab1', 'de4'), ('ab1', 'de5'), ('ab1', 'de3'), ('ab2', 'de8'), ('ab2', 'de6'), ('ab2', 'de7'), ('ab2', 'de9'), ('ab3', 'de8'), ('ab3', 'de6'), ('ab3', 'de7'), ('ab3', 'de9')]\n",
      "Naive Jaccard Matching computation time taken:  0.001904  seconds \n",
      "\n",
      "Performing compare all match (jaccard distance)...\n",
      "id1:  ab1 id2:  de3\n",
      "id1:  ab2 id2:  de9\n",
      "id1:  ab3 id2:  de9\n",
      "RES [('Adobe premiere pro cs3 academic', 'Adobe premiere pro cs3', 'ab1', 'de3', 70.0), ('Lego Star Wars Pack I II', 'Lego Star Wars I II Edition', 'ab2', 'de9', 55.0), ('Lego', 'Lego Star Wars I II Edition', 'ab3', 'de9', 20.0)]\n",
      "RES_WITHOUT_SUM [('ab1', 'de3'), ('ab2', 'de9'), ('ab3', 'de9')]\n",
      "Naive Jaccard Matching computation time taken:  0.001728  seconds\n",
      "NAIVE MAX Matching Bound:  681.0\n",
      "NAIVE MIN Matching Bound:  145.0\n",
      "Naive Max Match Count:  11\n",
      "Naive Min Match Count 3\n",
      "naive min:  [('ab1', 'de3'), ('ab2', 'de9'), ('ab3', 'de9')]\n",
      "naive max:  [('ab1', 'de4'), ('ab1', 'de5'), ('ab1', 'de3'), ('ab2', 'de8'), ('ab2', 'de6'), ('ab2', 'de7'), ('ab2', 'de9'), ('ab3', 'de8'), ('ab3', 'de6'), ('ab3', 'de7'), ('ab3', 'de9')]\n",
      "MATCHING INSIDE EVAL_MATCHING {('ab3', 'de9'), ('ab2', 'de9'), ('ab1', 'de3')}\n",
      "PERFECT MAPPING {('ab2', 'de8'), ('ab1', 'de5'), ('ï»¿company A item id', 'company B item id'), ('ab3', 'de7'), ('ab2', 'de9'), ('ab1', 'de3'), ('ab1', 'de4')}\n",
      "MATCHING INSIDE EVAL_MATCHING {('ab2', 'de8'), ('ab3', 'de8'), ('ab2', 'de6'), ('ab3', 'de7'), ('ab1', 'de4'), ('ab2', 'de9'), ('ab2', 'de7'), ('ab3', 'de6'), ('ab1', 'de3'), ('ab3', 'de9'), ('ab1', 'de5')}\n",
      "PERFECT MAPPING {('ab2', 'de8'), ('ab1', 'de5'), ('ï»¿company A item id', 'company B item id'), ('ab3', 'de7'), ('ab2', 'de9'), ('ab1', 'de3'), ('ab1', 'de4')}\n",
      "naive_min_fp:  0.33 \n",
      " naive_min_fn:  0.71 \n",
      " naive_min_acc:  0.4\n",
      "naive_max_fp:  0.45 \n",
      " naive_max_fn:  0.14 \n",
      " naive_max_acc:  0.67\n"
     ]
    }
   ],
   "source": [
    "bp_sim = 0.9\n",
    "naive_sim = 0.9\n",
    "bp_n = 5\n",
    "naive_n = 5\n",
    "\n",
    "# experiment_funcs.create_csv_table(\"a_b_matching_outcome_2.csv\")\n",
    "table_a_non_duplicated, table_b, tables_map, data1_map, data2_map, name_to_id_dict_1, name_to_id_dict_2 = sum_real_data_exp_funcs.data_to_df(\"../Background_Demonstration_Data/modified_company_a_inventory.csv\", \"../Background_Demonstration_Data/modified_company_b_inventory.csv\")\n",
    "\n",
    "result_perfmatch, joined_table, perf_match_dict, name_to_id_dict = sum_real_data_exp_funcs.create_perfect_mapping(\"../Background_Demonstration_Data/modified_perfect_matching_inventory.csv\", \"../Background_Demonstration_Data/modified_company_a_inventory.csv\", \"../Background_Demonstration_Data/modified_company_b_inventory.csv\")\n",
    "\n",
    "# Find perfect matching sum outcome for evaluation of the model (NOTE: current 1-1 limitations.)\n",
    "perfect_mapping_sum_result = sum_real_data_exp_funcs.find_perfect_sum_result(\"../Background_Demonstration_Data/modified_perfect_matching_inventory.csv\", \"../Background_Demonstration_Data/modified_company_a_inventory.csv\", \"../Background_Demonstration_Data/modified_company_b_inventory.csv\")\n",
    "\n",
    "# Bipartite Matching Script\n",
    "total_max, total_min, bip_min_matching_time, bip_max_matching_time, out_max, out_min = sum_real_data_exp_funcs.realdata_sum_bip_script(table_a_non_duplicated, table_b, \"name\", bp_sim,bp_n, data1_map, data2_map)\n",
    "\n",
    "# Run Naive Matching Script\n",
    "naive_total_max, naive_total_min, naive_min_matching_time, naive_max_matching_time, naive_max, naive_min, res_naive_eval_max, res_naive_eval_min = sum_real_data_exp_funcs.realdata_sum_naive_script(naive_sim, \"../Background_Demonstration_Data/modified_company_a_inventory.csv\", \"../Background_Demonstration_Data/modified_company_b_inventory.csv\", table_a_non_duplicated, naive_n, \"naive_dup\")\n",
    "\n",
    "# Run Random Matching Script\n",
    "# sampled_total_max, sampled_total_min, sampled_min_matching_time, sampled_max_matching_time, sampled_max, sampled_min, res_sampled_eval_max, res_sampled_eval_min = sum_real_data_exp_funcs.realdata_sum_random_sample_script(0.7, 4, \"../Background_Demonstration_Data/modified_company_a_inventory.csv\", \"../Background_Demonstration_Data/modified_company_b_inventory.csv\", table_a_non_duplicated, 3, \"random_dup\")\n",
    "\n",
    "# Run Accuracy Evaluation\n",
    "eval_records = sum_real_data_exp_funcs.full_evaluation(out_min, out_max, res_naive_eval_min, res_naive_eval_max, result_perfmatch, perf_match_dict, joined_table, name_to_id_dict, name_to_id_dict_1, name_to_id_dict_2, \"../Background_Demonstration_Data/modified_perfect_matching_inventory.csv\")\n",
    "\n",
    "# Record Experiment Results\n",
    "experiment_funcs.table_csv_output(total_min, total_max, naive_total_min, naive_total_max, perfect_mapping_sum_result, \"background_data_results\", bip_min_matching_time, bip_max_matching_time, naive_min_matching_time, naive_max_matching_time, eval_records)\n",
    "\n",
    "\n"
   ]
  },
  {
   "cell_type": "code",
   "execution_count": null,
   "metadata": {},
   "outputs": [],
   "source": [
    "print(\"BP OUTCOME: \", total_max, total_min)\n",
    "print(\"MAX: \", out_max, \"\\n \\n MIN: \", out_min)\n",
    "\n",
    "print(\"\\n PC OUTCOME: \", naive_total_max, naive_total_min)\n",
    "print(\"MAX: \", naive_max, \"\\n \\n MIN: \", naive_min)\n",
    "\n",
    "# print(\"\\n RANDOM OUTCOME: \", sampled_total_max, sampled_total_min)\n",
    "# print(\"MAX: \", sampled_max, \"\\n \\n MIN: \", sampled_min)\n",
    "\n",
    "print(\"\\n Perfect Mapping Sum Outcome: \", perfect_mapping_sum_result)"
   ]
  },
  {
   "cell_type": "code",
   "execution_count": null,
   "metadata": {},
   "outputs": [],
   "source": [
    "\n",
    "\n",
    "\n",
    "\n",
    "\n",
    "sum_real_data_exp_funcs.show_experiment_1_sum(\"../Background_Demonstration_Data/modified_company_a_inventory.csv\", \"../Background_Demonstration_Data/modified_company_b_inventory.csv\", \"../Background_Demonstration_Data/modified_perfect_matching_inventory.csv\", 'SUM: Max n = 5, True n <= 5', 0.9, 5, 5)\n",
    "\n",
    "\n",
    "\n",
    "\n",
    "\n",
    "\n"
   ]
  },
  {
   "cell_type": "code",
   "execution_count": null,
   "metadata": {},
   "outputs": [],
   "source": []
  },
  {
   "cell_type": "code",
   "execution_count": null,
   "metadata": {
    "scrolled": true
   },
   "outputs": [],
   "source": [
    "\n",
    "\n",
    "\n",
    "real_data_1_to_n_sum_results(\"../Background_Demonstration_Data/modified_company_a_inventory\", \"../Background_Demonstration_Data/modified_company_b_inventory\",\"../Background_Demonstration_Data/modified_perfect_matching_inventory\",\"modified_a_b_matching_outcome\", 0.7,0.7,0.7,5,5,5,5,100, 100)\n",
    "\n",
    "\n",
    "\n",
    "\n",
    "\n",
    "\n"
   ]
  }
 ],
 "metadata": {
  "kernelspec": {
   "display_name": "Python 3",
   "language": "python",
   "name": "python3"
  },
  "language_info": {
   "codemirror_mode": {
    "name": "ipython",
    "version": 3
   },
   "file_extension": ".py",
   "mimetype": "text/x-python",
   "name": "python",
   "nbconvert_exporter": "python",
   "pygments_lexer": "ipython3",
   "version": "3.7.6"
  }
 },
 "nbformat": 4,
 "nbformat_minor": 4
}
